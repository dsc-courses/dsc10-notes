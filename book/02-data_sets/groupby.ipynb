{
 "cells": [
  {
   "cell_type": "markdown",
   "metadata": {},
   "source": [
    "# Calculations on Groups"
   ]
  },
  {
   "cell_type": "markdown",
   "metadata": {},
   "source": [
    "The [WIFIRE Lab](https://wifire.ucsd.edu/index.php/) uses footage streamed from a collection of wireless cameras across California to research and model the spread of wildfires. Suppose WIFIRE has a new camera, and they want to send it to whichever county has the largest fires -- they've asked you calculate the average fire size for each of the counties.\n",
    "\n",
    "We know from the basics of querying that we can ask for just the rows of a single county and then calculate the average fire size in acres using some of the Series calculations we've learned about. Let's do this for San Diego County."
   ]
  },
  {
   "cell_type": "code",
   "execution_count": null,
   "metadata": {},
   "outputs": [],
   "source": [
    "import babypandas as bpd\n",
    "\n",
    "fires = bpd.read_csv(\"data/calfire-full.csv\").set_index(\"name\")"
   ]
  },
  {
   "cell_type": "code",
   "execution_count": null,
   "metadata": {},
   "outputs": [],
   "source": [
    "fires"
   ]
  },
  {
   "cell_type": "code",
   "execution_count": null,
   "metadata": {},
   "outputs": [],
   "source": [
    "san_diego = fires.loc[fires.get('county') == 'San Diego County']\n",
    "san_diego.get('acres').mean()"
   ]
  },
  {
   "cell_type": "markdown",
   "metadata": {},
   "source": [
    "And we could use the same pattern to find the average fire size for Yolo County."
   ]
  },
  {
   "cell_type": "code",
   "execution_count": null,
   "metadata": {},
   "outputs": [],
   "source": [
    "yolo = fires.loc[fires.get('county') == 'Yolo County']\n",
    "yolo.get('acres').mean()"
   ]
  },
  {
   "cell_type": "markdown",
   "metadata": {},
   "source": [
    "And we could write the same pattern for every county in our dataset...\n",
    "\n",
    "As you can imagine, we don't want this querying process to be so manual. Namely, it'll take a ton of time to write, a ton of time to run, and requires us to look at the dataset and find the name of all of the counties.\n",
    "\n",
    "How many counties are there again? Yikes."
   ]
  },
  {
   "cell_type": "code",
   "execution_count": null,
   "metadata": {},
   "outputs": [],
   "source": [
    "fires.get('county').unique()"
   ]
  },
  {
   "cell_type": "markdown",
   "metadata": {},
   "source": [
    "Fortunately, this pattern is common enough that it has a special function to carry it out."
   ]
  },
  {
   "cell_type": "markdown",
   "metadata": {},
   "source": [
    "## GroupBy"
   ]
  },
  {
   "cell_type": "markdown",
   "metadata": {},
   "source": [
    "Whenever we want to perform a calculation on all the rows that belong to a single *group*, and we want to perform that calculation across all of our groups, we can use the `.groupby` function.\n",
    "\n",
    "```html\n",
    "<table>.groupby('<column_name>').<calculation>()\n",
    "```"
   ]
  },
  {
   "cell_type": "markdown",
   "metadata": {},
   "source": [
    "When we call `.groupby` on a DataFrame, we pass a column name as the argument and are essentially telling Babypandas to split up our DataFrame based on the values of that column. Any rows which have the same value in that column will show up in the same group."
   ]
  },
  {
   "cell_type": "code",
   "execution_count": null,
   "metadata": {},
   "outputs": [],
   "source": [
    "fires.groupby('county')"
   ]
  },
  {
   "cell_type": "markdown",
   "metadata": {},
   "source": [
    "We don't get a table back when doing this step. Instead, we get a special type of object which serves as a placeholder for the next step.\n",
    "\n",
    "The groupby object owns a handful of methods that we can use to perform calculations on each group, such as `.mean`, `.sum`, `.max`, and `.count` -- the count method simply counts how many rows there are in each group. Notice that all of these calculations only return *one* number for each group. So once the function operates on a group all of the rows in that group essentially get condensed -- or *aggregated* --into a single row. For this reason, these calculations are called {dterm}`aggregation functions`."
   ]
  },
  {
   "cell_type": "markdown",
   "metadata": {},
   "source": [
    "```{note}\n",
    "You may already know of these calculations by a different name: 'summary statistics'. These are ways to summarize certain aspects of the data into a single number.\n",
    "```"
   ]
  },
  {
   "cell_type": "code",
   "execution_count": null,
   "metadata": {},
   "outputs": [],
   "source": [
    "fires.groupby('county').mean()"
   ]
  },
  {
   "cell_type": "markdown",
   "metadata": {},
   "source": [
    "Woah there, we only wanted to look at the average acres burnt across each county but we got the average of every numeric column.\n",
    "\n",
    "This is because the function called on the groupby object will indeed attempt to apply to all the columns. Our original table also has 'unit' and 'cause' columns which both contain strings, but we're not seeing the average cause show up because you can't take the mean of strings! So, the aggregation function applies to all *possible* columns and just drops the rest.\n",
    "\n",
    "To avoid confusion, and to avoid forcing the computer to do unneccessary work, it's a good practice to select only the columns you need before conducting the groupby -- you should select the column you want to group by, and any columns you want to perform the aggregation function on."
   ]
  },
  {
   "cell_type": "code",
   "execution_count": null,
   "metadata": {},
   "outputs": [],
   "source": [
    "counties_and_acres = fires.get(['county', 'acres'])\n",
    "counties_and_acres.groupby('county').mean()"
   ]
  },
  {
   "cell_type": "markdown",
   "metadata": {},
   "source": [
    "Much better."
   ]
  },
  {
   "cell_type": "markdown",
   "metadata": {},
   "source": [
    "[index is replaced by the grouping column]"
   ]
  },
  {
   "cell_type": "markdown",
   "metadata": {},
   "source": [
    "```{jupytertip}\n",
    "What are all of the methods you can call on a groupby object? Type `.` after a groupby object then press {kbd}`Tab` to see them. Note that some of the possible functions you can use are *not* aggregation functions\n",
    "[just like string methods, can do `.` on a groupby object then press {kbd}`Tab` to see all of the possible functions that can be used.]\n",
    "```"
   ]
  },
  {
   "cell_type": "markdown",
   "metadata": {},
   "source": [
    "## Grouping by multiple columns"
   ]
  },
  {
   "cell_type": "markdown",
   "metadata": {},
   "source": [
    "[motivating example] [now multiple levels to the index]"
   ]
  },
  {
   "cell_type": "code",
   "execution_count": null,
   "metadata": {},
   "outputs": [],
   "source": []
  }
 ],
 "metadata": {
  "kernelspec": {
   "display_name": "Python 3",
   "language": "python",
   "name": "python3"
  },
  "language_info": {
   "codemirror_mode": {
    "name": "ipython",
    "version": 3
   },
   "file_extension": ".py",
   "mimetype": "text/x-python",
   "name": "python",
   "nbconvert_exporter": "python",
   "pygments_lexer": "ipython3",
   "version": "3.8.3"
  }
 },
 "nbformat": 4,
 "nbformat_minor": 4
}
