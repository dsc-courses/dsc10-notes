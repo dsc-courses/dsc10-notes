{
 "cells": [
  {
   "cell_type": "markdown",
   "metadata": {},
   "source": [
    "# Calculations on Groups"
   ]
  },
  {
   "cell_type": "markdown",
   "metadata": {},
   "source": [
    "The [WIFIRE Lab](https://wifire.ucsd.edu/index.php/) uses footage streamed from a collection of wireless cameras across California to research and model the spread of wildfires. Suppose WIFIRE plans to send a new camera [to a county, want it to have impact and be where the most fires are -- and they've asked you to determine which county has the largest average fire size.]\n",
    "\n",
    "[we know from the basics of querying that we can ask for just the rows of a certain county, and then we can find the average fire size (number of fires?) of, say, San Diego.]"
   ]
  },
  {
   "cell_type": "code",
   "execution_count": null,
   "metadata": {},
   "outputs": [],
   "source": [
    "import babypandas as bpd\n",
    "\n",
    "fires = bpd.read_csv(\"data/calfire-full.csv\").set_index(\"name\")"
   ]
  },
  {
   "cell_type": "code",
   "execution_count": null,
   "metadata": {},
   "outputs": [],
   "source": [
    "san_diego = fires.loc[fires.get('county') == 'San Diego County']\n",
    "san_diego.get('acres').mean()"
   ]
  },
  {
   "cell_type": "markdown",
   "metadata": {},
   "source": [
    "And we could do the same pattern for Yolo County."
   ]
  },
  {
   "cell_type": "code",
   "execution_count": null,
   "metadata": {},
   "outputs": [],
   "source": [
    "yolo = fires.loc[fires.get('county') == 'Yolo County']\n",
    "yolo.get('acres').mean()"
   ]
  },
  {
   "cell_type": "markdown",
   "metadata": {},
   "source": [
    "And we could write the same pattern for every county in our dataset... but that has a few issues. Namely, it'll take a ton of time to write, a ton of time to run, and requires us to look at the dataset and find the name of all of the counties.\n",
    "\n",
    "How many counties are there again? Yikes."
   ]
  },
  {
   "cell_type": "code",
   "execution_count": null,
   "metadata": {},
   "outputs": [],
   "source": [
    "fires.get('county').unique()"
   ]
  },
  {
   "cell_type": "markdown",
   "metadata": {},
   "source": [
    "Fortunately, this pattern is common enough that it has a special function to carry it out."
   ]
  },
  {
   "cell_type": "markdown",
   "metadata": {},
   "source": [
    "## GroupBy"
   ]
  },
  {
   "cell_type": "markdown",
   "metadata": {},
   "source": [
    "Whenever we want to perform a calculation on all the rows that belong to a single *group*, and we want to perform that calculation across all of our groups, we can use the `.groupby` function."
   ]
  },
  {
   "cell_type": "code",
   "execution_count": null,
   "metadata": {},
   "outputs": [],
   "source": [
    "fires.groupby('county').mean().get('acres')"
   ]
  },
  {
   "cell_type": "markdown",
   "metadata": {},
   "source": [
    "When we call `.groupby` on a DataFrame, we pass a column name as the argument and are essentially telling Babypandas to group up our DataFrame based on the values of that column. Any rows that have the same value in that column will show up in the same group."
   ]
  },
  {
   "cell_type": "code",
   "execution_count": null,
   "metadata": {},
   "outputs": [],
   "source": [
    "fires.groupby('county')"
   ]
  },
  {
   "cell_type": "markdown",
   "metadata": {},
   "source": [
    "Notice that we don't get a table back when doing this step. Instead, we get a special type of object which serves as a placeholder for the next step.\n",
    "\n",
    "The groupby object owns a handful of methods that we can use to perform calculations, such as `.mean`, `.sum`, `.max`, and `.count`. [once we use these, the groups will be aggregated into that calculation across all possible columns. for that reason we call them {dterm}`aggregation functions`.]"
   ]
  },
  {
   "cell_type": "markdown",
   "metadata": {},
   "source": [
    "```{jupytertip}\n",
    "[just like string methods, can do `.` on a groupby object then press {kbd}`Tab` to see all of the possible functions that can be used.]\n",
    "```"
   ]
  },
  {
   "cell_type": "markdown",
   "metadata": {},
   "source": [
    "[does it for all columns] [index changes]"
   ]
  },
  {
   "cell_type": "markdown",
   "metadata": {},
   "source": [
    "## Grouping by multiple columns"
   ]
  },
  {
   "cell_type": "markdown",
   "metadata": {},
   "source": []
  }
 ],
 "metadata": {
  "kernelspec": {
   "display_name": "Python 3",
   "language": "python",
   "name": "python3"
  },
  "language_info": {
   "codemirror_mode": {
    "name": "ipython",
    "version": 3
   },
   "file_extension": ".py",
   "mimetype": "text/x-python",
   "name": "python",
   "nbconvert_exporter": "python",
   "pygments_lexer": "ipython3",
   "version": "3.8.3"
  }
 },
 "nbformat": 4,
 "nbformat_minor": 4
}
