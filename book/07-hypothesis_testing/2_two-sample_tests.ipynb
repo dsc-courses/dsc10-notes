{
 "cells": [
  {
   "cell_type": "markdown",
   "metadata": {},
   "source": [
    "# Testing differences between two groups"
   ]
  },
  {
   "cell_type": "markdown",
   "metadata": {},
   "source": [
    "## Motivating example"
   ]
  },
  {
   "cell_type": "markdown",
   "metadata": {},
   "source": [
    "## A tale of two samples"
   ]
  },
  {
   "cell_type": "markdown",
   "metadata": {},
   "source": [
    "Often we'll find ourselves with two samples drawn from what we assume have the same underlying population shape. In traditional science classes you've probably seen this scenario as having measurements from both a control group and a treatment group.\n",
    "\n",
    "Each group has an observed sample statistic, and we may notice the two observed statistics differ substantially.\n",
    "\n",
    "![](../images/two-samples.png)"
   ]
  },
  {
   "cell_type": "markdown",
   "metadata": {},
   "source": [
    "Our question: *could sample A and sample B have really come from the same underlying population?*"
   ]
  },
  {
   "cell_type": "markdown",
   "metadata": {},
   "source": [
    "Using what we've learned about hypothesis tests, let's dig deeper into this question. Recall that our {dterm}`null hypothesis` always proposes that differences between observations and expectations are due solely to random chance. Under the null we assume that both samples were drawn from the same underlying distribution.\n",
    "\n",
    "Therefore, when we decide to run a test that challenges the null, we're really wondering: *is it likely that random chance alone caused statistic A and statistic B to be so different?*\n",
    "\n",
    "If it's unlikely, then we'll reject the null and move to the alternative. In this setting, the {dterm}`alternative hypothesis` suggests that there is truly a difference between the population distributions each group belongs to -- and so of course we'll observe different sample statistics.\n",
    "\n",
    "```{note}\n",
    "A belief in the alternative hypothesis is a belief that the value of some individual is somehow *related* to which group that individual is a member of.\n",
    "\n",
    "As we'll soon see, this test is one of the pillars that can allow us to establish causation -- demonstrating that membership in a group is not only related to an individual's measurement, but actually *causes* that value to change.\n",
    "```"
   ]
  },
  {
   "cell_type": "markdown",
   "metadata": {},
   "source": [
    "## Choosing a statistic and declaring our hypotheses"
   ]
  },
  {
   "cell_type": "markdown",
   "metadata": {},
   "source": [
    "Recall the general requirements for conducting a hypothesis test. We need to be able to:\n",
    "1. Observe a statistic from the collected data (in this case *both* samples form our total data)\n",
    "2. Generate new values of the test statistic under the assumptions of the null hypothesis"
   ]
  },
  {
   "cell_type": "markdown",
   "metadata": {},
   "source": [
    "The test statistic of choice must capture both samples in a single number. At the same time, this statistic must somehow represent the magnitude of difference between the samples. The easiest way to accomplish these demands is to measure the **difference in sample statistics** between the two samples."
   ]
  },
  {
   "cell_type": "markdown",
   "metadata": {},
   "source": [
    "![difference between sample statistics]()"
   ]
  },
  {
   "cell_type": "markdown",
   "metadata": {},
   "source": [
    "- H0: statistic from A - statistic from B = 0\n",
    "- H1: statistic from A - statistic from B !=/</> 0"
   ]
  },
  {
   "cell_type": "markdown",
   "metadata": {},
   "source": [
    "## Permuting to generate new test statistics"
   ]
  },
  {
   "cell_type": "markdown",
   "metadata": {},
   "source": [
    "Now we must generate new values of this test statistic under the null... how do we do that?\n",
    "\n",
    "In the previous one-sample hypothesis test, we had a model for the exact shape of the assumed population since we wanted to check if our sample came from *a specific* population. This allowed us to directly generate new data from that distribution.\n",
    "\n",
    "In this two-sample case, we're only curious if the two samples have *the same* underlying population. Our assumptions about the underlying population have eroded such that we no longer assume -- or care, really -- what the distribution looks like. Without a distribution to utilize, we cannot generate any new data."
   ]
  },
  {
   "cell_type": "markdown",
   "metadata": {},
   "source": [
    "Not to despair, while we can't generate new individual measurements, we can still generate new values of the *test statistic* under the null hypothesis!"
   ]
  },
  {
   "cell_type": "markdown",
   "metadata": {},
   "source": [
    "The main concept is this: *if there's truly no difference between the groups, then it shouldn't matter which group each measurement came from*"
   ]
  },
  {
   "cell_type": "markdown",
   "metadata": {},
   "source": [
    "- what permutation testing allows us to do is squeeze out more samples from the sample we already collected\n",
    "- {a look ahead} similar concept to bootstrapping!"
   ]
  },
  {
   "cell_type": "code",
   "execution_count": null,
   "metadata": {},
   "outputs": [],
   "source": []
  }
 ],
 "metadata": {
  "kernelspec": {
   "display_name": "Python 3",
   "language": "python",
   "name": "python3"
  },
  "language_info": {
   "codemirror_mode": {
    "name": "ipython",
    "version": 3
   },
   "file_extension": ".py",
   "mimetype": "text/x-python",
   "name": "python",
   "nbconvert_exporter": "python",
   "pygments_lexer": "ipython3",
   "version": "3.8.3"
  }
 },
 "nbformat": 4,
 "nbformat_minor": 4
}
