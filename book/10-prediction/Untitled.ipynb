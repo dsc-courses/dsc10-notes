{
 "cells": [
  {
   "cell_type": "markdown",
   "metadata": {},
   "source": [
    "- regression gets introduce halfway through the quarter when apply is introduced -- they the mean over slices of the data and make the regression line\n",
    "- galton data is used\n",
    "\n",
    "- we can make the data the center of the chapter -- e.g. \"Regression to the Mean\"\n",
    "\n",
    "\n",
    "- correlation\n",
    "    - often teach with a scatterplot\n",
    "    - intuitive\n",
    "    - if we take standard units, then it centers it around avg,avg\n",
    "    - larger x means bigger than average\n",
    "    - notice that if things are moving in the same direction then positive\\*positive = positive or negative\\*negative = positive, so correlation meausres how much things are moving in the same direction\n",
    "    - \\- | +  \n",
    "      \\+ | -\n",
    "    - scatterplot of ice cream cones and temperature, plot normal and in standard units -- no effect on the shape! just shifts it and normalizes units\n",
    "    - try to use one example with positive and one with negative\n",
    "    \n",
    "    - we want to quantify how strong, positive, and negative\n",
    "    - here's one way -- correlation coefficient\n",
    "    \n",
    "    - could show plots with different correlations\n",
    "    \n",
    "    - correlation only meaningful for linear trends\n",
    "        - you *can* compute this for non-linear, but doesn't mean much\n",
    "        - we should only use this *if we already assume there's a linear relationship* (think Anscombes)\n",
    "    - association can exist \n",
    "    \n",
    "    \n",
    "- predictions\n",
    "    - if we have a notion that two variables are related, we can hopefully use that relation to predict on variable using another\n",
    "    - example: if you were to guess the y for this x, you'd put it in the middle of this cloud\n",
    "    - if we believe linearly associated, then the trend is a straight line\n",
    "    - let's find the equation for that line\n",
    "\n",
    "    - that line will always go through the origin (after stdize)\n",
    "    - just the slope will change\n",
    "    \n",
    "    - happens that the correlation coefficient is a pretty good choice for this slope, it does well\n",
    "        - can plot it out, great!\n",
    "    - show how to make predictions with this line\n",
    "    \n",
    "- outline the process\n",
    "    - get data set, verify linear trend, convert to standard units, compute correlation and eqn, then convert back\n",
    "    - can we get an equation that works in normal units?\n",
    "        - least squares\n",
    "        \n",
    "- don't need to cover CI for regression\n",
    "\n",
    "- should add some interpretation of the regression line\n",
    "\n",
    "- \"regression to the mean\"\n",
    "    - if the value of x is above avg, then y will also be above avg\n",
    "    - *BUT*, unless the coefficient is perfectly 1.0, then the \n",
    "    - e.g. with heights, even if both x and y are 2stdvs above mean, it doesn't mean the child will be 2stdvs "
   ]
  },
  {
   "cell_type": "code",
   "execution_count": null,
   "metadata": {},
   "outputs": [],
   "source": []
  }
 ],
 "metadata": {
  "kernelspec": {
   "display_name": "Python 3",
   "language": "python",
   "name": "python3"
  },
  "language_info": {
   "codemirror_mode": {
    "name": "ipython",
    "version": 3
   },
   "file_extension": ".py",
   "mimetype": "text/x-python",
   "name": "python",
   "nbconvert_exporter": "python",
   "pygments_lexer": "ipython3",
   "version": "3.8.3"
  }
 },
 "nbformat": 4,
 "nbformat_minor": 4
}
