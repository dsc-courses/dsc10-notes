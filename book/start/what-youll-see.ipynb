{
 "cells": [
  {
   "cell_type": "markdown",
   "metadata": {},
   "source": [
    "# What You Might See"
   ]
  },
  {
   "cell_type": "markdown",
   "metadata": {},
   "source": [
    "When you're reading this, things may show up a bit differently on the webpage and book than in a notebook.\n",
    "\n",
    "This is because when the book is 'built' from source code, it can parse these wonderful things called \"directives\".\n",
    "\n",
    "```{note}\n",
    "This is an example of one!\n",
    "```"
   ]
  },
  {
   "cell_type": "markdown",
   "metadata": {},
   "source": [
    "We'll also supply you with a personal knowledge check from time to time -- don't worry, this isn't going to hurt you!"
   ]
  },
  {
   "cell_type": "markdown",
   "metadata": {
    "raw_mimetype": "text/restructuredtext"
   },
   "source": [
    "```{eqt} example-quiz\n",
    "   \n",
    "   **Test your knowledge!** Please choose answer (B).\n",
    "\n",
    "   1. {eqt}`I` A\n",
    "   2. {eqt}`C` B {expl}`I'm pretty sure I asked you to choose this one...`\n",
    "   3. {eqt}`I` C\n",
    "   4. {eqt}`I` D\n",
    "```"
   ]
  },
  {
   "cell_type": "markdown",
   "metadata": {},
   "source": [
    "See, easy!"
   ]
  }
 ],
 "metadata": {
  "kernelspec": {
   "display_name": "Python 3",
   "language": "python",
   "name": "python3"
  },
  "language_info": {
   "codemirror_mode": {
    "name": "ipython",
    "version": 3
   },
   "file_extension": ".py",
   "mimetype": "text/x-python",
   "name": "python",
   "nbconvert_exporter": "python",
   "pygments_lexer": "ipython3",
   "version": "3.8.3"
  }
 },
 "nbformat": 4,
 "nbformat_minor": 4
}
