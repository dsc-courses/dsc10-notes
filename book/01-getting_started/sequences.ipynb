{
 "cells": [
  {
   "cell_type": "markdown",
   "metadata": {},
   "source": [
    "# Collections of Data - Sequences"
   ]
  },
  {
   "cell_type": "markdown",
   "metadata": {},
   "source": [
    "Now we have a decent understanding of individual data values in Python. But, as a data scientist you'll need to work with an entire set of data values -- not just one!\n",
    "\n",
    "We can start heading towards the notion of a 'data set' by learning how to create collections of values."
   ]
  },
  {
   "cell_type": "markdown",
   "metadata": {},
   "source": [
    "## Lists"
   ]
  },
  {
   "cell_type": "markdown",
   "metadata": {},
   "source": [
    "In Python, the simplest way to make a collection is by creating a list. You can do this by surrounding a group of items with square brackets, `[ ]`, and separating each item with a comma `,`. Any data type is allowed inside a list (including other lists)!"
   ]
  },
  {
   "cell_type": "code",
   "execution_count": null,
   "metadata": {},
   "outputs": [],
   "source": [
    "my_amazing_list = ['one', True, 3, [5.0 - 1.0]]\n",
    "my_amazing_list"
   ]
  },
  {
   "cell_type": "code",
   "execution_count": null,
   "metadata": {},
   "outputs": [],
   "source": [
    "type(my_amazing_list)"
   ]
  },
  {
   "cell_type": "markdown",
   "metadata": {},
   "source": [
    "The end result is an ordered sequence of items that we can read from beginning to end. Each item has a position, called an **index** which starts at 0. So the in the list above which as four elements, the first element has index 0 and the last element has index 3."
   ]
  },
  {
   "cell_type": "markdown",
   "metadata": {},
   "source": [
    "Now that your amazing list is created, it's possible to add, remove, reorder, and search for items in the list, as well as calculate some interesting statistics!"
   ]
  },
  {
   "cell_type": "markdown",
   "metadata": {},
   "source": [
    "### Functions on lists"
   ]
  },
  {
   "cell_type": "markdown",
   "metadata": {},
   "source": [
    "Collections are handy because they allow us to perform calculations that require multiple pieces of data to be computed.\n",
    "\n",
    "For instance, if you've been keeping track of the hours of sleep you get each night for the past week (Monday to Sunday), you might be interested in the shortest and longest amount of time you slept.  Neither of these calculations can be done easily with simple expressions, but they can be done easily calling a function on a list!\n",
    "\n",
    "Let's start by creating our collection of data and assigning it to a meaningful name."
   ]
  },
  {
   "cell_type": "code",
   "execution_count": null,
   "metadata": {},
   "outputs": [],
   "source": [
    "hours_slept = [8, 7, 7, 8, 5, 8, 9]"
   ]
  },
  {
   "cell_type": "markdown",
   "metadata": {},
   "source": [
    "Some functions are specifically designed to perform calculations on sequences. For example, `max` and `min` are functions that will find the largest or smallest item in a list, respectively.\n",
    "\n",
    "If we're curious what the longest number of hours you slept last week was, we can pass our list into the `max` function."
   ]
  },
  {
   "cell_type": "code",
   "execution_count": null,
   "metadata": {},
   "outputs": [],
   "source": [
    "max([8, 7, 7, 8, 5, 8, 9])"
   ]
  },
  {
   "cell_type": "markdown",
   "metadata": {},
   "source": [
    "And if we want to find the shortest number of hours you slept, then we can use the `min` function on our list. It was tedious to type out all the hours when we calculated the max, so let's take the smarter route and just use the variable name of our collection instead."
   ]
  },
  {
   "cell_type": "code",
   "execution_count": null,
   "metadata": {},
   "outputs": [],
   "source": [
    "min(hours_slept)"
   ]
  },
  {
   "cell_type": "markdown",
   "metadata": {},
   "source": [
    "We can also calculate the total number of hours we slept last week by using `sum`, and we can find out the number of items in a list by using `len`. Feel free to play with these functions in the interactive notebook!"
   ]
  },
  {
   "cell_type": "markdown",
   "metadata": {},
   "source": [
    "````{hiddenanswer}\n",
    "---\n",
    "question: Using `sum` and `len` how would you write an expression that calculates the average number of hours you slept last week?\n",
    "answer: |\n",
    "    ```\n",
    "    sum(hours_slept) / len(hours_slept)\n",
    "    ```\n",
    "    7.857142857142857\n",
    "````"
   ]
  },
  {
   "cell_type": "markdown",
   "metadata": {},
   "source": [
    "Finally, just like strings had their own set of special functions (called methods), lists have their own set of methods.\n",
    "\n",
    "These methods allow us to do things like add and remove items from the list. We'll go over these methods later when we need them!"
   ]
  },
  {
   "cell_type": "markdown",
   "metadata": {},
   "source": [
    "### Selecting items from a list"
   ]
  },
  {
   "cell_type": "markdown",
   "metadata": {},
   "source": [
    "Recall that every item in a sequence has an **index** -- this is how the computer stores its position in the sequence. Indices (plural of index) start at 0.\n",
    "\n",
    "To grab a specific item from a list, we can use square brackets containing the index of the item we want."
   ]
  },
  {
   "cell_type": "code",
   "execution_count": null,
   "metadata": {},
   "outputs": [],
   "source": [
    "days_of_the_week = [\n",
    "    'Monday',\n",
    "    'Tuesday',\n",
    "    'Wednesday',\n",
    "    'Thursday',\n",
    "    'Friday',\n",
    "    'Saturday',\n",
    "    'Sunday'\n",
    "]"
   ]
  },
  {
   "cell_type": "code",
   "execution_count": null,
   "metadata": {},
   "outputs": [],
   "source": [
    "days_of_the_week[0]"
   ]
  },
  {
   "cell_type": "code",
   "execution_count": null,
   "metadata": {},
   "outputs": [],
   "source": [
    "days_of_the_week[len(days_of_the_week) - 1]"
   ]
  },
  {
   "cell_type": "markdown",
   "metadata": {},
   "source": [
    "Notice that if we try to select an item from an index that's outside of the list, we'll get a helpful `IndexError`."
   ]
  },
  {
   "cell_type": "code",
   "execution_count": null,
   "metadata": {
    "tags": [
     "raises-exception"
    ]
   },
   "outputs": [],
   "source": [
    "days_of_the_week[7]"
   ]
  },
  {
   "cell_type": "markdown",
   "metadata": {},
   "source": [
    "## Arrays"
   ]
  },
  {
   "cell_type": "markdown",
   "metadata": {},
   "source": [
    "Python’s lists are useful and easy to work with, but can be slow. As data scientists, we will eventually be working with sequences of millions, if not billions, of entries -- so speed is of the essence. Additionally, a lot of the calculations we've seen above aren't going to work if our list contains mixed types! After all, have you ever tried calculating the sum of `2` and `'orange'`?"
   ]
  },
  {
   "cell_type": "markdown",
   "metadata": {},
   "source": [
    "The numerical analysis library `numpy` fixes this by introducing a new type of sequence: *arrays*. Let's import the `numpy` library (calling it `np` just to make it quicker to type) and get started!"
   ]
  },
  {
   "cell_type": "code",
   "execution_count": null,
   "metadata": {},
   "outputs": [],
   "source": [
    "import numpy as np"
   ]
  },
  {
   "cell_type": "markdown",
   "metadata": {},
   "source": [
    "```{tip}\n",
    "Avoid the embrassment -- it's pronounced \"num-pie\"  \n",
    "<small>(not \"num-pee\")</small>\n",
    "```"
   ]
  },
  {
   "cell_type": "markdown",
   "metadata": {},
   "source": [
    "Arrays are stricter than lists, with two main restrictions that are instantly noticeable:\n",
    "\n",
    "1. All of the items need to be the same data type\n",
    "2. One created, we cannot directly add or remove items\n",
    "\n",
    "However, NumPy arrays offer incredible power and speed which have made them one of the most commonly used collections in data science."
   ]
  },
  {
   "cell_type": "markdown",
   "metadata": {},
   "source": [
    "A lot of the same concepts from lists carry over when trying to understand arrays. In fact, to create an array we pass in a list to the `np.array()` function."
   ]
  },
  {
   "cell_type": "code",
   "execution_count": null,
   "metadata": {},
   "outputs": [],
   "source": [
    "hours_slept_array = np.array([8, 7, 7, 8, 5, 8, 9])\n",
    "hours_slept_array"
   ]
  },
  {
   "cell_type": "markdown",
   "metadata": {},
   "source": [
    "Arrays can also contain other types of data, like strings or bools or other arrays, *but* remember that a single array can only contain a single type of data."
   ]
  },
  {
   "cell_type": "code",
   "execution_count": null,
   "metadata": {},
   "outputs": [],
   "source": [
    "np.array(['this', 'is', 'also', 'fine'])"
   ]
  },
  {
   "cell_type": "markdown",
   "metadata": {},
   "source": [
    "Remember what happened when we evaluated expressions that contained both ints and float? The result was always a float. The same thing will happen if we try to make an array containing ints and float -- remember, only one data type can be contained by an array."
   ]
  },
  {
   "cell_type": "code",
   "execution_count": null,
   "metadata": {},
   "outputs": [],
   "source": [
    "np.array([1, 2, 3.0])"
   ]
  },
  {
   "cell_type": "markdown",
   "metadata": {},
   "source": [
    "If possible, NumPy will always try to convert everything you give it to the same type. That means if you give it strings and numbers, it'll turn everything into strings!\n",
    "\n",
    "Why is this? Because you can always convert a number into a string (just place quotes around it!), but there are only a handful some strings that can be reliably converted into a number. For the sake of consistency, NumPy turns it all into strings."
   ]
  },
  {
   "cell_type": "markdown",
   "metadata": {},
   "source": [
    "```{margin}\n",
    "No need to be worried about the weird looking \"dtype\" -- that just tells us that the data type it contains are stored as unicode strings (`U`) with a maximum possible length of 21 characters (`21`).\n",
    "```"
   ]
  },
  {
   "cell_type": "code",
   "execution_count": null,
   "metadata": {},
   "outputs": [],
   "source": [
    "np.array([1, 2, '3'])"
   ]
  },
  {
   "cell_type": "markdown",
   "metadata": {},
   "source": [
    "### Functions on Arrays"
   ]
  },
  {
   "cell_type": "markdown",
   "metadata": {},
   "source": [
    "The functions we looked at that can be used on lists can also be used on arrays, but NumPy also comes full of additional functions and methods that perform a vast amount of useful calculations on arrays."
   ]
  },
  {
   "cell_type": "markdown",
   "metadata": {},
   "source": [
    "The NumPy functions can be called just like we called the math functions. Once we've imported the `numpy` library (abbreviated as `np`) we can just type `np.` followed by a function name to access the function."
   ]
  },
  {
   "cell_type": "markdown",
   "metadata": {},
   "source": [
    "The same functions we used to find the shortest, longest, and total amount of time slept can also be used on arrays. At a basic level, NumPy also offers their own version of these functions."
   ]
  },
  {
   "cell_type": "code",
   "execution_count": null,
   "metadata": {},
   "outputs": [],
   "source": [
    "min(hours_slept_array) == np.min(hours_slept_array)"
   ]
  },
  {
   "cell_type": "code",
   "execution_count": null,
   "metadata": {},
   "outputs": [],
   "source": [
    "max(hours_slept_array) == np.max(hours_slept_array)"
   ]
  },
  {
   "cell_type": "code",
   "execution_count": null,
   "metadata": {},
   "outputs": [],
   "source": [
    "sum(hours_slept_array) == np.sum(hours_slept_array)"
   ]
  },
  {
   "cell_type": "markdown",
   "metadata": {},
   "source": [
    "The `np` variants of functions are usually faster and able to handle more types of data. But NumPy also offers tons of functions that *aren't* built in to Python. For instance, you can use the `np.mean` function to calculate the average value of a sequence -- a metric which is extremely useful and common in data analysis."
   ]
  },
  {
   "cell_type": "code",
   "execution_count": null,
   "metadata": {},
   "outputs": [],
   "source": [
    "example_array = np.array([1, 1, 2, 3, 3])\n",
    "np.mean(example_array)"
   ]
  },
  {
   "cell_type": "markdown",
   "metadata": {},
   "source": [
    "There are loads of more complex calculations, such as the `np.cumsum` function which calculates the 'cumulative sum' of a sequence -- a running total of the sum of the sequence at each point along the sequence."
   ]
  },
  {
   "cell_type": "code",
   "execution_count": null,
   "metadata": {},
   "outputs": [],
   "source": [
    "np.cumsum(example_array)"
   ]
  },
  {
   "cell_type": "markdown",
   "metadata": {},
   "source": [
    "Just like strings and lists, arrays also own special methods that can perform calculations! All of the NumPy functions we've looked at so far can also be called using the same dot notation that we used with string and list methods."
   ]
  },
  {
   "cell_type": "code",
   "execution_count": null,
   "metadata": {},
   "outputs": [],
   "source": [
    "example_array.min()"
   ]
  },
  {
   "cell_type": "code",
   "execution_count": null,
   "metadata": {},
   "outputs": [],
   "source": [
    "example_array.max()"
   ]
  },
  {
   "cell_type": "code",
   "execution_count": null,
   "metadata": {},
   "outputs": [],
   "source": [
    "example_array.sum()"
   ]
  },
  {
   "cell_type": "code",
   "execution_count": null,
   "metadata": {},
   "outputs": [],
   "source": [
    "example_array.mean()"
   ]
  },
  {
   "cell_type": "code",
   "execution_count": null,
   "metadata": {},
   "outputs": [],
   "source": [
    "example_array.cumsum()"
   ]
  },
  {
   "cell_type": "markdown",
   "metadata": {},
   "source": [
    "Don't worry, you don't need to memorize all of the different functions/methods (there are a lot!) -- we'll include references when necessary."
   ]
  },
  {
   "cell_type": "markdown",
   "metadata": {},
   "source": [
    "### Selecting items from arrays"
   ]
  },
  {
   "cell_type": "markdown",
   "metadata": {},
   "source": [
    "You can select specific items from arrays the exact same way you did with lists, using square brackets and the index of the item you want to select."
   ]
  },
  {
   "cell_type": "code",
   "execution_count": null,
   "metadata": {},
   "outputs": [],
   "source": [
    "days_of_week_array = np.array(days_of_the_week)"
   ]
  },
  {
   "cell_type": "code",
   "execution_count": null,
   "metadata": {},
   "outputs": [],
   "source": [
    "days_of_week_array[0]"
   ]
  },
  {
   "cell_type": "code",
   "execution_count": null,
   "metadata": {},
   "outputs": [],
   "source": [
    "days_of_week_array[len(days_of_week_array) - 1]"
   ]
  },
  {
   "cell_type": "code",
   "execution_count": null,
   "metadata": {
    "tags": [
     "raises-exception"
    ]
   },
   "outputs": [],
   "source": [
    "days_of_week_array[7]"
   ]
  },
  {
   "cell_type": "markdown",
   "metadata": {},
   "source": [
    "### Element-wise operations"
   ]
  },
  {
   "cell_type": "markdown",
   "metadata": {},
   "source": [
    "The power of arrays really starts to shine when math is involved. Arrays have the power to quickly perform operations over each element they contain."
   ]
  },
  {
   "cell_type": "code",
   "execution_count": null,
   "metadata": {},
   "outputs": [],
   "source": [
    "array1 = np.array([1, 2, 3])"
   ]
  },
  {
   "cell_type": "code",
   "execution_count": null,
   "metadata": {},
   "outputs": [],
   "source": [
    "array1 - 3"
   ]
  },
  {
   "cell_type": "code",
   "execution_count": null,
   "metadata": {},
   "outputs": [],
   "source": [
    "array1 * 2"
   ]
  },
  {
   "cell_type": "code",
   "execution_count": null,
   "metadata": {},
   "outputs": [],
   "source": [
    "# Remember, we can use the modulus operator `%` 2 to check if something's even\n",
    "array1 % 2"
   ]
  },
  {
   "cell_type": "code",
   "execution_count": null,
   "metadata": {},
   "outputs": [],
   "source": [
    "array1**2"
   ]
  },
  {
   "cell_type": "markdown",
   "metadata": {},
   "source": [
    "In practice this means we could do something like convert an entire array of temperatures measured in Fahrenheit to Celsius by writing a single expression."
   ]
  },
  {
   "cell_type": "markdown",
   "metadata": {},
   "source": [
    "```{margin}\n",
    "The forumla for converting a measurement in Fahrenheit to Celsius is $C = (F - 32) * (5/9)$\n",
    "```"
   ]
  },
  {
   "cell_type": "code",
   "execution_count": null,
   "metadata": {},
   "outputs": [],
   "source": [
    "temperatures_f = np.array([0.5, 32.0, 71.6, 212.0])"
   ]
  },
  {
   "cell_type": "code",
   "execution_count": null,
   "metadata": {},
   "outputs": [],
   "source": [
    "temperatures_c = (temperatures_f - 32) * (5 / 9)\n",
    "temperatures_c"
   ]
  },
  {
   "cell_type": "markdown",
   "metadata": {},
   "source": [
    "In the above example, first `(temperatures_f - 32)` is evaluated and produces an array with 32 subtracted from every temperature. Then `(5 / 9)` is evaluated. Then then every element in the new array is multiplied by 5/9, producing the final output array."
   ]
  },
  {
   "cell_type": "markdown",
   "metadata": {},
   "source": [
    "We can also do element-wise operations between pairs of data from two arrays!\n",
    "\n",
    "For this to work, both arrays must have the same size. Then, each element of the first array will be operated on with the element in the same position of the second array."
   ]
  },
  {
   "cell_type": "code",
   "execution_count": null,
   "metadata": {},
   "outputs": [],
   "source": [
    "array1 = np.array([1, 2, 3])\n",
    "array2 = np.array([2, 4, 6])"
   ]
  },
  {
   "cell_type": "code",
   "execution_count": null,
   "metadata": {},
   "outputs": [],
   "source": [
    "array1 - array2"
   ]
  },
  {
   "cell_type": "code",
   "execution_count": null,
   "metadata": {},
   "outputs": [],
   "source": [
    "array1 * array2"
   ]
  },
  {
   "cell_type": "code",
   "execution_count": null,
   "metadata": {},
   "outputs": [],
   "source": [
    "array1**array2"
   ]
  },
  {
   "cell_type": "markdown",
   "metadata": {},
   "source": [
    "Both paired element-wise operations and standalone element-wise operations can be used in the same expression, since we're always producing another array as a result of each expression."
   ]
  },
  {
   "cell_type": "code",
   "execution_count": null,
   "metadata": {},
   "outputs": [],
   "source": [
    "(array1 * 2) - array2"
   ]
  },
  {
   "cell_type": "markdown",
   "metadata": {},
   "source": [
    "Watch out for the new errors you might encounter! Let's see what happens if our other array isn't the same size."
   ]
  },
  {
   "cell_type": "code",
   "execution_count": null,
   "metadata": {
    "tags": [
     "raises-exception"
    ]
   },
   "outputs": [],
   "source": [
    "array_short = np.array([2,4])\n",
    "array1 * array_short"
   ]
  },
  {
   "cell_type": "markdown",
   "metadata": {},
   "source": [
    "The error is telling us that the first array has three elements but the other only has two, so the two arrays couldn't be pushed into the same shape."
   ]
  },
  {
   "cell_type": "markdown",
   "metadata": {},
   "source": [
    "## Ranges"
   ]
  },
  {
   "cell_type": "markdown",
   "metadata": {},
   "source": [
    "Often times it's useful to create an array of consecutive numbers. Creating an array-**range** allows us to do just that.\n",
    "\n",
    "In fact, we've already seen an example of this when we looked at **indices**. Remember that indices are how the computer keeps track of the items in a sequence, starting at 0 and counting up by 1 for each element in the sequence.\n",
    "\n",
    "The indices for a sequence with four elements would be `0 1 2 3`, and we can call the `np.arange` function to easily create this sequence!"
   ]
  },
  {
   "cell_type": "code",
   "execution_count": null,
   "metadata": {},
   "outputs": [],
   "source": [
    "np.arange(4)"
   ]
  },
  {
   "cell_type": "markdown",
   "metadata": {},
   "source": [
    "Notice that just like indices, ranges will start at zero by default and exclude the last number."
   ]
  },
  {
   "cell_type": "markdown",
   "metadata": {},
   "source": [
    "While we saw an example of the range function being called with one argument, it can be called with one, two, or three arguments:\n",
    "\n",
    "- `np.arange(endpoint)` Consecutive integers from 1 to endpoint (exclusive)\n",
    "- `np.arange(start, endpoint)` Consecutive numbers from start to endpoint (exclusive), increasing by 1 each step.\n",
    "- `np.arange(start, endpoint, stepsize)` Consecutive numbers from start to endpoint (exclusive), changing by stepsize each step."
   ]
  },
  {
   "cell_type": "code",
   "execution_count": null,
   "metadata": {},
   "outputs": [],
   "source": [
    "np.arange(10)"
   ]
  },
  {
   "cell_type": "code",
   "execution_count": null,
   "metadata": {},
   "outputs": [],
   "source": [
    "np.arange(5.5, 10)"
   ]
  },
  {
   "cell_type": "code",
   "execution_count": null,
   "metadata": {},
   "outputs": [],
   "source": [
    "np.arange(0, 1, 0.2)"
   ]
  },
  {
   "cell_type": "code",
   "execution_count": null,
   "metadata": {},
   "outputs": [],
   "source": [
    "np.arange(-1, -4)"
   ]
  },
  {
   "cell_type": "code",
   "execution_count": null,
   "metadata": {},
   "outputs": [],
   "source": [
    "np.arange(-1, -4, -1)"
   ]
  },
  {
   "cell_type": "markdown",
   "metadata": {},
   "source": [
    "Again pay attention that a range will always include the `start` value, but will never include the `end` value."
   ]
  },
  {
   "cell_type": "markdown",
   "metadata": {},
   "source": [
    "Now that we can create an array of sequential numbers with even spacing, we can use our range in element-wise arithmetic!"
   ]
  },
  {
   "cell_type": "code",
   "execution_count": null,
   "metadata": {},
   "outputs": [],
   "source": [
    "my_range = np.arange(4)\n",
    "my_range"
   ]
  },
  {
   "cell_type": "code",
   "execution_count": null,
   "metadata": {},
   "outputs": [],
   "source": [
    "my_range * 2"
   ]
  },
  {
   "cell_type": "code",
   "execution_count": null,
   "metadata": {},
   "outputs": [],
   "source": [
    "my_range ** 2"
   ]
  },
  {
   "cell_type": "code",
   "execution_count": null,
   "metadata": {},
   "outputs": [],
   "source": [
    "np.array([10, 5, 10, 5]) * my_range"
   ]
  },
  {
   "cell_type": "markdown",
   "metadata": {},
   "source": [
    "---\n",
    "## Summary\n",
    "\n",
    "To get multiple pieces of data in one place, we create a **collection**. If the collection is ordered then it is a **sequence**.\n",
    "\n",
    "Each item in a sequence has an **index** -- its position, starting at zero.\n",
    "\n",
    "| Index | 0 | 1 | 2 | ... | n-1 |\n",
    "| --- | --- | --- | --- | --- | --- |\n",
    "| Sequence (length n) | [item, | item, | item, | ... | item]\n",
    "\n",
    "**Lists** are the most basic sequence, and are created by surrounding a group of items with square brackets and separating each item by commas: `[item, item, ...]`\n",
    "\n",
    "Any data type is allowed inside of lists, and the items can have different types.\n",
    "\n",
    "Some functions can be called on lists to perform calculations, such as `min` `max` `sum` and `len`.\n",
    "\n",
    "Lists own a handful of list **methods** -- functions that belong solely to the data type of lists.\n",
    "\n",
    "Methods are called using **dot notation**, by placing a dot after a list or variable name of a list, then calling the function: `my_list.function_name(arguments, ...)`\n",
    "\n",
    "Some list methods allow you to add and remove items from lists.\n",
    "\n",
    "An item can be selected from a sequence by using brackets with the index of the item: `my_list[index]`\n",
    "\n",
    "**Arrays** are a sequence from the NumPy library, and are created by passing a list into the `np.array` function: `np.array([item, item, ...])` `np.array(my_list)`\n",
    "\n",
    "All items in an array must have the same data type.\n",
    "\n",
    "Functions that can be called on lists can also be called on arrays.\n",
    "\n",
    "NumPy offers lots of additional functions that can be called on sequences. These can be accessed using `np.function_name(arguments, ...)`.\n",
    "\n",
    "Arrays own a handful of methods, called using dot notation.\n",
    "\n",
    "Some array methods allow you to perform calculations on the array.\n",
    "\n",
    "An item can be selected from an array the same way as any sequence, by using brackets with the index of the item: `my_array[index]`\n",
    "\n",
    "Arrays support **element-wise operations**, such as adding or multiplying all elements by a single number.\n",
    "\n",
    "Arrays of the same length support paired element-wise operations between the two arrays, such as adding or multiplying each element in one array with each element in the same position of another array.\n",
    "\n",
    "An array of numbers with constant spacing can be easily constructed using a NumPy array-**range**: `np.arange(endpoint)` `np.arange(start, endpoint)` `np.arange(start, endpoint, stepsize)`\n",
    "\n",
    "A range will always *exclude* the endpoint -- so `np.arange(3)` will count `0 1 2`.\n",
    "\n",
    "Since `np.arange` produces an array, it can be used in element-wise operations."
   ]
  }
 ],
 "metadata": {
  "kernelspec": {
   "display_name": "Python 3",
   "language": "python",
   "name": "python3"
  },
  "language_info": {
   "codemirror_mode": {
    "name": "ipython",
    "version": 3
   },
   "file_extension": ".py",
   "mimetype": "text/x-python",
   "name": "python",
   "nbconvert_exporter": "python",
   "pygments_lexer": "ipython3",
   "version": "3.8.3"
  }
 },
 "nbformat": 4,
 "nbformat_minor": 4
}
