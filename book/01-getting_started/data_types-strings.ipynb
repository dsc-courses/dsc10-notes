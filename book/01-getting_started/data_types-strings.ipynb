{
 "cells": [
  {
   "cell_type": "markdown",
   "metadata": {},
   "source": [
    "# Data Types: Strings"
   ]
  },
  {
   "cell_type": "markdown",
   "metadata": {},
   "source": [
    "Think about the type of data that you're likely to see as a data scientist. Does it only contain numbers? Of course not! Much of the data you'll see comes in the form of *text*. Most programming languages have a special data type for storing text, called **strings**. In this section, we'll move beyond using Python as a simple calculator and use it to do some simple text analysis."
   ]
  },
  {
   "cell_type": "markdown",
   "metadata": {},
   "source": [
    "## Creating Strings\n",
    "\n",
    "To create a string in Python, write some text surrounded by quotation marks: `\"`:"
   ]
  },
  {
   "cell_type": "code",
   "execution_count": null,
   "metadata": {},
   "outputs": [],
   "source": [
    "\"Word\""
   ]
  },
  {
   "cell_type": "code",
   "execution_count": null,
   "metadata": {},
   "outputs": [],
   "source": [
    "\"More than one word, and punc-tu-a-tion!\""
   ]
  },
  {
   "cell_type": "code",
   "execution_count": null,
   "metadata": {},
   "outputs": [],
   "source": [
    "# not a number, since we're using quotes!\n",
    "\"3\""
   ]
  },
  {
   "cell_type": "markdown",
   "metadata": {},
   "source": [
    "Notice that Python displays our string with single quotes around it -- this is its way of letting us know that it is indeed a string.\n",
    "As before, we can use the `type` function to what type Python believes these pieces of data to be:"
   ]
  },
  {
   "cell_type": "code",
   "execution_count": null,
   "metadata": {},
   "outputs": [],
   "source": [
    "type(\"Word\")"
   ]
  },
  {
   "cell_type": "code",
   "execution_count": null,
   "metadata": {},
   "outputs": [],
   "source": [
    "type(\"3\")"
   ]
  },
  {
   "cell_type": "markdown",
   "metadata": {},
   "source": [
    "Of course, `str` is short for \"string\"."
   ]
  },
  {
   "cell_type": "markdown",
   "metadata": {},
   "source": [
    "As with numbers, we can use variables to store strings:"
   ]
  },
  {
   "cell_type": "code",
   "execution_count": null,
   "metadata": {},
   "outputs": [],
   "source": [
    "s = \"Hello world!\"\n",
    "s"
   ]
  },
  {
   "cell_type": "markdown",
   "metadata": {},
   "source": [
    "If you don't like double-quotes, you're in luck: you can write strings using single quote marks just the same:"
   ]
  },
  {
   "cell_type": "code",
   "execution_count": null,
   "metadata": {},
   "outputs": [],
   "source": [
    "'Word'"
   ]
  },
  {
   "cell_type": "code",
   "execution_count": null,
   "metadata": {},
   "outputs": [],
   "source": [
    "'More than one word, and punc-tu-a-tion!'"
   ]
  },
  {
   "cell_type": "markdown",
   "metadata": {},
   "source": [
    "Unlike in other languages, there is no difference between using single quotes and double quotes in Python."
   ]
  },
  {
   "cell_type": "markdown",
   "metadata": {},
   "source": [
    "What happens if you don't put anything inside of the quotes?"
   ]
  },
  {
   "cell_type": "code",
   "execution_count": null,
   "metadata": {},
   "outputs": [],
   "source": [
    "''"
   ]
  },
  {
   "cell_type": "markdown",
   "metadata": {},
   "source": [
    "This is fine! We call it an *empty string*."
   ]
  },
  {
   "cell_type": "markdown",
   "metadata": {},
   "source": [
    "## More on single vs. double quotes"
   ]
  },
  {
   "cell_type": "markdown",
   "metadata": {},
   "source": [
    "We said above that there is no real difference between using single quotes and double quotes to create strings, but there are instances where one is preferable over the other."
   ]
  },
  {
   "cell_type": "markdown",
   "metadata": {},
   "source": [
    "For instance, what if we wanted to turn the following piece of text into a string?\n",
    "\n",
    "> Javascript is a \"real\" programming language.\n",
    "\n",
    "Notice that the text itself includes quotation marks. If we try to wrap the whole piece of text with double-quotes, Python will get upset:"
   ]
  },
  {
   "cell_type": "code",
   "execution_count": null,
   "metadata": {
    "tags": [
     "raises-exception"
    ]
   },
   "outputs": [],
   "source": [
    "\"Javascript is a \"real\" programming language."
   ]
  },
  {
   "cell_type": "markdown",
   "metadata": {},
   "source": [
    "When Python sees the first `\"`, it thinks to itself: OK, this is a string. It continues reading until it find the second `\"`, right before `real`. It then thinks the string is over -- but it isn't.\n",
    "\n",
    "To avoid confusing Python, we can instead use single-quotes to delineate the string:"
   ]
  },
  {
   "cell_type": "code",
   "execution_count": null,
   "metadata": {},
   "outputs": [],
   "source": [
    "'Javascript is a \"real\" programming language'"
   ]
  },
  {
   "cell_type": "markdown",
   "metadata": {},
   "source": [
    "In this case, single-quotes were preferable, but that's not always the case. For instance, suppose we want to represent the string:\n",
    "\n",
    "> Python: a data scientist's best friend.\n",
    "\n",
    "We can't use single quotes here because of the apostrophe in \"scientist's\". So we surround the string with double quotes:"
   ]
  },
  {
   "cell_type": "code",
   "execution_count": null,
   "metadata": {},
   "outputs": [],
   "source": [
    "\"Python: a data scientist's best friend\""
   ]
  },
  {
   "cell_type": "markdown",
   "metadata": {},
   "source": [
    "There is another way we can handle strings containing single- and double-quotes: We can \"escape\" the character by prefixing it with a backslash `\\`.  This will tell Python to treat the character differently than it normally would -- in this case, it tells Python not to end the string.\n",
    "This is very helpful when both single quotes *and* double quotes appear in the string!"
   ]
  },
  {
   "cell_type": "code",
   "execution_count": null,
   "metadata": {},
   "outputs": [],
   "source": [
    "'They said, \"escaping isn\\'t so bad,\" and I believe them!'"
   ]
  },
  {
   "cell_type": "markdown",
   "metadata": {},
   "source": [
    "## String Methods"
   ]
  },
  {
   "cell_type": "markdown",
   "metadata": {},
   "source": [
    "What are some things you might want to do with strings? For one, you might want to combine two strings into one longer string. Doing so in Python is easy: we can simply use `+`."
   ]
  },
  {
   "cell_type": "code",
   "execution_count": 3,
   "metadata": {},
   "outputs": [
    {
     "data": {
      "text/plain": [
       "'DataScience'"
      ]
     },
     "execution_count": 3,
     "metadata": {},
     "output_type": "execute_result"
    }
   ],
   "source": [
    "s1 = 'Data'\n",
    "s2 = 'Science'\n",
    "s1 + s2"
   ]
  },
  {
   "cell_type": "markdown",
   "metadata": {},
   "source": [
    "Combining two strings in this way is called *concatenation*."
   ]
  },
  {
   "cell_type": "markdown",
   "metadata": {},
   "source": [
    "````{hiddenanswer}\n",
    "---\n",
    "question: |\n",
    "    Given the following variables, write an expression that concatenates the two strings and adds a space in between. The output should be `'red fish blue fish'`\n",
    "\n",
    "    ```\n",
    "    string1 = \"red fish\"\n",
    "    string2 = \"blue fish\"\n",
    "    ```\n",
    "answer: |\n",
    "    ```\n",
    "    string1 + ' ' + string2\n",
    "    ```\n",
    "````"
   ]
  },
  {
   "cell_type": "markdown",
   "metadata": {},
   "source": [
    "What else might you want to do with a string? Capitilizing a string seems like a common task. Luckily, Python provides a function to do just this. However, unlike the functions we have seen so far (like `abs()` and `round()`), the `capitalize()` function is *attached to the string itself*. We call it in a slightly different way:"
   ]
  },
  {
   "cell_type": "code",
   "execution_count": 6,
   "metadata": {},
   "outputs": [
    {
     "data": {
      "text/plain": [
       "'Data science is awesome'"
      ]
     },
     "execution_count": 6,
     "metadata": {},
     "output_type": "execute_result"
    }
   ],
   "source": [
    "'data science is awesome'.capitalize()"
   ]
  },
  {
   "cell_type": "markdown",
   "metadata": {},
   "source": [
    "Functions that are attached to the things they operate on are called *methods* -- but don't worry too much about the difference in name. Just remember that methods are by placing a dot after the string, and then writing the function name."
   ]
  },
  {
   "cell_type": "markdown",
   "metadata": {},
   "source": [
    "Methods can be called directly on a string, or the variable name of a string. "
   ]
  },
  {
   "cell_type": "code",
   "execution_count": 8,
   "metadata": {},
   "outputs": [
    {
     "data": {
      "text/plain": [
       "'Data science is awesome'"
      ]
     },
     "execution_count": 8,
     "metadata": {},
     "output_type": "execute_result"
    }
   ],
   "source": [
    "s = 'data science is awesome'\n",
    "s.capitalize()"
   ]
  },
  {
   "cell_type": "markdown",
   "metadata": {},
   "source": [
    "Strings have plenty of methods -- you can see them by typing \"'some string'.\" and hitting tab. Here are a few examples:"
   ]
  },
  {
   "cell_type": "code",
   "execution_count": 12,
   "metadata": {},
   "outputs": [
    {
     "data": {
      "text/plain": [
       "'WHY AM I YELLING?'"
      ]
     },
     "execution_count": 12,
     "metadata": {},
     "output_type": "execute_result"
    }
   ],
   "source": [
    "\"why am i yelling?\".upper()"
   ]
  },
  {
   "cell_type": "code",
   "execution_count": 14,
   "metadata": {},
   "outputs": [
    {
     "data": {
      "text/plain": [
       "'this is a library please be quiet'"
      ]
     },
     "execution_count": 14,
     "metadata": {},
     "output_type": "execute_result"
    }
   ],
   "source": [
    "\"THIS IS A LIBRARY PLEASE BE QUIET\".lower()"
   ]
  },
  {
   "cell_type": "code",
   "execution_count": 15,
   "metadata": {},
   "outputs": [
    {
     "data": {
      "text/plain": [
       "'Dive Into Data Science'"
      ]
     },
     "execution_count": 15,
     "metadata": {},
     "output_type": "execute_result"
    }
   ],
   "source": [
    "\"dive into data science\".title()"
   ]
  },
  {
   "cell_type": "markdown",
   "metadata": {},
   "source": [
    "In particular, the `replace` method is extremely powerful, since it allows us to find and replace sections of a string. The previous string methods we looked at took no arguments, but the `replace` methods takes two arguments: *the text to find*, and *the text to replace it with* (in that order)."
   ]
  },
  {
   "cell_type": "code",
   "execution_count": 16,
   "metadata": {},
   "outputs": [
    {
     "data": {
      "text/plain": [
       "'found Waldo'"
      ]
     },
     "execution_count": 16,
     "metadata": {},
     "output_type": "execute_result"
    }
   ],
   "source": [
    "'found you'.replace('you', 'Waldo')"
   ]
  },
  {
   "cell_type": "markdown",
   "metadata": {},
   "source": [
    "Remember the empty string `''`? It's used a lot with `replace` in order to get rid of parts of text entirely! Notice that the text must match *exactly*, and is case sensitive!"
   ]
  },
  {
   "cell_type": "code",
   "execution_count": 22,
   "metadata": {},
   "outputs": [
    {
     "data": {
      "text/plain": [
       "'Hello, my name is Justin'"
      ]
     },
     "execution_count": 22,
     "metadata": {},
     "output_type": "execute_result"
    }
   ],
   "source": [
    "'Hello, my name is **SNEEZE** Justin'.replace('**SNEEZE** ', '')"
   ]
  },
  {
   "cell_type": "code",
   "execution_count": 23,
   "metadata": {},
   "outputs": [
    {
     "data": {
      "text/plain": [
       "\"here's Waldo\""
      ]
     },
     "execution_count": 23,
     "metadata": {},
     "output_type": "execute_result"
    }
   ],
   "source": [
    "'where\\'s Waldo'.replace('w', '')"
   ]
  },
  {
   "cell_type": "markdown",
   "metadata": {},
   "source": [
    "Since the string methods we've looked at return more strings, we can even call more string methods on the result!"
   ]
  },
  {
   "cell_type": "code",
   "execution_count": 26,
   "metadata": {},
   "outputs": [
    {
     "data": {
      "text/plain": [
       "'Ended with a sentence'"
      ]
     },
     "execution_count": 26,
     "metadata": {},
     "output_type": "execute_result"
    }
   ],
   "source": [
    "s = 'started with words'\n",
    "t = s.replace('started', 'ended')\n",
    "u = t.replace('words', 'a sentence')\n",
    "v = u.capitalize()\n",
    "v"
   ]
  },
  {
   "cell_type": "markdown",
   "metadata": {},
   "source": [
    "But here's a shortcut: we don't need to assign each result to intermediate variables. We can do it \"all at once\" with *method chaining*:"
   ]
  },
  {
   "cell_type": "code",
   "execution_count": 28,
   "metadata": {},
   "outputs": [
    {
     "data": {
      "text/plain": [
       "'Ended with a sentence'"
      ]
     },
     "execution_count": 28,
     "metadata": {},
     "output_type": "execute_result"
    }
   ],
   "source": [
    "s = 'started with words'\n",
    "s.replace('started', 'ended').replace('words', 'a sentence').capitalize()"
   ]
  },
  {
   "cell_type": "markdown",
   "metadata": {},
   "source": [
    "## Conversion"
   ]
  },
  {
   "cell_type": "markdown",
   "metadata": {},
   "source": [
    "Data scientists sometimes get their data by *scraping* a webpage. For instance, suppose we want to know the water temperature in La Jolla (either to study the effects of climate change, or to know whether the water is nice for surfing). We can find the information we want on [the NOAA's website](https://www.ndbc.noaa.gov/station_page.php?station=ljac1). We can write some code to download this webpage and extract the data we need.\n",
    "There's just one problem: webpages are just globs of text (that is, they are strings), but we want the temperature as a *number* (preferably a float). Luckily, converting back and forth between these types is easy.\n",
    "\n",
    "Suppose we have a isolated the current ocean temperature as a string:"
   ]
  },
  {
   "cell_type": "code",
   "execution_count": 33,
   "metadata": {},
   "outputs": [
    {
     "data": {
      "text/plain": [
       "'72.8'"
      ]
     },
     "execution_count": 33,
     "metadata": {},
     "output_type": "execute_result"
    }
   ],
   "source": [
    "ocean_temp = '72.8'\n",
    "ocean_temp"
   ]
  },
  {
   "cell_type": "markdown",
   "metadata": {},
   "source": [
    "While this might look like a number, notice the quotation marks: this means that Python thinks of it as a piece of text."
   ]
  },
  {
   "cell_type": "code",
   "execution_count": 35,
   "metadata": {},
   "outputs": [
    {
     "data": {
      "text/plain": [
       "str"
      ]
     },
     "execution_count": 35,
     "metadata": {},
     "output_type": "execute_result"
    }
   ],
   "source": [
    "type(ocean_temp)"
   ]
  },
  {
   "cell_type": "markdown",
   "metadata": {},
   "source": [
    "As a result, we can't do math with the ocean temperature:"
   ]
  },
  {
   "cell_type": "code",
   "execution_count": 37,
   "metadata": {
    "tags": [
     "raises-exception"
    ]
   },
   "outputs": [
    {
     "ename": "TypeError",
     "evalue": "can only concatenate str (not \"int\") to str",
     "output_type": "error",
     "traceback": [
      "\u001b[0;31m---------------------------------------------------------------------------\u001b[0m",
      "\u001b[0;31mTypeError\u001b[0m                                 Traceback (most recent call last)",
      "\u001b[0;32m<ipython-input-37-1a7aa799b66f>\u001b[0m in \u001b[0;36m<module>\u001b[0;34m\u001b[0m\n\u001b[0;32m----> 1\u001b[0;31m \u001b[0mocean_temp\u001b[0m \u001b[0;34m+\u001b[0m \u001b[0;36m2\u001b[0m\u001b[0;34m\u001b[0m\u001b[0;34m\u001b[0m\u001b[0m\n\u001b[0m",
      "\u001b[0;31mTypeError\u001b[0m: can only concatenate str (not \"int\") to str"
     ]
    }
   ],
   "source": [
    "ocean_temp + 2"
   ]
  },
  {
   "cell_type": "markdown",
   "metadata": {},
   "source": [
    "Here, Python has complained with a `TypeError`. Python is saying that it doesn't know how to combine objects of these types: `str` and `int`. To do the arithmetic, we need to convert the string to a float. We can do so with the `float` function:"
   ]
  },
  {
   "cell_type": "code",
   "execution_count": 32,
   "metadata": {},
   "outputs": [
    {
     "data": {
      "text/plain": [
       "72.8"
      ]
     },
     "execution_count": 32,
     "metadata": {},
     "output_type": "execute_result"
    }
   ],
   "source": [
    "float(ocean_temp)"
   ]
  },
  {
   "cell_type": "code",
   "execution_count": 38,
   "metadata": {},
   "outputs": [
    {
     "data": {
      "text/plain": [
       "74.8"
      ]
     },
     "execution_count": 38,
     "metadata": {},
     "output_type": "execute_result"
    }
   ],
   "source": [
    "float(ocean_temp) + 2"
   ]
  },
  {
   "cell_type": "markdown",
   "metadata": {},
   "source": [
    "We can also convert a string to an integer using `int`:"
   ]
  },
  {
   "cell_type": "code",
   "execution_count": 40,
   "metadata": {},
   "outputs": [
    {
     "data": {
      "text/plain": [
       "'4'"
      ]
     },
     "execution_count": 40,
     "metadata": {},
     "output_type": "execute_result"
    }
   ],
   "source": [
    "days_since_last_beach_visit = '4'\n",
    "days_since_last_beach_visit"
   ]
  },
  {
   "cell_type": "code",
   "execution_count": 41,
   "metadata": {},
   "outputs": [
    {
     "data": {
      "text/plain": [
       "4"
      ]
     },
     "execution_count": 41,
     "metadata": {},
     "output_type": "execute_result"
    }
   ],
   "source": [
    "int(days_since_last_beach_visit)"
   ]
  },
  {
   "cell_type": "markdown",
   "metadata": {},
   "source": [
    "Be careful, though -- if you try to convert a string that doesn't look like an integer using `int`, Python will yell at you:"
   ]
  },
  {
   "cell_type": "code",
   "execution_count": 42,
   "metadata": {
    "tags": [
     "raises-exception"
    ]
   },
   "outputs": [
    {
     "ename": "ValueError",
     "evalue": "invalid literal for int() with base 10: '3.14'",
     "output_type": "error",
     "traceback": [
      "\u001b[0;31m---------------------------------------------------------------------------\u001b[0m",
      "\u001b[0;31mValueError\u001b[0m                                Traceback (most recent call last)",
      "\u001b[0;32m<ipython-input-42-1456603af047>\u001b[0m in \u001b[0;36m<module>\u001b[0;34m\u001b[0m\n\u001b[0;32m----> 1\u001b[0;31m \u001b[0mint\u001b[0m\u001b[0;34m(\u001b[0m\u001b[0;34m'3.14'\u001b[0m\u001b[0;34m)\u001b[0m\u001b[0;34m\u001b[0m\u001b[0;34m\u001b[0m\u001b[0m\n\u001b[0m",
      "\u001b[0;31mValueError\u001b[0m: invalid literal for int() with base 10: '3.14'"
     ]
    }
   ],
   "source": [
    "int('3.14')"
   ]
  },
  {
   "cell_type": "markdown",
   "metadata": {},
   "source": [
    "If we *really* wanted to convert `'3.14'` to an integer, we would need to convert it to a float first:"
   ]
  },
  {
   "cell_type": "code",
   "execution_count": 43,
   "metadata": {},
   "outputs": [
    {
     "data": {
      "text/plain": [
       "3"
      ]
     },
     "execution_count": 43,
     "metadata": {},
     "output_type": "execute_result"
    }
   ],
   "source": [
    "int(float('3.14'))"
   ]
  },
  {
   "cell_type": "markdown",
   "metadata": {},
   "source": [
    "### True/False - Booleans"
   ]
  },
  {
   "cell_type": "markdown",
   "metadata": {},
   "source": [
    "A **Boolean** (named after [George Boole](https://en.wikipedia.org/wiki/Boolean_algebra)) is a logical data type, indicating whether something is True or False. It has the type `bool`."
   ]
  },
  {
   "cell_type": "code",
   "execution_count": null,
   "metadata": {},
   "outputs": [],
   "source": [
    "type(True)"
   ]
  },
  {
   "cell_type": "markdown",
   "metadata": {},
   "source": [
    "#### Comparisons"
   ]
  },
  {
   "cell_type": "markdown",
   "metadata": {},
   "source": [
    "Boolean values result when we use comparison operators to compare the value of two expressions.\n",
    "\n",
    "The standard set of comparisons operators carries over from math,\n",
    "- Less than `<`\n",
    "- Less or equal `<=`\n",
    "- Greater than `>`\n",
    "- Greater or equal `>=`\n",
    "- Equal `==`\n",
    "- Not equal `!=`\n",
    "\n",
    "Notice that the equal comparison operator distinguishes itself from the assignment operator by using *two* equal signs."
   ]
  },
  {
   "cell_type": "code",
   "execution_count": null,
   "metadata": {},
   "outputs": [],
   "source": [
    "1 == 0"
   ]
  },
  {
   "cell_type": "markdown",
   "metadata": {},
   "source": [
    "Any expressions to the left or right of the comparison operator will be evaluated before the comparison is carried out."
   ]
  },
  {
   "cell_type": "code",
   "execution_count": null,
   "metadata": {},
   "outputs": [],
   "source": [
    "(3 * 4) / 6 < 1 + 2 + 3 + 4"
   ]
  },
  {
   "cell_type": "markdown",
   "metadata": {},
   "source": [
    "And if there are multiple comparison operators in an expression, then each comparison must evaluate to True in order for the entire expression to be True."
   ]
  },
  {
   "cell_type": "code",
   "execution_count": null,
   "metadata": {},
   "outputs": [],
   "source": [
    "1 < 0 + 2 < 3"
   ]
  },
  {
   "cell_type": "code",
   "execution_count": null,
   "metadata": {},
   "outputs": [],
   "source": [
    "1 != 3 <= 2"
   ]
  },
  {
   "cell_type": "markdown",
   "metadata": {},
   "source": [
    "Since `3 <= 2` is False, the above expression evaluates to False."
   ]
  },
  {
   "cell_type": "markdown",
   "metadata": {},
   "source": [
    "We can use comparison operators on all sorts of things! For example, we can use the `==` and `!=` to check if *any* objects are equal in value."
   ]
  },
  {
   "cell_type": "code",
   "execution_count": null,
   "metadata": {},
   "outputs": [],
   "source": [
    "'Ronaldo' == 'Waldo'"
   ]
  },
  {
   "cell_type": "code",
   "execution_count": null,
   "metadata": {},
   "outputs": [],
   "source": [
    "True != False"
   ]
  },
  {
   "cell_type": "code",
   "execution_count": null,
   "metadata": {},
   "outputs": [],
   "source": [
    "sum == sum"
   ]
  },
  {
   "cell_type": "markdown",
   "metadata": {},
   "source": [
    "And many objects support greater than/less than comparison too. For instance, a string is less than or greater than another string based on alphabetical order."
   ]
  },
  {
   "cell_type": "markdown",
   "metadata": {},
   "source": [
    "```{margin}\n",
    "Technically, string comparisons compare using **lexicographical** order, which just means that text including numbers and symbols is also ordered.\n",
    "```"
   ]
  },
  {
   "cell_type": "code",
   "execution_count": null,
   "metadata": {},
   "outputs": [],
   "source": [
    "\"Avocado\" < \"Banana\" < \"Cantaloupe\""
   ]
  },
  {
   "cell_type": "code",
   "execution_count": null,
   "metadata": {},
   "outputs": [],
   "source": [
    "\"1. Learn about Python\" < \"2. Learn about data science\" < \"3. Profit\""
   ]
  },
  {
   "cell_type": "markdown",
   "metadata": {},
   "source": [
    "Notice that if you look at a dictionary, words like \"Fire\" will show up before \"Fireplace\" -- the same holds true with string comparisons in Python."
   ]
  },
  {
   "cell_type": "code",
   "execution_count": null,
   "metadata": {},
   "outputs": [],
   "source": [
    "\"Fire\" < \"Fireplace\" < \"Fireplaces\""
   ]
  },
  {
   "cell_type": "markdown",
   "metadata": {},
   "source": [
    "## A new type of error -- TypeErrors"
   ]
  },
  {
   "cell_type": "markdown",
   "metadata": {},
   "source": [
    "We saw that we can use the addition operator to add two strings. But what happens if we try to add a number and a string?"
   ]
  },
  {
   "cell_type": "code",
   "execution_count": null,
   "metadata": {
    "tags": [
     "raises-exception"
    ]
   },
   "outputs": [],
   "source": [
    "1 + '2'"
   ]
  },
  {
   "cell_type": "markdown",
   "metadata": {},
   "source": [
    "We've successfully stumbled on another very common error, the `TypeError`. This happens when we try to use an operator on a type of object that doesn't support it!\n",
    "\n",
    "Another type error (with a different explanation) arises if we try switching the order of the string and number."
   ]
  },
  {
   "cell_type": "code",
   "execution_count": null,
   "metadata": {
    "tags": [
     "raises-exception"
    ]
   },
   "outputs": [],
   "source": [
    "'2' + 1"
   ]
  },
  {
   "cell_type": "markdown",
   "metadata": {},
   "source": [
    "Or if we try to use an operator that strings don't understand, like subtraction."
   ]
  },
  {
   "cell_type": "code",
   "execution_count": null,
   "metadata": {
    "tags": [
     "raises-exception"
    ]
   },
   "outputs": [],
   "source": [
    "'2' - '2'"
   ]
  },
  {
   "cell_type": "markdown",
   "metadata": {},
   "source": [
    "Sometimes we'll get a type error when using a function call on an object of the wrong type, too. For example, if we try using a math function on a string."
   ]
  },
  {
   "cell_type": "code",
   "execution_count": null,
   "metadata": {
    "tags": [
     "raises-exception"
    ]
   },
   "outputs": [],
   "source": [
    "import math\n",
    "math.log('2')"
   ]
  },
  {
   "cell_type": "markdown",
   "metadata": {},
   "source": [
    "```{tip}\n",
    "Notice that the explanation that follows the `TypeError` at the very bottom will almost always explain the data types of your operands -- which is helpful to figure out exactly what variables or values lead to the code breaking!\n",
    "```"
   ]
  },
  {
   "cell_type": "markdown",
   "metadata": {},
   "source": [
    "## Other data types"
   ]
  },
  {
   "cell_type": "markdown",
   "metadata": {},
   "source": [
    "Once we move past primitives, our objects start getting more complex!\n",
    "\n",
    "Remember, everything has a type. We saw at the beginning of this page that even functions are a type of object.\n",
    "\n",
    "Besides functions, the most common types of objects we'll observe will act mostly like containers for raw data. Examples of these container-like data types include lists, arrays, and tables -- all of which are extremely useful and you'll soon know!"
   ]
  },
  {
   "cell_type": "markdown",
   "metadata": {},
   "source": [
    "## Summary\n",
    "\n",
    "- Multiple strings can be glued together using `+`.\n",
    "- Strings own a handful of **methods** -- functions that belong solely to the data type of strings.\n",
    "- String methods are called using **dot notation**, by placing a dot after a string or variable name of a string, then calling the function: `my_string.function_name(arguments, ...)`\n",
    "- Some string methods allow you to create new strings that change capitalization or find and replace snippets of text.\n",
    "\n",
    "Lots of objects can be compared using **comparison operators**, `<` `<=` `>` `>=` `==` `!=`, which will return a boolean value.\n",
    "\n",
    "Trying to perform an operation on data types that don't support that operation will often result in a **TypeError**.\n",
    "\n",
    "Most other data types that aren't primitive are either functions or act like containers for primitive types."
   ]
  }
 ],
 "metadata": {
  "celltoolbar": "Tags",
  "kernelspec": {
   "display_name": "Python 3",
   "language": "python",
   "name": "python3"
  },
  "language_info": {
   "codemirror_mode": {
    "name": "ipython",
    "version": 3
   },
   "file_extension": ".py",
   "mimetype": "text/x-python",
   "name": "python",
   "nbconvert_exporter": "python",
   "pygments_lexer": "ipython3",
   "version": "3.8.2"
  }
 },
 "nbformat": 4,
 "nbformat_minor": 4
}
