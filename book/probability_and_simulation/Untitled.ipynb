{
 "cells": [
  {
   "cell_type": "markdown",
   "metadata": {},
   "source": [
    "# Probabilities and Simulation"
   ]
  },
  {
   "cell_type": "markdown",
   "metadata": {},
   "source": [
    "Welcome to the second half of this textbook! Let's start it with a bold statement: the study of probability is the key to tackling uncertainty.\n",
    "\n",
    "What does that mean? And, if it's true, how do we use Python to the power of probabilities?"
   ]
  },
  {
   "cell_type": "markdown",
   "metadata": {},
   "source": [
    "## What are probabilities?"
   ]
  },
  {
   "cell_type": "markdown",
   "metadata": {},
   "source": [
    "So far, we've learned how to use Python and Babypandas to answer specific questions about our data, such as \"[what is the average number of cinnamon rolls eaten by each country?]\" Question like these have a definite correct answer that we can be satisfied giving. However, many of the decisions we face in life arise from questions that don't have such clear-cut answers, like \"[will eating a cinnamon roll make me happier?\"]. These types of questions often don't have a single answer, but instead have a handful of possible answers that may be more or less likely to be true -- there is uncertainty involved. And the way we tackle that uncertainty is by finding *just how likely* each of those answers is to be."
   ]
  },
  {
   "cell_type": "code",
   "execution_count": null,
   "metadata": {},
   "outputs": [],
   "source": []
  },
  {
   "cell_type": "markdown",
   "metadata": {},
   "source": [
    "## Using Python to simulate probabilities"
   ]
  },
  {
   "cell_type": "code",
   "execution_count": null,
   "metadata": {},
   "outputs": [],
   "source": []
  }
 ],
 "metadata": {
  "kernelspec": {
   "display_name": "Python 3",
   "language": "python",
   "name": "python3"
  },
  "language_info": {
   "codemirror_mode": {
    "name": "ipython",
    "version": 3
   },
   "file_extension": ".py",
   "mimetype": "text/x-python",
   "name": "python",
   "nbconvert_exporter": "python",
   "pygments_lexer": "ipython3",
   "version": "3.8.3"
  }
 },
 "nbformat": 4,
 "nbformat_minor": 4
}
