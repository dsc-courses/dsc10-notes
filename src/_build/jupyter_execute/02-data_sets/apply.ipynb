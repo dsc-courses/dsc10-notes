{
 "cells": [
  {
   "cell_type": "code",
   "execution_count": 1,
   "metadata": {
    "tags": [
     "remove-cell"
    ]
   },
   "outputs": [],
   "source": [
    "import babypandas as bpd\n",
    "calfire = bpd.read_csv('data/calfire-full.csv')"
   ]
  },
  {
   "cell_type": "markdown",
   "metadata": {},
   "source": [
    "# Defining and Applying Functions"
   ]
  },
  {
   "cell_type": "markdown",
   "metadata": {},
   "source": [
    "We have seen that Python comes with a bunch of useful functions for performing common tasks. For instance, the built-in `round` function rounds a number to a specified number of decimal places."
   ]
  },
  {
   "cell_type": "code",
   "execution_count": 2,
   "metadata": {},
   "outputs": [
    {
     "data": {
      "text/plain": [
       "3.14"
      ]
     },
     "execution_count": 2,
     "metadata": {},
     "output_type": "execute_result"
    }
   ],
   "source": [
    "round(3.1415, 2)"
   ]
  },
  {
   "cell_type": "markdown",
   "metadata": {},
   "source": [
    "We have also seen that we can access even more functions by installing and importing a library, like *NumPy* or *babypandas*.\n",
    "\n",
    "In some cases, however, there might not be a library providing the function that you need. Luckily, Python allows us to define our own functions. In this section, we'll see how to create functions and apply them to tables."
   ]
  },
  {
   "cell_type": "markdown",
   "metadata": {},
   "source": [
    "## Defining Functions"
   ]
  },
  {
   "cell_type": "markdown",
   "metadata": {},
   "source": [
    "Suppose you are working with a dataset containing a bunch of street addresses, such as the following address of the University of California, San Diego:"
   ]
  },
  {
   "cell_type": "code",
   "execution_count": 3,
   "metadata": {},
   "outputs": [],
   "source": [
    "ucsd = '9500 Gilman Dr, La Jolla, CA 92093'"
   ]
  },
  {
   "cell_type": "markdown",
   "metadata": {},
   "source": [
    "Suppose we only care about the city and state. That is, we'd like to extract the string `'La Jolla, CA'` from the full address. Python doesn't come with a function that does exactly this, but we can write our own without too much work.\n",
    "\n",
    "### Splitting Strings\n",
    "\n",
    "A typical address has several parts: the street address, the city name, the state, and the zip code. The parts are separated by commas (with the exception of the state and zip code). Python strings have a helpful `.split` method which will split a string into parts according to whatever delimiter we provide. To split by a comma, we write:"
   ]
  },
  {
   "cell_type": "code",
   "execution_count": 4,
   "metadata": {},
   "outputs": [
    {
     "data": {
      "text/plain": [
       "['9500 Gilman Dr', ' La Jolla', ' CA 92093']"
      ]
     },
     "execution_count": 4,
     "metadata": {},
     "output_type": "execute_result"
    }
   ],
   "source": [
    "ucsd.split(',')"
   ]
  },
  {
   "cell_type": "markdown",
   "metadata": {},
   "source": [
    "The result is a list of strings, each of them a part of the original list.\n",
    "\n",
    "If we do not provide a delimiter, the default behavior of `.split` is to split based on whitespace (such as spaces):"
   ]
  },
  {
   "cell_type": "code",
   "execution_count": 5,
   "metadata": {},
   "outputs": [
    {
     "data": {
      "text/plain": [
       "['9500', 'Gilman', 'Dr,', 'La', 'Jolla,', 'CA', '92093']"
      ]
     },
     "execution_count": 5,
     "metadata": {},
     "output_type": "execute_result"
    }
   ],
   "source": [
    "ucsd.split()"
   ]
  },
  {
   "cell_type": "markdown",
   "metadata": {},
   "source": [
    "We can use `.split` to retrieve the city and state name. Notice that when we split by commas, the city name will always be the second-to-last entry of the resulting list. This is because the last comma separates the city from the state and zip code. Remember that we can retrieve the second-to-last element of a list using square bracket notation, combined with using `-2` as the index:"
   ]
  },
  {
   "cell_type": "code",
   "execution_count": 6,
   "metadata": {},
   "outputs": [
    {
     "data": {
      "text/plain": [
       "' La Jolla'"
      ]
     },
     "execution_count": 6,
     "metadata": {},
     "output_type": "execute_result"
    }
   ],
   "source": [
    "city = ucsd.split(',')[-2]\n",
    "city"
   ]
  },
  {
   "cell_type": "markdown",
   "metadata": {},
   "source": [
    "The result has a leading space that we might want to get rid of -- we'll deal with that in a moment. For now, let's retrieve the state name. To do this, it might be easiest to split based on whitespace -- then the state abbreviation will again be the second-to-last element of the list:"
   ]
  },
  {
   "cell_type": "code",
   "execution_count": 7,
   "metadata": {},
   "outputs": [
    {
     "data": {
      "text/plain": [
       "'CA'"
      ]
     },
     "execution_count": 7,
     "metadata": {},
     "output_type": "execute_result"
    }
   ],
   "source": [
    "state = ucsd.split()[-2]\n",
    "state"
   ]
  },
  {
   "cell_type": "markdown",
   "metadata": {},
   "source": [
    "We'd like to put the city and state together into a single string, like `'La Jolla, CA'`. To do so, remember that the `+` operator *concatenates* strings:"
   ]
  },
  {
   "cell_type": "code",
   "execution_count": 8,
   "metadata": {},
   "outputs": [
    {
     "data": {
      "text/plain": [
       "' La Jolla, CA'"
      ]
     },
     "execution_count": 8,
     "metadata": {},
     "output_type": "execute_result"
    }
   ],
   "source": [
    "city_and_state = city + ', ' + state\n",
    "city_and_state"
   ]
  },
  {
   "cell_type": "markdown",
   "metadata": {},
   "source": [
    "This is almost perfect, but let's get rid of the leading space. We can do this with the `.strip()` string method, which removes leading and trailing whitespace."
   ]
  },
  {
   "cell_type": "code",
   "execution_count": 9,
   "metadata": {},
   "outputs": [
    {
     "data": {
      "text/plain": [
       "'La Jolla, CA'"
      ]
     },
     "execution_count": 9,
     "metadata": {},
     "output_type": "execute_result"
    }
   ],
   "source": [
    "city_and_state.strip()"
   ]
  },
  {
   "cell_type": "markdown",
   "metadata": {},
   "source": [
    "Great! Putting it all together, here's the code we used to retrieve the city and state:"
   ]
  },
  {
   "cell_type": "code",
   "execution_count": 10,
   "metadata": {},
   "outputs": [
    {
     "data": {
      "text/plain": [
       "'La Jolla, CA'"
      ]
     },
     "execution_count": 10,
     "metadata": {},
     "output_type": "execute_result"
    }
   ],
   "source": [
    "city = ucsd.split(',')[-2]\n",
    "state = ucsd.split()[-2]\n",
    "city_and_state = city + ', ' + state\n",
    "city_and_state.strip()"
   ]
  },
  {
   "cell_type": "markdown",
   "metadata": {},
   "source": [
    "This code might seem simple enough, but suppose we have another address that we'd like to process:"
   ]
  },
  {
   "cell_type": "code",
   "execution_count": 11,
   "metadata": {},
   "outputs": [],
   "source": [
    "lego = 'LEGOLAND California Resort 1 Legoland Dr, Carlsbad, CA 92008'"
   ]
  },
  {
   "cell_type": "markdown",
   "metadata": {},
   "source": [
    "We *could* copy and paste the code above, but there is a better way: let's define a function."
   ]
  },
  {
   "cell_type": "markdown",
   "metadata": {},
   "source": [
    "### The `def` statement\n",
    "\n",
    "In Python, new functions are created using the `def` statement. Here is an example of a function which retrieves the city and state name from an address:"
   ]
  },
  {
   "cell_type": "code",
   "execution_count": 12,
   "metadata": {},
   "outputs": [],
   "source": [
    "def city_comma_state(address):\n",
    "    \"\"\"Return CITY, ST from an address string.\"\"\"\n",
    "    city = address.split(',')[-2]\n",
    "    state = address.split()[-2]\n",
    "    city_and_state = city + ', ' + state\n",
    "    return city_and_state.strip()"
   ]
  },
  {
   "cell_type": "markdown",
   "metadata": {},
   "source": [
    "There is a lot to say about this, but first let's test the function to see if it works. We call user-defined functions just like any other function:"
   ]
  },
  {
   "cell_type": "code",
   "execution_count": 13,
   "metadata": {},
   "outputs": [
    {
     "data": {
      "text/plain": [
       "'La Jolla, CA'"
      ]
     },
     "execution_count": 13,
     "metadata": {},
     "output_type": "execute_result"
    }
   ],
   "source": [
    "city_comma_state('9500 Gilman Dr, La Jolla, CA 92093')"
   ]
  },
  {
   "cell_type": "code",
   "execution_count": 14,
   "metadata": {},
   "outputs": [
    {
     "data": {
      "text/plain": [
       "'La Jolla, CA'"
      ]
     },
     "execution_count": 14,
     "metadata": {},
     "output_type": "execute_result"
    }
   ],
   "source": [
    "city_comma_state(ucsd)"
   ]
  },
  {
   "cell_type": "code",
   "execution_count": 15,
   "metadata": {},
   "outputs": [
    {
     "data": {
      "text/plain": [
       "'Carlsbad, CA'"
      ]
     },
     "execution_count": 15,
     "metadata": {},
     "output_type": "execute_result"
    }
   ],
   "source": [
    "city_comma_state(lego)"
   ]
  },
  {
   "cell_type": "markdown",
   "metadata": {},
   "source": [
    "Let's take a closer look at the anatomy of a function definition. {numref}`function` below shows all of the different parts."
   ]
  },
  {
   "cell_type": "markdown",
   "metadata": {},
   "source": [
    "```{figure} ../images/function.svg\n",
    "---\n",
    "width: 80%\n",
    "name: function\n",
    "---\n",
    "The anatomy of a function.\n",
    "```"
   ]
  },
  {
   "cell_type": "markdown",
   "metadata": {},
   "source": [
    "#### Name\n",
    "\n",
    "A function definition starts with a name. Above, we've named our function `city_comma_state`, but any valid variable name would do. A function's name should be short but descriptive.\n",
    "\n",
    "#### Arguments\n",
    "\n",
    "Next come the function's arguments. These are the \"inputs\" to the function. In this case, there is only one argument: the address that will be processed. We'll see how to define functions with more than one argument in a moment. A function can also have zero arguments, in which case we would write `def function_with_no_args():`. The arguments can be named anything, as long as they are valid variable names. The arguments are surrounded by parentheses, and separated by commas.\n",
    "\n",
    "#### Body\n",
    "\n",
    "The body of the function contains the code that will be executed when the function is called. The arguments can be used within the body of the function. The body of the function must be indented -- we usually do this with the tab key.\n",
    "\n",
    "#### Docstring\n",
    "\n",
    "The docstring is a piece of documentation that tells the reader what the function does. Including it is optional but recommended. If you ask Python for information on your function using `help`, the docstring will be displayed!"
   ]
  },
  {
   "cell_type": "code",
   "execution_count": 16,
   "metadata": {},
   "outputs": [
    {
     "name": "stdout",
     "output_type": "stream",
     "text": [
      "Help on function city_comma_state in module __main__:\n",
      "\n",
      "city_comma_state(address)\n",
      "    Return CITY, ST from an address string.\n",
      "\n"
     ]
    }
   ],
   "source": [
    "help(city_comma_state)"
   ]
  },
  {
   "cell_type": "markdown",
   "metadata": {},
   "source": [
    "#### Return\n",
    "\n",
    "A function should usually return some value -- this is done using the `return` statement, followed by an expression whose value will be returned."
   ]
  },
  {
   "cell_type": "markdown",
   "metadata": {},
   "source": [
    "### Function Behavior\n",
    "\n",
    "The code we include in a function behaves differently than the code we are used to writing in a couple of key ways."
   ]
  },
  {
   "cell_type": "markdown",
   "metadata": {},
   "source": [
    "#### Functions are \"recipes\"\n",
    "\n",
    "The code inside of a function is not executed until we call the function. For instance, suppose we try to do something impossible inside of a function -- like dividing by zero:"
   ]
  },
  {
   "cell_type": "code",
   "execution_count": 17,
   "metadata": {},
   "outputs": [],
   "source": [
    "def foo():\n",
    "    x = 1/0\n",
    "    return x"
   ]
  },
  {
   "cell_type": "markdown",
   "metadata": {},
   "source": [
    "If you run the cell defining this function, everything will be fine: you won't see an error. But when you *call* the function, Python let's you know that you're doing something that is mathematically impossible:"
   ]
  },
  {
   "cell_type": "code",
   "execution_count": 18,
   "metadata": {
    "tags": [
     "raises-exception"
    ]
   },
   "outputs": [
    {
     "ename": "ZeroDivisionError",
     "evalue": "division by zero",
     "output_type": "error",
     "traceback": [
      "\u001b[0;31m---------------------------------------------------------------------------\u001b[0m",
      "\u001b[0;31mZeroDivisionError\u001b[0m                         Traceback (most recent call last)",
      "\u001b[0;32m<ipython-input-18-c19b6d9633cf>\u001b[0m in \u001b[0;36m<module>\u001b[0;34m\u001b[0m\n\u001b[0;32m----> 1\u001b[0;31m \u001b[0mfoo\u001b[0m\u001b[0;34m(\u001b[0m\u001b[0;34m)\u001b[0m\u001b[0;34m\u001b[0m\u001b[0;34m\u001b[0m\u001b[0m\n\u001b[0m",
      "\u001b[0;32m<ipython-input-17-477336bbf293>\u001b[0m in \u001b[0;36mfoo\u001b[0;34m()\u001b[0m\n\u001b[1;32m      1\u001b[0m \u001b[0;32mdef\u001b[0m \u001b[0mfoo\u001b[0m\u001b[0;34m(\u001b[0m\u001b[0;34m)\u001b[0m\u001b[0;34m:\u001b[0m\u001b[0;34m\u001b[0m\u001b[0;34m\u001b[0m\u001b[0m\n\u001b[0;32m----> 2\u001b[0;31m     \u001b[0mx\u001b[0m \u001b[0;34m=\u001b[0m \u001b[0;36m1\u001b[0m\u001b[0;34m/\u001b[0m\u001b[0;36m0\u001b[0m\u001b[0;34m\u001b[0m\u001b[0;34m\u001b[0m\u001b[0m\n\u001b[0m\u001b[1;32m      3\u001b[0m     \u001b[0;32mreturn\u001b[0m \u001b[0mx\u001b[0m\u001b[0;34m\u001b[0m\u001b[0;34m\u001b[0m\u001b[0m\n",
      "\u001b[0;31mZeroDivisionError\u001b[0m: division by zero"
     ]
    }
   ],
   "source": [
    "foo()"
   ]
  },
  {
   "cell_type": "markdown",
   "metadata": {},
   "source": [
    "This is because function definition are like recipes in the sense that handing someone a recipe is not the same as following the recipe and preparing the meal."
   ]
  },
  {
   "cell_type": "markdown",
   "metadata": {},
   "source": [
    "#### Scope\n",
    "\n",
    "Variables defined within a function are available only inside of the function. We can define variables inside a function just as we normally would:"
   ]
  },
  {
   "cell_type": "code",
   "execution_count": 19,
   "metadata": {},
   "outputs": [],
   "source": [
    "def foo():\n",
    "    x = 42\n",
    "    y = 5\n",
    "    return x + y"
   ]
  },
  {
   "cell_type": "markdown",
   "metadata": {},
   "source": [
    "If we run the function, we'll see the number `47` displayed:"
   ]
  },
  {
   "cell_type": "code",
   "execution_count": 20,
   "metadata": {},
   "outputs": [
    {
     "data": {
      "text/plain": [
       "47"
      ]
     },
     "execution_count": 20,
     "metadata": {},
     "output_type": "execute_result"
    }
   ],
   "source": [
    "foo()"
   ]
  },
  {
   "cell_type": "markdown",
   "metadata": {},
   "source": [
    "However, if we try to use the variable `x`, Python will yell at us:"
   ]
  },
  {
   "cell_type": "code",
   "execution_count": 21,
   "metadata": {
    "tags": [
     "raises-exception"
    ]
   },
   "outputs": [
    {
     "ename": "NameError",
     "evalue": "name 'x' is not defined",
     "output_type": "error",
     "traceback": [
      "\u001b[0;31m---------------------------------------------------------------------------\u001b[0m",
      "\u001b[0;31mNameError\u001b[0m                                 Traceback (most recent call last)",
      "\u001b[0;32m<ipython-input-21-6fcf9dfbd479>\u001b[0m in \u001b[0;36m<module>\u001b[0;34m\u001b[0m\n\u001b[0;32m----> 1\u001b[0;31m \u001b[0mx\u001b[0m\u001b[0;34m\u001b[0m\u001b[0;34m\u001b[0m\u001b[0m\n\u001b[0m",
      "\u001b[0;31mNameError\u001b[0m: name 'x' is not defined"
     ]
    }
   ],
   "source": [
    "x"
   ]
  },
  {
   "cell_type": "markdown",
   "metadata": {},
   "source": [
    "This is because variables defined within a function are accessible only within the function. If we want to use that variable outside of the function, we need to pass it back to the caller using a `return` statement."
   ]
  },
  {
   "cell_type": "markdown",
   "metadata": {},
   "source": [
    "```{margin}\n",
    "\n",
    "It is a very good thing that the variables defined inside of a function do not exist outside of a function. For one, good programming practice stresses **encapsulation** -- that is, to keep things simple, we shouldn't need to know exactly what is going on inside of a function to be able to use it. Second, if every variable used inside of a function were available outside of the function, things would get messy very fast. Having a bunch of extra variables -- most of which you'll never use -- is called **namespace pollution**. \n",
    "\n",
    "```"
   ]
  },
  {
   "cell_type": "markdown",
   "metadata": {},
   "source": [
    "Note that arguments count as \"variables defined within a function\". For instance:"
   ]
  },
  {
   "cell_type": "code",
   "execution_count": 22,
   "metadata": {},
   "outputs": [],
   "source": [
    "def foo(my_argument):\n",
    "    return my_argument + 2"
   ]
  },
  {
   "cell_type": "markdown",
   "metadata": {},
   "source": [
    "If we call the function, everything will act as expected:"
   ]
  },
  {
   "cell_type": "code",
   "execution_count": 23,
   "metadata": {},
   "outputs": [
    {
     "data": {
      "text/plain": [
       "44"
      ]
     },
     "execution_count": 23,
     "metadata": {},
     "output_type": "execute_result"
    }
   ],
   "source": [
    "foo(42)"
   ]
  },
  {
   "cell_type": "markdown",
   "metadata": {},
   "source": [
    "But if we try to access `my_argument` outside of the function, Python tells us that we can't:"
   ]
  },
  {
   "cell_type": "code",
   "execution_count": 24,
   "metadata": {
    "tags": [
     "raises-exception"
    ]
   },
   "outputs": [
    {
     "ename": "NameError",
     "evalue": "name 'my_argument' is not defined",
     "output_type": "error",
     "traceback": [
      "\u001b[0;31m---------------------------------------------------------------------------\u001b[0m",
      "\u001b[0;31mNameError\u001b[0m                                 Traceback (most recent call last)",
      "\u001b[0;32m<ipython-input-24-785f83eb3696>\u001b[0m in \u001b[0;36m<module>\u001b[0;34m\u001b[0m\n\u001b[0;32m----> 1\u001b[0;31m \u001b[0mmy_argument\u001b[0m\u001b[0;34m\u001b[0m\u001b[0;34m\u001b[0m\u001b[0m\n\u001b[0m",
      "\u001b[0;31mNameError\u001b[0m: name 'my_argument' is not defined"
     ]
    }
   ],
   "source": [
    "my_argument"
   ]
  },
  {
   "cell_type": "markdown",
   "metadata": {},
   "source": [
    "On the other hand, variables defined outside of a function are available inside the function. Consider for instance:"
   ]
  },
  {
   "cell_type": "code",
   "execution_count": 25,
   "metadata": {},
   "outputs": [],
   "source": [
    "x = 42\n",
    "def foo():\n",
    "    return x + 10"
   ]
  },
  {
   "cell_type": "code",
   "execution_count": 26,
   "metadata": {},
   "outputs": [
    {
     "data": {
      "text/plain": [
       "52"
      ]
     },
     "execution_count": 26,
     "metadata": {},
     "output_type": "execute_result"
    }
   ],
   "source": [
    "foo()"
   ]
  },
  {
   "cell_type": "markdown",
   "metadata": {},
   "source": [
    "Use this behavior sparingly -- it is usually better to \"isolate\" a function from the outside world by passing in all of the variables that it needs."
   ]
  },
  {
   "cell_type": "markdown",
   "metadata": {},
   "source": [
    "#### `return` exits the function\n",
    "\n",
    "As soon as Python encounters a `return` statement, it stops executing the function and returns the corresponding value. As an example, consider the code below which has three `return`s. Only the first return statement will ever run:"
   ]
  },
  {
   "cell_type": "code",
   "execution_count": 27,
   "metadata": {},
   "outputs": [],
   "source": [
    "def foo():\n",
    "    print('Starting execution.')\n",
    "    return 1\n",
    "    print('Hey, I made it!')\n",
    "    return 2\n",
    "    print('On to number three...')\n",
    "    return 3"
   ]
  },
  {
   "cell_type": "code",
   "execution_count": 28,
   "metadata": {},
   "outputs": [
    {
     "name": "stdout",
     "output_type": "stream",
     "text": [
      "Starting execution.\n"
     ]
    },
    {
     "data": {
      "text/plain": [
       "1"
      ]
     },
     "execution_count": 28,
     "metadata": {},
     "output_type": "execute_result"
    }
   ],
   "source": [
    "foo()"
   ]
  },
  {
   "cell_type": "markdown",
   "metadata": {},
   "source": [
    "#### `print`ing versus `return`ing\n",
    "\n",
    "As we saw above, functions are somewhat isolated from the rest of the world in the sense that variables defined within them cannot be used outside of the function. The \"correct\" way of transmitting values back to the world is to use a `return` statement. However, a common mistake is to think that `print` does the same thing. This is understandable, since `print`ing and `returning` looks similar in a Jupyter notebook. For example, let's define a function that both `print`s and `return`s:"
   ]
  },
  {
   "cell_type": "code",
   "execution_count": 29,
   "metadata": {},
   "outputs": [],
   "source": [
    "def foo():\n",
    "    x = 42\n",
    "    y = 52\n",
    "    print(y)\n",
    "    return x"
   ]
  },
  {
   "cell_type": "markdown",
   "metadata": {},
   "source": [
    "When we run this function, we'll see both values:"
   ]
  },
  {
   "cell_type": "code",
   "execution_count": 30,
   "metadata": {},
   "outputs": [
    {
     "name": "stdout",
     "output_type": "stream",
     "text": [
      "52\n"
     ]
    },
    {
     "data": {
      "text/plain": [
       "42"
      ]
     },
     "execution_count": 30,
     "metadata": {},
     "output_type": "execute_result"
    }
   ],
   "source": [
    "z = foo()\n",
    "z"
   ]
  },
  {
   "cell_type": "markdown",
   "metadata": {},
   "source": [
    "Only `42` is the *output* of the cell and can be \"saved\" to a variable. `52`, on the other hand, is simply displayed to the screen and is afterwards lost forever. This can be checked by displaying the value of `z`:"
   ]
  },
  {
   "cell_type": "code",
   "execution_count": 31,
   "metadata": {},
   "outputs": [
    {
     "data": {
      "text/plain": [
       "42"
      ]
     },
     "execution_count": 31,
     "metadata": {},
     "output_type": "execute_result"
    }
   ],
   "source": [
    "z"
   ]
  },
  {
   "cell_type": "markdown",
   "metadata": {},
   "source": [
    "Nevertheless, using `print` inside of a function can be helpful in \"debugging\" -- more on that in a moment.\n",
    "Lastly, if you truly want to return two values from a function, the right way to do so is by separating them with a comma, as follows:"
   ]
  },
  {
   "cell_type": "code",
   "execution_count": 32,
   "metadata": {},
   "outputs": [],
   "source": [
    "def foo():\n",
    "    x = 42\n",
    "    y = 52\n",
    "    return x, y"
   ]
  },
  {
   "cell_type": "markdown",
   "metadata": {},
   "source": [
    "When the function is run, it will return a **tuple** of two things:"
   ]
  },
  {
   "cell_type": "code",
   "execution_count": 33,
   "metadata": {},
   "outputs": [
    {
     "data": {
      "text/plain": [
       "(42, 52)"
      ]
     },
     "execution_count": 33,
     "metadata": {},
     "output_type": "execute_result"
    }
   ],
   "source": [
    "foo()"
   ]
  },
  {
   "cell_type": "markdown",
   "metadata": {},
   "source": [
    "A **tuple** is like a list, so we can use square bracket notation to retrieve each element:"
   ]
  },
  {
   "cell_type": "code",
   "execution_count": 34,
   "metadata": {},
   "outputs": [
    {
     "data": {
      "text/plain": [
       "42"
      ]
     },
     "execution_count": 34,
     "metadata": {},
     "output_type": "execute_result"
    }
   ],
   "source": [
    "foo()[0]"
   ]
  },
  {
   "cell_type": "code",
   "execution_count": 35,
   "metadata": {},
   "outputs": [
    {
     "data": {
      "text/plain": [
       "52"
      ]
     },
     "execution_count": 35,
     "metadata": {},
     "output_type": "execute_result"
    }
   ],
   "source": [
    "foo()[1]"
   ]
  },
  {
   "cell_type": "markdown",
   "metadata": {},
   "source": [
    "We won't usually need to return more than one thing from a function, though."
   ]
  },
  {
   "cell_type": "markdown",
   "metadata": {},
   "source": [
    "## Examples\n",
    "\n",
    "***Given a year, produce the decade***"
   ]
  },
  {
   "cell_type": "markdown",
   "metadata": {},
   "source": [
    "Given a year, such as 1994, we'd like to retrieve the decade; in this case, 1990. At first we might think that `round` is useful:"
   ]
  },
  {
   "cell_type": "code",
   "execution_count": 36,
   "metadata": {},
   "outputs": [
    {
     "data": {
      "text/plain": [
       "1990"
      ]
     },
     "execution_count": 36,
     "metadata": {},
     "output_type": "execute_result"
    }
   ],
   "source": [
    "round(1994, -1)"
   ]
  },
  {
   "cell_type": "markdown",
   "metadata": {},
   "source": [
    "But it won't work for years like 1997, since it will round up:"
   ]
  },
  {
   "cell_type": "code",
   "execution_count": 37,
   "metadata": {},
   "outputs": [
    {
     "data": {
      "text/plain": [
       "2000"
      ]
     },
     "execution_count": 37,
     "metadata": {},
     "output_type": "execute_result"
    }
   ],
   "source": [
    "round(1997, -1)"
   ]
  },
  {
   "cell_type": "markdown",
   "metadata": {},
   "source": [
    "There are a few approaches that do work. One way is to use the `%` operator. Remember that `x % y` returns the *remainder* upon dividing `x` by `y`. For example:"
   ]
  },
  {
   "cell_type": "code",
   "execution_count": 38,
   "metadata": {},
   "outputs": [
    {
     "data": {
      "text/plain": [
       "2"
      ]
     },
     "execution_count": 38,
     "metadata": {},
     "output_type": "execute_result"
    }
   ],
   "source": [
    "1992 % 10"
   ]
  },
  {
   "cell_type": "markdown",
   "metadata": {},
   "source": [
    "To find the decade, we can simply subtract the remainder obtained by dividing by ten:"
   ]
  },
  {
   "cell_type": "code",
   "execution_count": 39,
   "metadata": {},
   "outputs": [
    {
     "data": {
      "text/plain": [
       "1990"
      ]
     },
     "execution_count": 39,
     "metadata": {},
     "output_type": "execute_result"
    }
   ],
   "source": [
    "1992 - (1992 % 10)"
   ]
  },
  {
   "cell_type": "code",
   "execution_count": 40,
   "metadata": {},
   "outputs": [
    {
     "data": {
      "text/plain": [
       "1990"
      ]
     },
     "execution_count": 40,
     "metadata": {},
     "output_type": "execute_result"
    }
   ],
   "source": [
    "1997 - (1997 % 10)"
   ]
  },
  {
   "cell_type": "code",
   "execution_count": 41,
   "metadata": {},
   "outputs": [
    {
     "data": {
      "text/plain": [
       "2000"
      ]
     },
     "execution_count": 41,
     "metadata": {},
     "output_type": "execute_result"
    }
   ],
   "source": [
    "2000 - (2000 % 10)"
   ]
  },
  {
   "cell_type": "markdown",
   "metadata": {},
   "source": [
    "Placing this code in a function makes it so we don't have to remember this trick, and makes our code more **readable**:"
   ]
  },
  {
   "cell_type": "code",
   "execution_count": 42,
   "metadata": {},
   "outputs": [],
   "source": [
    "def decade_from_year(year):\n",
    "    return year - year % 10"
   ]
  },
  {
   "cell_type": "code",
   "execution_count": 43,
   "metadata": {},
   "outputs": [
    {
     "data": {
      "text/plain": [
       "1990"
      ]
     },
     "execution_count": 43,
     "metadata": {},
     "output_type": "execute_result"
    }
   ],
   "source": [
    "decade_from_year(1992)"
   ]
  },
  {
   "cell_type": "code",
   "execution_count": 44,
   "metadata": {},
   "outputs": [
    {
     "data": {
      "text/plain": [
       "1990"
      ]
     },
     "execution_count": 44,
     "metadata": {},
     "output_type": "execute_result"
    }
   ],
   "source": [
    "decade_from_year(1997)"
   ]
  },
  {
   "cell_type": "markdown",
   "metadata": {},
   "source": [
    "***Given height and width, compute the area of a triangle***"
   ]
  },
  {
   "cell_type": "markdown",
   "metadata": {},
   "source": [
    "We need to define a function with *two* variables. We do so by separating the argument names with a comma, like so:"
   ]
  },
  {
   "cell_type": "code",
   "execution_count": 45,
   "metadata": {},
   "outputs": [],
   "source": [
    "def area_of_triangle(base, height):\n",
    "    return 1/2 * base * height"
   ]
  },
  {
   "cell_type": "code",
   "execution_count": 46,
   "metadata": {},
   "outputs": [
    {
     "data": {
      "text/plain": [
       "25.0"
      ]
     },
     "execution_count": 46,
     "metadata": {},
     "output_type": "execute_result"
    }
   ],
   "source": [
    "area_of_triangle(10, 5)"
   ]
  },
  {
   "cell_type": "markdown",
   "metadata": {},
   "source": [
    "Note that the *order* of the arguments matters. When `area_of_triangle(10, 5)` is executed, Python assigns the value of 10 to `base` and assigns the value of 5 to `height`. If you wish, you can use the keyword argument form to call the function, in which case arguments can be provided in any order. This is slightly more readable, too:"
   ]
  },
  {
   "cell_type": "code",
   "execution_count": 47,
   "metadata": {},
   "outputs": [
    {
     "data": {
      "text/plain": [
       "20.0"
      ]
     },
     "execution_count": 47,
     "metadata": {},
     "output_type": "execute_result"
    }
   ],
   "source": [
    "area_of_triangle(height=4, base=10)"
   ]
  },
  {
   "cell_type": "markdown",
   "metadata": {},
   "source": [
    "***Perform a frequent query***"
   ]
  },
  {
   "cell_type": "markdown",
   "metadata": {},
   "source": [
    "Suppose we frequently want to retrieve only those rows of a table whose entries lie between some thresholds. For instance, we\n",
    " might want only those fires in` calfire` from between 1995 and 2000. By writing this query into a function accepting a table, a column, and the thresholds, we make it easy to repeat:"
   ]
  },
  {
   "cell_type": "code",
   "execution_count": 48,
   "metadata": {},
   "outputs": [],
   "source": [
    "def between(table, column, start, stop):\n",
    "    return table[(table.get(column) >= start) & (table.get(column) < stop)]"
   ]
  },
  {
   "cell_type": "markdown",
   "metadata": {},
   "source": [
    "For instance, to get only those fires from between 1995 and 2000:"
   ]
  },
  {
   "cell_type": "code",
   "execution_count": 49,
   "metadata": {},
   "outputs": [
    {
     "data": {
      "text/html": [
       "<div>\n",
       "<style scoped>\n",
       "    .dataframe tbody tr th:only-of-type {\n",
       "        vertical-align: middle;\n",
       "    }\n",
       "\n",
       "    .dataframe tbody tr th {\n",
       "        vertical-align: top;\n",
       "    }\n",
       "\n",
       "    .dataframe thead th {\n",
       "        text-align: right;\n",
       "    }\n",
       "</style>\n",
       "<table border=\"1\" class=\"dataframe\">\n",
       "  <thead>\n",
       "    <tr style=\"text-align: right;\">\n",
       "      <th></th>\n",
       "      <th>year</th>\n",
       "      <th>month</th>\n",
       "      <th>name</th>\n",
       "      <th>cause</th>\n",
       "      <th>acres</th>\n",
       "      <th>county</th>\n",
       "      <th>longitude</th>\n",
       "      <th>latitude</th>\n",
       "    </tr>\n",
       "  </thead>\n",
       "  <tbody>\n",
       "    <tr>\n",
       "      <th>6374</th>\n",
       "      <td>1995</td>\n",
       "      <td>11</td>\n",
       "      <td>SEMINOLE</td>\n",
       "      <td>2 - Equipment Use</td>\n",
       "      <td>645.149780</td>\n",
       "      <td>Riverside</td>\n",
       "      <td>-116.772176</td>\n",
       "      <td>33.890971</td>\n",
       "    </tr>\n",
       "    <tr>\n",
       "      <th>6375</th>\n",
       "      <td>1995</td>\n",
       "      <td>10</td>\n",
       "      <td>SHINN</td>\n",
       "      <td>7 - Arson</td>\n",
       "      <td>13.694411</td>\n",
       "      <td>Los Angeles</td>\n",
       "      <td>-117.679804</td>\n",
       "      <td>34.181470</td>\n",
       "    </tr>\n",
       "    <tr>\n",
       "      <th>6376</th>\n",
       "      <td>1995</td>\n",
       "      <td>8</td>\n",
       "      <td>ECHO</td>\n",
       "      <td>14 - Unknown</td>\n",
       "      <td>372.055573</td>\n",
       "      <td>Riverside</td>\n",
       "      <td>-117.209657</td>\n",
       "      <td>33.868816</td>\n",
       "    </tr>\n",
       "    <tr>\n",
       "      <th>6377</th>\n",
       "      <td>1995</td>\n",
       "      <td>10</td>\n",
       "      <td>FREEWAY FIRE NO II</td>\n",
       "      <td>14 - Unknown</td>\n",
       "      <td>1233.456909</td>\n",
       "      <td>Los Angeles</td>\n",
       "      <td>-118.372160</td>\n",
       "      <td>34.446973</td>\n",
       "    </tr>\n",
       "    <tr>\n",
       "      <th>6378</th>\n",
       "      <td>1995</td>\n",
       "      <td>12</td>\n",
       "      <td>TOWSLEY FIRE</td>\n",
       "      <td>14 - Unknown</td>\n",
       "      <td>818.184509</td>\n",
       "      <td>Los Angeles</td>\n",
       "      <td>-118.559865</td>\n",
       "      <td>34.345437</td>\n",
       "    </tr>\n",
       "    <tr>\n",
       "      <th>...</th>\n",
       "      <td>...</td>\n",
       "      <td>...</td>\n",
       "      <td>...</td>\n",
       "      <td>...</td>\n",
       "      <td>...</td>\n",
       "      <td>...</td>\n",
       "      <td>...</td>\n",
       "      <td>...</td>\n",
       "    </tr>\n",
       "    <tr>\n",
       "      <th>7333</th>\n",
       "      <td>1999</td>\n",
       "      <td>7</td>\n",
       "      <td>VINTAGE</td>\n",
       "      <td>2 - Equipment Use</td>\n",
       "      <td>34.438271</td>\n",
       "      <td>Kern</td>\n",
       "      <td>-119.521235</td>\n",
       "      <td>35.207022</td>\n",
       "    </tr>\n",
       "    <tr>\n",
       "      <th>7334</th>\n",
       "      <td>1999</td>\n",
       "      <td>8</td>\n",
       "      <td>41</td>\n",
       "      <td>10 - Vehicle</td>\n",
       "      <td>167.177612</td>\n",
       "      <td>Kern</td>\n",
       "      <td>-120.176735</td>\n",
       "      <td>35.768621</td>\n",
       "    </tr>\n",
       "    <tr>\n",
       "      <th>7335</th>\n",
       "      <td>1999</td>\n",
       "      <td>8</td>\n",
       "      <td>WASHBURN</td>\n",
       "      <td>1 - Lightning</td>\n",
       "      <td>272.034943</td>\n",
       "      <td>San Luis Obispo</td>\n",
       "      <td>-119.806037</td>\n",
       "      <td>35.132310</td>\n",
       "    </tr>\n",
       "    <tr>\n",
       "      <th>7336</th>\n",
       "      <td>1999</td>\n",
       "      <td>8</td>\n",
       "      <td>WOODLAND</td>\n",
       "      <td>1 - Lightning</td>\n",
       "      <td>995.418335</td>\n",
       "      <td>Butte</td>\n",
       "      <td>-121.699525</td>\n",
       "      <td>39.859890</td>\n",
       "    </tr>\n",
       "    <tr>\n",
       "      <th>7337</th>\n",
       "      <td>1999</td>\n",
       "      <td>8</td>\n",
       "      <td>BLOOMER</td>\n",
       "      <td>1 - Lightning</td>\n",
       "      <td>2609.674805</td>\n",
       "      <td>Butte</td>\n",
       "      <td>-121.476863</td>\n",
       "      <td>39.644791</td>\n",
       "    </tr>\n",
       "  </tbody>\n",
       "</table>\n",
       "<p>964 rows × 8 columns</p>\n",
       "</div>"
      ],
      "text/plain": [
       "      year  month                name              cause        acres  \\\n",
       "6374  1995     11            SEMINOLE  2 - Equipment Use   645.149780   \n",
       "6375  1995     10               SHINN          7 - Arson    13.694411   \n",
       "6376  1995      8                ECHO       14 - Unknown   372.055573   \n",
       "6377  1995     10  FREEWAY FIRE NO II       14 - Unknown  1233.456909   \n",
       "6378  1995     12        TOWSLEY FIRE       14 - Unknown   818.184509   \n",
       "...    ...    ...                 ...                ...          ...   \n",
       "7333  1999      7             VINTAGE  2 - Equipment Use    34.438271   \n",
       "7334  1999      8                  41       10 - Vehicle   167.177612   \n",
       "7335  1999      8            WASHBURN      1 - Lightning   272.034943   \n",
       "7336  1999      8            WOODLAND      1 - Lightning   995.418335   \n",
       "7337  1999      8             BLOOMER      1 - Lightning  2609.674805   \n",
       "\n",
       "               county   longitude   latitude  \n",
       "6374        Riverside -116.772176  33.890971  \n",
       "6375      Los Angeles -117.679804  34.181470  \n",
       "6376        Riverside -117.209657  33.868816  \n",
       "6377      Los Angeles -118.372160  34.446973  \n",
       "6378      Los Angeles -118.559865  34.345437  \n",
       "...               ...         ...        ...  \n",
       "7333             Kern -119.521235  35.207022  \n",
       "7334             Kern -120.176735  35.768621  \n",
       "7335  San Luis Obispo -119.806037  35.132310  \n",
       "7336            Butte -121.699525  39.859890  \n",
       "7337            Butte -121.476863  39.644791  \n",
       "\n",
       "[964 rows x 8 columns]"
      ]
     },
     "execution_count": 49,
     "metadata": {},
     "output_type": "execute_result"
    }
   ],
   "source": [
    "between(calfire, 'year', 1995, 2000)"
   ]
  },
  {
   "cell_type": "markdown",
   "metadata": {},
   "source": [
    "Because this function accepts the column name, it is very reusable. We can use it to get the fires whose size is between 10,000 and 20,000 acres:"
   ]
  },
  {
   "cell_type": "code",
   "execution_count": 50,
   "metadata": {},
   "outputs": [
    {
     "data": {
      "text/html": [
       "<div>\n",
       "<style scoped>\n",
       "    .dataframe tbody tr th:only-of-type {\n",
       "        vertical-align: middle;\n",
       "    }\n",
       "\n",
       "    .dataframe tbody tr th {\n",
       "        vertical-align: top;\n",
       "    }\n",
       "\n",
       "    .dataframe thead th {\n",
       "        text-align: right;\n",
       "    }\n",
       "</style>\n",
       "<table border=\"1\" class=\"dataframe\">\n",
       "  <thead>\n",
       "    <tr style=\"text-align: right;\">\n",
       "      <th></th>\n",
       "      <th>year</th>\n",
       "      <th>month</th>\n",
       "      <th>name</th>\n",
       "      <th>cause</th>\n",
       "      <th>acres</th>\n",
       "      <th>county</th>\n",
       "      <th>longitude</th>\n",
       "      <th>latitude</th>\n",
       "    </tr>\n",
       "  </thead>\n",
       "  <tbody>\n",
       "    <tr>\n",
       "      <th>16</th>\n",
       "      <td>1910</td>\n",
       "      <td>7</td>\n",
       "      <td>COYOTE CREEK</td>\n",
       "      <td>14 - Unknown</td>\n",
       "      <td>11226.824219</td>\n",
       "      <td>Ventura</td>\n",
       "      <td>-119.386960</td>\n",
       "      <td>34.421249</td>\n",
       "    </tr>\n",
       "    <tr>\n",
       "      <th>251</th>\n",
       "      <td>1924</td>\n",
       "      <td>8</td>\n",
       "      <td>UPPER DESOLATION VAL</td>\n",
       "      <td>14 - Unknown</td>\n",
       "      <td>10973.407227</td>\n",
       "      <td>El Dorado</td>\n",
       "      <td>-120.506799</td>\n",
       "      <td>38.571552</td>\n",
       "    </tr>\n",
       "    <tr>\n",
       "      <th>317</th>\n",
       "      <td>1926</td>\n",
       "      <td>7</td>\n",
       "      <td>FORT BIDWELL</td>\n",
       "      <td>9 - Miscellaneous</td>\n",
       "      <td>13100.943359</td>\n",
       "      <td>Modoc</td>\n",
       "      <td>-120.082147</td>\n",
       "      <td>41.934478</td>\n",
       "    </tr>\n",
       "    <tr>\n",
       "      <th>322</th>\n",
       "      <td>1927</td>\n",
       "      <td>8</td>\n",
       "      <td>LIEBRE</td>\n",
       "      <td>14 - Unknown</td>\n",
       "      <td>17957.339844</td>\n",
       "      <td>Los Angeles</td>\n",
       "      <td>-118.611143</td>\n",
       "      <td>34.719225</td>\n",
       "    </tr>\n",
       "    <tr>\n",
       "      <th>739</th>\n",
       "      <td>1938</td>\n",
       "      <td>8</td>\n",
       "      <td>RED CAP</td>\n",
       "      <td>14 - Unknown</td>\n",
       "      <td>14867.953125</td>\n",
       "      <td>Humboldt</td>\n",
       "      <td>-123.470725</td>\n",
       "      <td>41.174271</td>\n",
       "    </tr>\n",
       "    <tr>\n",
       "      <th>...</th>\n",
       "      <td>...</td>\n",
       "      <td>...</td>\n",
       "      <td>...</td>\n",
       "      <td>...</td>\n",
       "      <td>...</td>\n",
       "      <td>...</td>\n",
       "      <td>...</td>\n",
       "      <td>...</td>\n",
       "    </tr>\n",
       "    <tr>\n",
       "      <th>12949</th>\n",
       "      <td>2018</td>\n",
       "      <td>7</td>\n",
       "      <td>CRANSTON</td>\n",
       "      <td>7 - Arson</td>\n",
       "      <td>13229.158203</td>\n",
       "      <td>Riverside</td>\n",
       "      <td>-116.696822</td>\n",
       "      <td>33.715582</td>\n",
       "    </tr>\n",
       "    <tr>\n",
       "      <th>12954</th>\n",
       "      <td>2018</td>\n",
       "      <td>6</td>\n",
       "      <td>LIONS</td>\n",
       "      <td>1 - Lightning</td>\n",
       "      <td>13462.742188</td>\n",
       "      <td>Madera</td>\n",
       "      <td>-119.166248</td>\n",
       "      <td>37.577131</td>\n",
       "    </tr>\n",
       "    <tr>\n",
       "      <th>13290</th>\n",
       "      <td>2019</td>\n",
       "      <td>9</td>\n",
       "      <td>TABOOSE</td>\n",
       "      <td>1 - Lightning</td>\n",
       "      <td>10267.631836</td>\n",
       "      <td>Inyo</td>\n",
       "      <td>-118.348358</td>\n",
       "      <td>37.021613</td>\n",
       "    </tr>\n",
       "    <tr>\n",
       "      <th>13305</th>\n",
       "      <td>2019</td>\n",
       "      <td>7</td>\n",
       "      <td>TUCKER</td>\n",
       "      <td>9 - Miscellaneous</td>\n",
       "      <td>14184.661133</td>\n",
       "      <td>Modoc</td>\n",
       "      <td>-121.241082</td>\n",
       "      <td>41.803004</td>\n",
       "    </tr>\n",
       "    <tr>\n",
       "      <th>13365</th>\n",
       "      <td>2019</td>\n",
       "      <td>10</td>\n",
       "      <td>MARIA</td>\n",
       "      <td>14 - Unknown</td>\n",
       "      <td>10042.458984</td>\n",
       "      <td>Ventura</td>\n",
       "      <td>-119.056671</td>\n",
       "      <td>34.314244</td>\n",
       "    </tr>\n",
       "  </tbody>\n",
       "</table>\n",
       "<p>235 rows × 8 columns</p>\n",
       "</div>"
      ],
      "text/plain": [
       "       year  month                  name              cause         acres  \\\n",
       "16     1910      7          COYOTE CREEK       14 - Unknown  11226.824219   \n",
       "251    1924      8  UPPER DESOLATION VAL       14 - Unknown  10973.407227   \n",
       "317    1926      7          FORT BIDWELL  9 - Miscellaneous  13100.943359   \n",
       "322    1927      8                LIEBRE       14 - Unknown  17957.339844   \n",
       "739    1938      8               RED CAP       14 - Unknown  14867.953125   \n",
       "...     ...    ...                   ...                ...           ...   \n",
       "12949  2018      7              CRANSTON          7 - Arson  13229.158203   \n",
       "12954  2018      6                 LIONS      1 - Lightning  13462.742188   \n",
       "13290  2019      9               TABOOSE      1 - Lightning  10267.631836   \n",
       "13305  2019      7                TUCKER  9 - Miscellaneous  14184.661133   \n",
       "13365  2019     10                 MARIA       14 - Unknown  10042.458984   \n",
       "\n",
       "            county   longitude   latitude  \n",
       "16         Ventura -119.386960  34.421249  \n",
       "251      El Dorado -120.506799  38.571552  \n",
       "317          Modoc -120.082147  41.934478  \n",
       "322    Los Angeles -118.611143  34.719225  \n",
       "739       Humboldt -123.470725  41.174271  \n",
       "...            ...         ...        ...  \n",
       "12949    Riverside -116.696822  33.715582  \n",
       "12954       Madera -119.166248  37.577131  \n",
       "13290         Inyo -118.348358  37.021613  \n",
       "13305        Modoc -121.241082  41.803004  \n",
       "13365      Ventura -119.056671  34.314244  \n",
       "\n",
       "[235 rows x 8 columns]"
      ]
     },
     "execution_count": 50,
     "metadata": {},
     "output_type": "execute_result"
    }
   ],
   "source": [
    "between(calfire, 'acres', 10_000, 20_000)"
   ]
  },
  {
   "cell_type": "markdown",
   "metadata": {},
   "source": [
    "Since the `<=` and `>` operators work on strings, too, we can get all of the fires whose name is between A and E:"
   ]
  },
  {
   "cell_type": "code",
   "execution_count": 51,
   "metadata": {},
   "outputs": [
    {
     "data": {
      "text/html": [
       "<div>\n",
       "<style scoped>\n",
       "    .dataframe tbody tr th:only-of-type {\n",
       "        vertical-align: middle;\n",
       "    }\n",
       "\n",
       "    .dataframe tbody tr th {\n",
       "        vertical-align: top;\n",
       "    }\n",
       "\n",
       "    .dataframe thead th {\n",
       "        text-align: right;\n",
       "    }\n",
       "</style>\n",
       "<table border=\"1\" class=\"dataframe\">\n",
       "  <thead>\n",
       "    <tr style=\"text-align: right;\">\n",
       "      <th></th>\n",
       "      <th>year</th>\n",
       "      <th>month</th>\n",
       "      <th>name</th>\n",
       "      <th>cause</th>\n",
       "      <th>acres</th>\n",
       "      <th>county</th>\n",
       "      <th>longitude</th>\n",
       "      <th>latitude</th>\n",
       "    </tr>\n",
       "  </thead>\n",
       "  <tbody>\n",
       "    <tr>\n",
       "      <th>2</th>\n",
       "      <td>1898</td>\n",
       "      <td>9</td>\n",
       "      <td>COZY DELL</td>\n",
       "      <td>14 - Unknown</td>\n",
       "      <td>2974.585205</td>\n",
       "      <td>Ventura</td>\n",
       "      <td>-119.265380</td>\n",
       "      <td>34.482316</td>\n",
       "    </tr>\n",
       "    <tr>\n",
       "      <th>9</th>\n",
       "      <td>1910</td>\n",
       "      <td>8</td>\n",
       "      <td>CRAWFORD CREEK 2</td>\n",
       "      <td>7 - Arson</td>\n",
       "      <td>497.885071</td>\n",
       "      <td>Humboldt</td>\n",
       "      <td>-123.552471</td>\n",
       "      <td>41.300052</td>\n",
       "    </tr>\n",
       "    <tr>\n",
       "      <th>10</th>\n",
       "      <td>1910</td>\n",
       "      <td>7</td>\n",
       "      <td>BLUFF CREEK</td>\n",
       "      <td>4 - Campfire</td>\n",
       "      <td>298.716553</td>\n",
       "      <td>Del Norte</td>\n",
       "      <td>-123.760361</td>\n",
       "      <td>41.430391</td>\n",
       "    </tr>\n",
       "    <tr>\n",
       "      <th>16</th>\n",
       "      <td>1910</td>\n",
       "      <td>7</td>\n",
       "      <td>COYOTE CREEK</td>\n",
       "      <td>14 - Unknown</td>\n",
       "      <td>11226.824219</td>\n",
       "      <td>Ventura</td>\n",
       "      <td>-119.386960</td>\n",
       "      <td>34.421249</td>\n",
       "    </tr>\n",
       "    <tr>\n",
       "      <th>17</th>\n",
       "      <td>1910</td>\n",
       "      <td>8</td>\n",
       "      <td>BULL CREEK</td>\n",
       "      <td>4 - Campfire</td>\n",
       "      <td>56.897217</td>\n",
       "      <td>Humboldt</td>\n",
       "      <td>-123.621988</td>\n",
       "      <td>41.174766</td>\n",
       "    </tr>\n",
       "    <tr>\n",
       "      <th>...</th>\n",
       "      <td>...</td>\n",
       "      <td>...</td>\n",
       "      <td>...</td>\n",
       "      <td>...</td>\n",
       "      <td>...</td>\n",
       "      <td>...</td>\n",
       "      <td>...</td>\n",
       "      <td>...</td>\n",
       "    </tr>\n",
       "    <tr>\n",
       "      <th>13446</th>\n",
       "      <td>2019</td>\n",
       "      <td>9</td>\n",
       "      <td>ANTELOPE</td>\n",
       "      <td>9 - Miscellaneous</td>\n",
       "      <td>167.332794</td>\n",
       "      <td>San Benito</td>\n",
       "      <td>-120.831821</td>\n",
       "      <td>36.558925</td>\n",
       "    </tr>\n",
       "    <tr>\n",
       "      <th>13451</th>\n",
       "      <td>2019</td>\n",
       "      <td>9</td>\n",
       "      <td>COW</td>\n",
       "      <td>10 - Vehicle</td>\n",
       "      <td>15.383965</td>\n",
       "      <td>Shasta</td>\n",
       "      <td>-122.038452</td>\n",
       "      <td>40.612144</td>\n",
       "    </tr>\n",
       "    <tr>\n",
       "      <th>13456</th>\n",
       "      <td>2019</td>\n",
       "      <td>9</td>\n",
       "      <td>DEER</td>\n",
       "      <td>5 - Debris</td>\n",
       "      <td>9.367375</td>\n",
       "      <td>Santa Cruz</td>\n",
       "      <td>-122.085541</td>\n",
       "      <td>37.183180</td>\n",
       "    </tr>\n",
       "    <tr>\n",
       "      <th>13457</th>\n",
       "      <td>2019</td>\n",
       "      <td>10</td>\n",
       "      <td>CABRILLO</td>\n",
       "      <td>2 - Equipment Use</td>\n",
       "      <td>61.750446</td>\n",
       "      <td>San Mateo</td>\n",
       "      <td>-122.358885</td>\n",
       "      <td>37.171839</td>\n",
       "    </tr>\n",
       "    <tr>\n",
       "      <th>13460</th>\n",
       "      <td>2019</td>\n",
       "      <td>10</td>\n",
       "      <td>CROSS</td>\n",
       "      <td>14 - Unknown</td>\n",
       "      <td>289.151428</td>\n",
       "      <td>Monterey</td>\n",
       "      <td>-120.726245</td>\n",
       "      <td>35.793698</td>\n",
       "    </tr>\n",
       "  </tbody>\n",
       "</table>\n",
       "<p>3620 rows × 8 columns</p>\n",
       "</div>"
      ],
      "text/plain": [
       "       year  month              name              cause         acres  \\\n",
       "2      1898      9         COZY DELL       14 - Unknown   2974.585205   \n",
       "9      1910      8  CRAWFORD CREEK 2          7 - Arson    497.885071   \n",
       "10     1910      7       BLUFF CREEK       4 - Campfire    298.716553   \n",
       "16     1910      7      COYOTE CREEK       14 - Unknown  11226.824219   \n",
       "17     1910      8        BULL CREEK       4 - Campfire     56.897217   \n",
       "...     ...    ...               ...                ...           ...   \n",
       "13446  2019      9          ANTELOPE  9 - Miscellaneous    167.332794   \n",
       "13451  2019      9               COW       10 - Vehicle     15.383965   \n",
       "13456  2019      9              DEER         5 - Debris      9.367375   \n",
       "13457  2019     10          CABRILLO  2 - Equipment Use     61.750446   \n",
       "13460  2019     10             CROSS       14 - Unknown    289.151428   \n",
       "\n",
       "           county   longitude   latitude  \n",
       "2         Ventura -119.265380  34.482316  \n",
       "9        Humboldt -123.552471  41.300052  \n",
       "10      Del Norte -123.760361  41.430391  \n",
       "16        Ventura -119.386960  34.421249  \n",
       "17       Humboldt -123.621988  41.174766  \n",
       "...           ...         ...        ...  \n",
       "13446  San Benito -120.831821  36.558925  \n",
       "13451      Shasta -122.038452  40.612144  \n",
       "13456  Santa Cruz -122.085541  37.183180  \n",
       "13457   San Mateo -122.358885  37.171839  \n",
       "13460    Monterey -120.726245  35.793698  \n",
       "\n",
       "[3620 rows x 8 columns]"
      ]
     },
     "execution_count": 51,
     "metadata": {},
     "output_type": "execute_result"
    }
   ],
   "source": [
    "between(calfire, 'name', 'A', 'E')"
   ]
  },
  {
   "cell_type": "markdown",
   "metadata": {},
   "source": [
    "## The `.apply` Series Method"
   ]
  },
  {
   "cell_type": "markdown",
   "metadata": {},
   "source": [
    "DataFrames come equipped with many useful methods, but defining our own functions allows us to make tables even more powerful. One way to use tables with functions is to pass the table into the function as one of its inputs, as we saw in the example above. In some situations, however, we don't want to apply the function to the entire table, but rather to each entry in one of the table's columns. In these cases, we can use the `.apply` method.\n",
    "\n",
    "For instance, suppose we have a table containing a `'year'` column, such as the `calfire` table we have been using, and we want to convert each year into the corresponding decade. We have already written a function that converts a single year to a decade: `decade_from_year`. Recall how it works:"
   ]
  },
  {
   "cell_type": "code",
   "execution_count": 52,
   "metadata": {},
   "outputs": [
    {
     "data": {
      "text/plain": [
       "1980"
      ]
     },
     "execution_count": 52,
     "metadata": {},
     "output_type": "execute_result"
    }
   ],
   "source": [
    "decade_from_year(1987)"
   ]
  },
  {
   "cell_type": "markdown",
   "metadata": {},
   "source": [
    "We'd like to apply this function to each entry in the `'year'` column. To do so, we'll use `.apply`:"
   ]
  },
  {
   "cell_type": "code",
   "execution_count": 53,
   "metadata": {},
   "outputs": [
    {
     "data": {
      "text/plain": [
       "0        1890\n",
       "1        1890\n",
       "2        1890\n",
       "3        1900\n",
       "4        1900\n",
       "         ... \n",
       "13459    2010\n",
       "13460    2010\n",
       "13461    2010\n",
       "13462    2010\n",
       "13463    2010\n",
       "Name: year, Length: 13464, dtype: int64"
      ]
     },
     "execution_count": 53,
     "metadata": {},
     "output_type": "execute_result"
    }
   ],
   "source": [
    "calfire.get('year').apply(decade_from_year)"
   ]
  },
  {
   "cell_type": "markdown",
   "metadata": {},
   "source": [
    "Notice the pattern here: we `.get('year')` to retrieve column we wish to work with, and then `.apply(decade_from_year)` to the column. The result is a Series with the same number of entries as the column containing the years. Each entry is the result of applying the function to the corresponding entry of the original column."
   ]
  },
  {
   "cell_type": "markdown",
   "metadata": {},
   "source": [
    "```{warning}\n",
    "\n",
    "Note that we pass the function into `.apply` *without* trailing parentheses. That is, we write `.apply(decade_from_year)` and not `.apply(decade_from_year())` or `.apply(decade_from_year(calfire.get('year')))`. The `.apply` method accepts the name of a function. It will then call the function many times on the given Series.\n",
    "```"
   ]
  },
  {
   "cell_type": "markdown",
   "metadata": {},
   "source": [
    "In many cases we'd like to add this new Series back to the table as a new column. We can do so with `.assign`:"
   ]
  },
  {
   "cell_type": "code",
   "execution_count": 54,
   "metadata": {},
   "outputs": [
    {
     "data": {
      "text/html": [
       "<div>\n",
       "<style scoped>\n",
       "    .dataframe tbody tr th:only-of-type {\n",
       "        vertical-align: middle;\n",
       "    }\n",
       "\n",
       "    .dataframe tbody tr th {\n",
       "        vertical-align: top;\n",
       "    }\n",
       "\n",
       "    .dataframe thead th {\n",
       "        text-align: right;\n",
       "    }\n",
       "</style>\n",
       "<table border=\"1\" class=\"dataframe\">\n",
       "  <thead>\n",
       "    <tr style=\"text-align: right;\">\n",
       "      <th></th>\n",
       "      <th>year</th>\n",
       "      <th>month</th>\n",
       "      <th>name</th>\n",
       "      <th>cause</th>\n",
       "      <th>acres</th>\n",
       "      <th>county</th>\n",
       "      <th>longitude</th>\n",
       "      <th>latitude</th>\n",
       "      <th>decade</th>\n",
       "    </tr>\n",
       "  </thead>\n",
       "  <tbody>\n",
       "    <tr>\n",
       "      <th>0</th>\n",
       "      <td>1898</td>\n",
       "      <td>9</td>\n",
       "      <td>LOS PADRES</td>\n",
       "      <td>14 - Unknown</td>\n",
       "      <td>20539.949219</td>\n",
       "      <td>Ventura</td>\n",
       "      <td>-119.367830</td>\n",
       "      <td>34.446830</td>\n",
       "      <td>1890</td>\n",
       "    </tr>\n",
       "    <tr>\n",
       "      <th>1</th>\n",
       "      <td>1898</td>\n",
       "      <td>4</td>\n",
       "      <td>MATILIJA</td>\n",
       "      <td>14 - Unknown</td>\n",
       "      <td>2641.123047</td>\n",
       "      <td>Ventura</td>\n",
       "      <td>-119.299625</td>\n",
       "      <td>34.488614</td>\n",
       "      <td>1890</td>\n",
       "    </tr>\n",
       "    <tr>\n",
       "      <th>2</th>\n",
       "      <td>1898</td>\n",
       "      <td>9</td>\n",
       "      <td>COZY DELL</td>\n",
       "      <td>14 - Unknown</td>\n",
       "      <td>2974.585205</td>\n",
       "      <td>Ventura</td>\n",
       "      <td>-119.265380</td>\n",
       "      <td>34.482316</td>\n",
       "      <td>1890</td>\n",
       "    </tr>\n",
       "    <tr>\n",
       "      <th>3</th>\n",
       "      <td>1902</td>\n",
       "      <td>8</td>\n",
       "      <td>FEROUD</td>\n",
       "      <td>14 - Unknown</td>\n",
       "      <td>731.481567</td>\n",
       "      <td>Ventura</td>\n",
       "      <td>-119.320979</td>\n",
       "      <td>34.417515</td>\n",
       "      <td>1900</td>\n",
       "    </tr>\n",
       "    <tr>\n",
       "      <th>4</th>\n",
       "      <td>1903</td>\n",
       "      <td>10</td>\n",
       "      <td>SAN ANTONIO</td>\n",
       "      <td>14 - Unknown</td>\n",
       "      <td>380.260590</td>\n",
       "      <td>Ventura</td>\n",
       "      <td>-119.253422</td>\n",
       "      <td>34.430616</td>\n",
       "      <td>1900</td>\n",
       "    </tr>\n",
       "    <tr>\n",
       "      <th>...</th>\n",
       "      <td>...</td>\n",
       "      <td>...</td>\n",
       "      <td>...</td>\n",
       "      <td>...</td>\n",
       "      <td>...</td>\n",
       "      <td>...</td>\n",
       "      <td>...</td>\n",
       "      <td>...</td>\n",
       "      <td>...</td>\n",
       "    </tr>\n",
       "    <tr>\n",
       "      <th>13459</th>\n",
       "      <td>2019</td>\n",
       "      <td>9</td>\n",
       "      <td>STAGE</td>\n",
       "      <td>7 - Arson</td>\n",
       "      <td>13.019149</td>\n",
       "      <td>Monterey</td>\n",
       "      <td>-121.599207</td>\n",
       "      <td>36.764065</td>\n",
       "      <td>2010</td>\n",
       "    </tr>\n",
       "    <tr>\n",
       "      <th>13460</th>\n",
       "      <td>2019</td>\n",
       "      <td>10</td>\n",
       "      <td>CROSS</td>\n",
       "      <td>14 - Unknown</td>\n",
       "      <td>289.151428</td>\n",
       "      <td>Monterey</td>\n",
       "      <td>-120.726245</td>\n",
       "      <td>35.793698</td>\n",
       "      <td>2010</td>\n",
       "    </tr>\n",
       "    <tr>\n",
       "      <th>13461</th>\n",
       "      <td>2019</td>\n",
       "      <td>9</td>\n",
       "      <td>FRUDDEN</td>\n",
       "      <td>2 - Equipment Use</td>\n",
       "      <td>11.789393</td>\n",
       "      <td>Monterey</td>\n",
       "      <td>-120.908061</td>\n",
       "      <td>35.908627</td>\n",
       "      <td>2010</td>\n",
       "    </tr>\n",
       "    <tr>\n",
       "      <th>13462</th>\n",
       "      <td>2019</td>\n",
       "      <td>9</td>\n",
       "      <td>JOLON</td>\n",
       "      <td>11 - Powerline</td>\n",
       "      <td>61.592369</td>\n",
       "      <td>Monterey</td>\n",
       "      <td>-121.010025</td>\n",
       "      <td>35.910750</td>\n",
       "      <td>2010</td>\n",
       "    </tr>\n",
       "    <tr>\n",
       "      <th>13463</th>\n",
       "      <td>2019</td>\n",
       "      <td>10</td>\n",
       "      <td>SADDLE RIDGE</td>\n",
       "      <td>14 - Unknown</td>\n",
       "      <td>8799.325195</td>\n",
       "      <td>Los Angeles</td>\n",
       "      <td>-118.516473</td>\n",
       "      <td>34.321859</td>\n",
       "      <td>2010</td>\n",
       "    </tr>\n",
       "  </tbody>\n",
       "</table>\n",
       "<p>13464 rows × 9 columns</p>\n",
       "</div>"
      ],
      "text/plain": [
       "       year  month          name              cause         acres  \\\n",
       "0      1898      9    LOS PADRES       14 - Unknown  20539.949219   \n",
       "1      1898      4      MATILIJA       14 - Unknown   2641.123047   \n",
       "2      1898      9     COZY DELL       14 - Unknown   2974.585205   \n",
       "3      1902      8        FEROUD       14 - Unknown    731.481567   \n",
       "4      1903     10   SAN ANTONIO       14 - Unknown    380.260590   \n",
       "...     ...    ...           ...                ...           ...   \n",
       "13459  2019      9         STAGE          7 - Arson     13.019149   \n",
       "13460  2019     10         CROSS       14 - Unknown    289.151428   \n",
       "13461  2019      9       FRUDDEN  2 - Equipment Use     11.789393   \n",
       "13462  2019      9         JOLON     11 - Powerline     61.592369   \n",
       "13463  2019     10  SADDLE RIDGE       14 - Unknown   8799.325195   \n",
       "\n",
       "            county   longitude   latitude  decade  \n",
       "0          Ventura -119.367830  34.446830    1890  \n",
       "1          Ventura -119.299625  34.488614    1890  \n",
       "2          Ventura -119.265380  34.482316    1890  \n",
       "3          Ventura -119.320979  34.417515    1900  \n",
       "4          Ventura -119.253422  34.430616    1900  \n",
       "...            ...         ...        ...     ...  \n",
       "13459     Monterey -121.599207  36.764065    2010  \n",
       "13460     Monterey -120.726245  35.793698    2010  \n",
       "13461     Monterey -120.908061  35.908627    2010  \n",
       "13462     Monterey -121.010025  35.910750    2010  \n",
       "13463  Los Angeles -118.516473  34.321859    2010  \n",
       "\n",
       "[13464 rows x 9 columns]"
      ]
     },
     "execution_count": 54,
     "metadata": {},
     "output_type": "execute_result"
    }
   ],
   "source": [
    "with_decade = calfire.assign(\n",
    "    decade=calfire.get('year').apply(decade_from_year)\n",
    ")\n",
    "with_decade"
   ]
  },
  {
   "cell_type": "markdown",
   "metadata": {},
   "source": [
    "The `.apply` method is very useful for **data cleaning**. Data rarely comes to us in the exact form we need or prefer. For instance, we might wish to convert a year to its decade, or remove the leading number code from a fire's cause. A common approach to doing so is to write a function capable of converting or cleaning a single entry, then `.apply`ing this function to the entire column."
   ]
  },
  {
   "cell_type": "markdown",
   "metadata": {},
   "source": [
    "***Example: clean the `cause` column***"
   ]
  },
  {
   "cell_type": "markdown",
   "metadata": {},
   "source": [
    "The `cause` column contains the cause of each fire as string, such as `'14 - Unknown'`. The string contains a number encoding unique to the cause of the fire, but this is redundant since the cause is described immediately after. Let's get rid of the number, leaving only the description.\n",
    "\n",
    "First, we'll write a function that accepts a cause and returns only the description:"
   ]
  },
  {
   "cell_type": "code",
   "execution_count": 55,
   "metadata": {},
   "outputs": [],
   "source": [
    "def cause_description(cause):\n",
    "    return cause.split('-')[-1].strip()"
   ]
  },
  {
   "cell_type": "code",
   "execution_count": 56,
   "metadata": {},
   "outputs": [
    {
     "data": {
      "text/plain": [
       "'Equipment Use'"
      ]
     },
     "execution_count": 56,
     "metadata": {},
     "output_type": "execute_result"
    }
   ],
   "source": [
    "cause_description('2 - Equipment Use')"
   ]
  },
  {
   "cell_type": "markdown",
   "metadata": {},
   "source": [
    "Now we `.apply` the function to the `'cause'` column. We'll save it back to the table using `.assign`:"
   ]
  },
  {
   "cell_type": "code",
   "execution_count": 57,
   "metadata": {},
   "outputs": [
    {
     "data": {
      "text/html": [
       "<div>\n",
       "<style scoped>\n",
       "    .dataframe tbody tr th:only-of-type {\n",
       "        vertical-align: middle;\n",
       "    }\n",
       "\n",
       "    .dataframe tbody tr th {\n",
       "        vertical-align: top;\n",
       "    }\n",
       "\n",
       "    .dataframe thead th {\n",
       "        text-align: right;\n",
       "    }\n",
       "</style>\n",
       "<table border=\"1\" class=\"dataframe\">\n",
       "  <thead>\n",
       "    <tr style=\"text-align: right;\">\n",
       "      <th></th>\n",
       "      <th>year</th>\n",
       "      <th>month</th>\n",
       "      <th>name</th>\n",
       "      <th>cause</th>\n",
       "      <th>acres</th>\n",
       "      <th>county</th>\n",
       "      <th>longitude</th>\n",
       "      <th>latitude</th>\n",
       "    </tr>\n",
       "  </thead>\n",
       "  <tbody>\n",
       "    <tr>\n",
       "      <th>0</th>\n",
       "      <td>1898</td>\n",
       "      <td>9</td>\n",
       "      <td>LOS PADRES</td>\n",
       "      <td>Unknown</td>\n",
       "      <td>20539.949219</td>\n",
       "      <td>Ventura</td>\n",
       "      <td>-119.367830</td>\n",
       "      <td>34.446830</td>\n",
       "    </tr>\n",
       "    <tr>\n",
       "      <th>1</th>\n",
       "      <td>1898</td>\n",
       "      <td>4</td>\n",
       "      <td>MATILIJA</td>\n",
       "      <td>Unknown</td>\n",
       "      <td>2641.123047</td>\n",
       "      <td>Ventura</td>\n",
       "      <td>-119.299625</td>\n",
       "      <td>34.488614</td>\n",
       "    </tr>\n",
       "    <tr>\n",
       "      <th>2</th>\n",
       "      <td>1898</td>\n",
       "      <td>9</td>\n",
       "      <td>COZY DELL</td>\n",
       "      <td>Unknown</td>\n",
       "      <td>2974.585205</td>\n",
       "      <td>Ventura</td>\n",
       "      <td>-119.265380</td>\n",
       "      <td>34.482316</td>\n",
       "    </tr>\n",
       "    <tr>\n",
       "      <th>3</th>\n",
       "      <td>1902</td>\n",
       "      <td>8</td>\n",
       "      <td>FEROUD</td>\n",
       "      <td>Unknown</td>\n",
       "      <td>731.481567</td>\n",
       "      <td>Ventura</td>\n",
       "      <td>-119.320979</td>\n",
       "      <td>34.417515</td>\n",
       "    </tr>\n",
       "    <tr>\n",
       "      <th>4</th>\n",
       "      <td>1903</td>\n",
       "      <td>10</td>\n",
       "      <td>SAN ANTONIO</td>\n",
       "      <td>Unknown</td>\n",
       "      <td>380.260590</td>\n",
       "      <td>Ventura</td>\n",
       "      <td>-119.253422</td>\n",
       "      <td>34.430616</td>\n",
       "    </tr>\n",
       "    <tr>\n",
       "      <th>...</th>\n",
       "      <td>...</td>\n",
       "      <td>...</td>\n",
       "      <td>...</td>\n",
       "      <td>...</td>\n",
       "      <td>...</td>\n",
       "      <td>...</td>\n",
       "      <td>...</td>\n",
       "      <td>...</td>\n",
       "    </tr>\n",
       "    <tr>\n",
       "      <th>13459</th>\n",
       "      <td>2019</td>\n",
       "      <td>9</td>\n",
       "      <td>STAGE</td>\n",
       "      <td>Arson</td>\n",
       "      <td>13.019149</td>\n",
       "      <td>Monterey</td>\n",
       "      <td>-121.599207</td>\n",
       "      <td>36.764065</td>\n",
       "    </tr>\n",
       "    <tr>\n",
       "      <th>13460</th>\n",
       "      <td>2019</td>\n",
       "      <td>10</td>\n",
       "      <td>CROSS</td>\n",
       "      <td>Unknown</td>\n",
       "      <td>289.151428</td>\n",
       "      <td>Monterey</td>\n",
       "      <td>-120.726245</td>\n",
       "      <td>35.793698</td>\n",
       "    </tr>\n",
       "    <tr>\n",
       "      <th>13461</th>\n",
       "      <td>2019</td>\n",
       "      <td>9</td>\n",
       "      <td>FRUDDEN</td>\n",
       "      <td>Equipment Use</td>\n",
       "      <td>11.789393</td>\n",
       "      <td>Monterey</td>\n",
       "      <td>-120.908061</td>\n",
       "      <td>35.908627</td>\n",
       "    </tr>\n",
       "    <tr>\n",
       "      <th>13462</th>\n",
       "      <td>2019</td>\n",
       "      <td>9</td>\n",
       "      <td>JOLON</td>\n",
       "      <td>Powerline</td>\n",
       "      <td>61.592369</td>\n",
       "      <td>Monterey</td>\n",
       "      <td>-121.010025</td>\n",
       "      <td>35.910750</td>\n",
       "    </tr>\n",
       "    <tr>\n",
       "      <th>13463</th>\n",
       "      <td>2019</td>\n",
       "      <td>10</td>\n",
       "      <td>SADDLE RIDGE</td>\n",
       "      <td>Unknown</td>\n",
       "      <td>8799.325195</td>\n",
       "      <td>Los Angeles</td>\n",
       "      <td>-118.516473</td>\n",
       "      <td>34.321859</td>\n",
       "    </tr>\n",
       "  </tbody>\n",
       "</table>\n",
       "<p>13464 rows × 8 columns</p>\n",
       "</div>"
      ],
      "text/plain": [
       "       year  month          name          cause         acres       county  \\\n",
       "0      1898      9    LOS PADRES        Unknown  20539.949219      Ventura   \n",
       "1      1898      4      MATILIJA        Unknown   2641.123047      Ventura   \n",
       "2      1898      9     COZY DELL        Unknown   2974.585205      Ventura   \n",
       "3      1902      8        FEROUD        Unknown    731.481567      Ventura   \n",
       "4      1903     10   SAN ANTONIO        Unknown    380.260590      Ventura   \n",
       "...     ...    ...           ...            ...           ...          ...   \n",
       "13459  2019      9         STAGE          Arson     13.019149     Monterey   \n",
       "13460  2019     10         CROSS        Unknown    289.151428     Monterey   \n",
       "13461  2019      9       FRUDDEN  Equipment Use     11.789393     Monterey   \n",
       "13462  2019      9         JOLON      Powerline     61.592369     Monterey   \n",
       "13463  2019     10  SADDLE RIDGE        Unknown   8799.325195  Los Angeles   \n",
       "\n",
       "        longitude   latitude  \n",
       "0     -119.367830  34.446830  \n",
       "1     -119.299625  34.488614  \n",
       "2     -119.265380  34.482316  \n",
       "3     -119.320979  34.417515  \n",
       "4     -119.253422  34.430616  \n",
       "...           ...        ...  \n",
       "13459 -121.599207  36.764065  \n",
       "13460 -120.726245  35.793698  \n",
       "13461 -120.908061  35.908627  \n",
       "13462 -121.010025  35.910750  \n",
       "13463 -118.516473  34.321859  \n",
       "\n",
       "[13464 rows x 8 columns]"
      ]
     },
     "execution_count": 57,
     "metadata": {},
     "output_type": "execute_result"
    }
   ],
   "source": [
    "calfire.assign(\n",
    "    cause=calfire.get('cause').apply(cause_description)\n",
    ")"
   ]
  }
 ],
 "metadata": {
  "celltoolbar": "Tags",
  "kernelspec": {
   "display_name": "Python 3",
   "language": "python",
   "name": "python3"
  },
  "language_info": {
   "codemirror_mode": {
    "name": "ipython",
    "version": 3
   },
   "file_extension": ".py",
   "mimetype": "text/x-python",
   "name": "python",
   "nbconvert_exporter": "python",
   "pygments_lexer": "ipython3",
   "version": "3.8.9"
  }
 },
 "nbformat": 4,
 "nbformat_minor": 4
}