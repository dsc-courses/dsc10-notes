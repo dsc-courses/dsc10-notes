{
 "cells": [
  {
   "cell_type": "markdown",
   "metadata": {},
   "source": [
    "# DataFrames"
   ]
  },
  {
   "cell_type": "markdown",
   "metadata": {},
   "source": [
    "Most of the data sets that we are interested in are more complex that simple lists of numbers. For instance, consider a data set containing information about California wildfires. It might contain multiple pieces of data about each fire, including its name, size, location, and cause.\n",
    "\n",
    "How would we store and analyze such a data set? While we could use NumPy arrays -- one holding the fire's name, another holding the size, etc. -- there is a much better way: We will use a *table* to contain the data, like this:"
   ]
  },
  {
   "cell_type": "code",
   "execution_count": 1,
   "metadata": {
    "tags": [
     "remove-input"
    ]
   },
   "outputs": [
    {
     "data": {
      "text/html": [
       "<div>\n",
       "<style scoped>\n",
       "    .dataframe tbody tr th:only-of-type {\n",
       "        vertical-align: middle;\n",
       "    }\n",
       "\n",
       "    .dataframe tbody tr th {\n",
       "        vertical-align: top;\n",
       "    }\n",
       "\n",
       "    .dataframe thead th {\n",
       "        text-align: right;\n",
       "    }\n",
       "</style>\n",
       "<table border=\"1\" class=\"dataframe\">\n",
       "  <thead>\n",
       "    <tr style=\"text-align: right;\">\n",
       "      <th></th>\n",
       "      <th>name</th>\n",
       "      <th>year</th>\n",
       "      <th>cause</th>\n",
       "      <th>acres</th>\n",
       "      <th>county</th>\n",
       "    </tr>\n",
       "  </thead>\n",
       "  <tbody>\n",
       "    <tr>\n",
       "      <th>0</th>\n",
       "      <td>CAMP</td>\n",
       "      <td>2018</td>\n",
       "      <td>11 - Powerline</td>\n",
       "      <td>153335.562500</td>\n",
       "      <td>Butte</td>\n",
       "    </tr>\n",
       "    <tr>\n",
       "      <th>1</th>\n",
       "      <td>BUTTE</td>\n",
       "      <td>2015</td>\n",
       "      <td>14 - Unknown</td>\n",
       "      <td>70846.531250</td>\n",
       "      <td>Calaveras</td>\n",
       "    </tr>\n",
       "    <tr>\n",
       "      <th>2</th>\n",
       "      <td>KING</td>\n",
       "      <td>2014</td>\n",
       "      <td>7 - Arson</td>\n",
       "      <td>97684.546875</td>\n",
       "      <td>El Dorado</td>\n",
       "    </tr>\n",
       "    <tr>\n",
       "      <th>3</th>\n",
       "      <td>ROUGH</td>\n",
       "      <td>2015</td>\n",
       "      <td>1 - Lightning</td>\n",
       "      <td>151546.812500</td>\n",
       "      <td>Fresno</td>\n",
       "    </tr>\n",
       "    <tr>\n",
       "      <th>4</th>\n",
       "      <td>MEGRAM</td>\n",
       "      <td>1999</td>\n",
       "      <td>1 - Lightning</td>\n",
       "      <td>125072.531250</td>\n",
       "      <td>Humboldt</td>\n",
       "    </tr>\n",
       "    <tr>\n",
       "      <th>...</th>\n",
       "      <td>...</td>\n",
       "      <td>...</td>\n",
       "      <td>...</td>\n",
       "      <td>...</td>\n",
       "      <td>...</td>\n",
       "    </tr>\n",
       "    <tr>\n",
       "      <th>45</th>\n",
       "      <td>DAY</td>\n",
       "      <td>2006</td>\n",
       "      <td>5 - Debris</td>\n",
       "      <td>161815.656250</td>\n",
       "      <td>Ventura</td>\n",
       "    </tr>\n",
       "    <tr>\n",
       "      <th>46</th>\n",
       "      <td>MATILIJA</td>\n",
       "      <td>1932</td>\n",
       "      <td>9 - Miscellaneous</td>\n",
       "      <td>219999.281250</td>\n",
       "      <td>Ventura</td>\n",
       "    </tr>\n",
       "    <tr>\n",
       "      <th>47</th>\n",
       "      <td>THOMAS</td>\n",
       "      <td>2017</td>\n",
       "      <td>9 - Miscellaneous</td>\n",
       "      <td>281790.875000</td>\n",
       "      <td>Ventura</td>\n",
       "    </tr>\n",
       "    <tr>\n",
       "      <th>48</th>\n",
       "      <td>SIMI FIRE</td>\n",
       "      <td>2003</td>\n",
       "      <td>14 - Unknown</td>\n",
       "      <td>107570.398438</td>\n",
       "      <td>Ventura</td>\n",
       "    </tr>\n",
       "    <tr>\n",
       "      <th>49</th>\n",
       "      <td>COUNTY</td>\n",
       "      <td>2018</td>\n",
       "      <td>14 - Unknown</td>\n",
       "      <td>89831.148438</td>\n",
       "      <td>Yolo</td>\n",
       "    </tr>\n",
       "  </tbody>\n",
       "</table>\n",
       "<p>50 rows × 5 columns</p>\n",
       "</div>"
      ],
      "text/plain": [
       "         name  year              cause          acres     county\n",
       "0        CAMP  2018     11 - Powerline  153335.562500      Butte\n",
       "1       BUTTE  2015       14 - Unknown   70846.531250  Calaveras\n",
       "2        KING  2014          7 - Arson   97684.546875  El Dorado\n",
       "3       ROUGH  2015      1 - Lightning  151546.812500     Fresno\n",
       "4      MEGRAM  1999      1 - Lightning  125072.531250   Humboldt\n",
       "..        ...   ...                ...            ...        ...\n",
       "45        DAY  2006         5 - Debris  161815.656250    Ventura\n",
       "46   MATILIJA  1932  9 - Miscellaneous  219999.281250    Ventura\n",
       "47     THOMAS  2017  9 - Miscellaneous  281790.875000    Ventura\n",
       "48  SIMI FIRE  2003       14 - Unknown  107570.398438    Ventura\n",
       "49     COUNTY  2018       14 - Unknown   89831.148438       Yolo\n",
       "\n",
       "[50 rows x 5 columns]"
      ]
     },
     "execution_count": 1,
     "metadata": {},
     "output_type": "execute_result"
    }
   ],
   "source": [
    "import babypandas as bpd\n",
    "fires = bpd.read_csv('../../data/calfire.csv')\n",
    "fires"
   ]
  },
  {
   "cell_type": "markdown",
   "metadata": {},
   "source": [
    "## Pandas DataFrames"
   ]
  },
  {
   "cell_type": "markdown",
   "metadata": {},
   "source": [
    "Like NumPy arrays, tables are provided by a third-party extension. The Python package which provides tables is called [pandas](https://pandas.pydata.org/). Pandas is *the* tool for doing data science in Python, and it is immensely popular -- as of Summer 2020, it was downloaded nearly *1 million* times per day. It is without a doubt a powerful tool, and you'll need to know how to use it if you want to do serious data science. But there's a problem: pandas is complicated. There are numerous ways to do even the simplest tasks. This makes it hard to learn, especially if you're new to programming.\n",
    "\n",
    "This leaves us in an interesting situation. On one hand, we want to learn pandas, because it is *the* tool used by actual data scientists. On the other hand, we don't want to be thrown into the deep end. The solution? We'll take pandas and remove everything that isn't absolutely necessary, resulting in something simpler and easier to learn. What's left is still *pandas* -- just not all of it. Because this new package is a smaller (and cuter) version of pandas, we're calling it *babypandas*.\n",
    "\n",
    "To get access to the functionality that *babypandas* provides, we'll need to import it:"
   ]
  },
  {
   "cell_type": "code",
   "execution_count": 2,
   "metadata": {},
   "outputs": [],
   "source": [
    "import babypandas as bpd"
   ]
  },
  {
   "cell_type": "markdown",
   "metadata": {},
   "source": [
    "```{margin}\n",
    "\n",
    "Remember that the syntax `import something as new_name` imports the package named `something`, giving it the new name `new_name`.\n",
    "It is a convention among data scientists to rename `pandas` to `pd` by writing `import pandas as pd`, so we will rename `babypandas` to `bpd`.\n",
    "```"
   ]
  },
  {
   "cell_type": "markdown",
   "metadata": {},
   "source": [
    "```{note}\n",
    "\n",
    "We're going to be using *babypandas* in the rest of this book, but it should be stressed that *babypandas* is *pandas*, just a smaller version of it. So if someone asks if you have experience working with *pandas* (during a job interview, for instance), you'll be able to say \"yes!\".\n",
    "```"
   ]
  },
  {
   "cell_type": "markdown",
   "metadata": {},
   "source": [
    "In *babypandas* (and *pandas*), a table is called a {dterm}`DataFrame` (though we'll use the two terms interchangeably). Since DataFrames are often used to store very large data sets, they are not typically created by typing their entries one by one -- instead, they are usually read from a file. We'll see how to do that in a moment, but for now we assume that we have already loaded a DataFrame into a variable called `fires`. If we type `fires` in our Jupyter notebook cell and execute it, it will display the table with nice formatting:"
   ]
  },
  {
   "cell_type": "code",
   "execution_count": 3,
   "metadata": {},
   "outputs": [
    {
     "data": {
      "text/html": [
       "<div>\n",
       "<style scoped>\n",
       "    .dataframe tbody tr th:only-of-type {\n",
       "        vertical-align: middle;\n",
       "    }\n",
       "\n",
       "    .dataframe tbody tr th {\n",
       "        vertical-align: top;\n",
       "    }\n",
       "\n",
       "    .dataframe thead th {\n",
       "        text-align: right;\n",
       "    }\n",
       "</style>\n",
       "<table border=\"1\" class=\"dataframe\">\n",
       "  <thead>\n",
       "    <tr style=\"text-align: right;\">\n",
       "      <th></th>\n",
       "      <th>name</th>\n",
       "      <th>year</th>\n",
       "      <th>cause</th>\n",
       "      <th>acres</th>\n",
       "      <th>county</th>\n",
       "    </tr>\n",
       "  </thead>\n",
       "  <tbody>\n",
       "    <tr>\n",
       "      <th>0</th>\n",
       "      <td>CAMP</td>\n",
       "      <td>2018</td>\n",
       "      <td>11 - Powerline</td>\n",
       "      <td>153335.562500</td>\n",
       "      <td>Butte</td>\n",
       "    </tr>\n",
       "    <tr>\n",
       "      <th>1</th>\n",
       "      <td>BUTTE</td>\n",
       "      <td>2015</td>\n",
       "      <td>14 - Unknown</td>\n",
       "      <td>70846.531250</td>\n",
       "      <td>Calaveras</td>\n",
       "    </tr>\n",
       "    <tr>\n",
       "      <th>2</th>\n",
       "      <td>KING</td>\n",
       "      <td>2014</td>\n",
       "      <td>7 - Arson</td>\n",
       "      <td>97684.546875</td>\n",
       "      <td>El Dorado</td>\n",
       "    </tr>\n",
       "    <tr>\n",
       "      <th>3</th>\n",
       "      <td>ROUGH</td>\n",
       "      <td>2015</td>\n",
       "      <td>1 - Lightning</td>\n",
       "      <td>151546.812500</td>\n",
       "      <td>Fresno</td>\n",
       "    </tr>\n",
       "    <tr>\n",
       "      <th>4</th>\n",
       "      <td>MEGRAM</td>\n",
       "      <td>1999</td>\n",
       "      <td>1 - Lightning</td>\n",
       "      <td>125072.531250</td>\n",
       "      <td>Humboldt</td>\n",
       "    </tr>\n",
       "    <tr>\n",
       "      <th>...</th>\n",
       "      <td>...</td>\n",
       "      <td>...</td>\n",
       "      <td>...</td>\n",
       "      <td>...</td>\n",
       "      <td>...</td>\n",
       "    </tr>\n",
       "    <tr>\n",
       "      <th>45</th>\n",
       "      <td>DAY</td>\n",
       "      <td>2006</td>\n",
       "      <td>5 - Debris</td>\n",
       "      <td>161815.656250</td>\n",
       "      <td>Ventura</td>\n",
       "    </tr>\n",
       "    <tr>\n",
       "      <th>46</th>\n",
       "      <td>MATILIJA</td>\n",
       "      <td>1932</td>\n",
       "      <td>9 - Miscellaneous</td>\n",
       "      <td>219999.281250</td>\n",
       "      <td>Ventura</td>\n",
       "    </tr>\n",
       "    <tr>\n",
       "      <th>47</th>\n",
       "      <td>THOMAS</td>\n",
       "      <td>2017</td>\n",
       "      <td>9 - Miscellaneous</td>\n",
       "      <td>281790.875000</td>\n",
       "      <td>Ventura</td>\n",
       "    </tr>\n",
       "    <tr>\n",
       "      <th>48</th>\n",
       "      <td>SIMI FIRE</td>\n",
       "      <td>2003</td>\n",
       "      <td>14 - Unknown</td>\n",
       "      <td>107570.398438</td>\n",
       "      <td>Ventura</td>\n",
       "    </tr>\n",
       "    <tr>\n",
       "      <th>49</th>\n",
       "      <td>COUNTY</td>\n",
       "      <td>2018</td>\n",
       "      <td>14 - Unknown</td>\n",
       "      <td>89831.148438</td>\n",
       "      <td>Yolo</td>\n",
       "    </tr>\n",
       "  </tbody>\n",
       "</table>\n",
       "<p>50 rows × 5 columns</p>\n",
       "</div>"
      ],
      "text/plain": [
       "         name  year              cause          acres     county\n",
       "0        CAMP  2018     11 - Powerline  153335.562500      Butte\n",
       "1       BUTTE  2015       14 - Unknown   70846.531250  Calaveras\n",
       "2        KING  2014          7 - Arson   97684.546875  El Dorado\n",
       "3       ROUGH  2015      1 - Lightning  151546.812500     Fresno\n",
       "4      MEGRAM  1999      1 - Lightning  125072.531250   Humboldt\n",
       "..        ...   ...                ...            ...        ...\n",
       "45        DAY  2006         5 - Debris  161815.656250    Ventura\n",
       "46   MATILIJA  1932  9 - Miscellaneous  219999.281250    Ventura\n",
       "47     THOMAS  2017  9 - Miscellaneous  281790.875000    Ventura\n",
       "48  SIMI FIRE  2003       14 - Unknown  107570.398438    Ventura\n",
       "49     COUNTY  2018       14 - Unknown   89831.148438       Yolo\n",
       "\n",
       "[50 rows x 5 columns]"
      ]
     },
     "execution_count": 3,
     "metadata": {},
     "output_type": "execute_result"
    }
   ],
   "source": [
    "fires"
   ]
  },
  {
   "cell_type": "markdown",
   "metadata": {},
   "source": [
    "If we ask for the `type` of `fires`, Python will tell us that it is a DataFrame:"
   ]
  },
  {
   "cell_type": "code",
   "execution_count": 4,
   "metadata": {},
   "outputs": [
    {
     "data": {
      "text/plain": [
       "babypandas.bpd.DataFrame"
      ]
     },
     "execution_count": 4,
     "metadata": {},
     "output_type": "execute_result"
    }
   ],
   "source": [
    "type(fires)"
   ]
  },
  {
   "cell_type": "markdown",
   "metadata": {},
   "source": [
    "A DataFrame consists of *columns* and *rows*. Almost always, a row represents a single thing -- in this case, a fire -- and the columns provide different pieces of information about that thing. In this case, we have a column describing the name of the fire, another describing the cause, and so on."
   ]
  },
  {
   "cell_type": "markdown",
   "metadata": {},
   "source": [
    "We can get the number of rows and columns in a *DataFrame* by asking for its {dterm}`shape`:"
   ]
  },
  {
   "cell_type": "code",
   "execution_count": 5,
   "metadata": {},
   "outputs": [
    {
     "data": {
      "text/plain": [
       "(50, 5)"
      ]
     },
     "execution_count": 5,
     "metadata": {},
     "output_type": "execute_result"
    }
   ],
   "source": [
    "fires.shape"
   ]
  },
  {
   "cell_type": "markdown",
   "metadata": {},
   "source": [
    "This tells us that there are 50 rows and 9 columns. If for whatever reason we just wanted the number of rows, we could ask for the first element of this pair:"
   ]
  },
  {
   "cell_type": "code",
   "execution_count": 6,
   "metadata": {},
   "outputs": [
    {
     "data": {
      "text/plain": [
       "50"
      ]
     },
     "execution_count": 6,
     "metadata": {},
     "output_type": "execute_result"
    }
   ],
   "source": [
    "fires.shape[0]"
   ]
  },
  {
   "cell_type": "markdown",
   "metadata": {},
   "source": [
    "Every row and column in a DataFrame has a *label*. We will use the row and column labels to refer to particular parts of the table and retrieve information from within it. The columns of the above DataFrame are labeled \"year\", \"name\", \"cause\", and so on. The rows of the above table are simply labeled \"0\", \"1\", \"2\", and so forth."
   ]
  },
  {
   "cell_type": "markdown",
   "metadata": {},
   "source": [
    "## The Index"
   ]
  },
  {
   "cell_type": "markdown",
   "metadata": {},
   "source": [
    "Together, the row labels are called the {dterm}`table index`.\n",
    "By default, a table's rows are labeled by numbering them. However, in many cases it makes more sense to label the rows in some other way. For example, each row in our current data set is a single fire. Perhaps it makes more sense to use the fire's name as its row label. We can ask *babypandas* to use a particular column as the row labels with the `.set_index` method:"
   ]
  },
  {
   "cell_type": "markdown",
   "metadata": {},
   "source": [
    "```{margin}\n",
    "\n",
    "You might know that NumPy arrays can be two-dimensional, too, so they *could* be used to store tables. But NumPy arrays do not have an *index*.\n",
    "```"
   ]
  },
  {
   "cell_type": "code",
   "execution_count": 7,
   "metadata": {},
   "outputs": [
    {
     "data": {
      "text/html": [
       "<div>\n",
       "<style scoped>\n",
       "    .dataframe tbody tr th:only-of-type {\n",
       "        vertical-align: middle;\n",
       "    }\n",
       "\n",
       "    .dataframe tbody tr th {\n",
       "        vertical-align: top;\n",
       "    }\n",
       "\n",
       "    .dataframe thead th {\n",
       "        text-align: right;\n",
       "    }\n",
       "</style>\n",
       "<table border=\"1\" class=\"dataframe\">\n",
       "  <thead>\n",
       "    <tr style=\"text-align: right;\">\n",
       "      <th></th>\n",
       "      <th>year</th>\n",
       "      <th>cause</th>\n",
       "      <th>acres</th>\n",
       "      <th>county</th>\n",
       "    </tr>\n",
       "    <tr>\n",
       "      <th>name</th>\n",
       "      <th></th>\n",
       "      <th></th>\n",
       "      <th></th>\n",
       "      <th></th>\n",
       "    </tr>\n",
       "  </thead>\n",
       "  <tbody>\n",
       "    <tr>\n",
       "      <th>CAMP</th>\n",
       "      <td>2018</td>\n",
       "      <td>11 - Powerline</td>\n",
       "      <td>153335.562500</td>\n",
       "      <td>Butte</td>\n",
       "    </tr>\n",
       "    <tr>\n",
       "      <th>BUTTE</th>\n",
       "      <td>2015</td>\n",
       "      <td>14 - Unknown</td>\n",
       "      <td>70846.531250</td>\n",
       "      <td>Calaveras</td>\n",
       "    </tr>\n",
       "    <tr>\n",
       "      <th>KING</th>\n",
       "      <td>2014</td>\n",
       "      <td>7 - Arson</td>\n",
       "      <td>97684.546875</td>\n",
       "      <td>El Dorado</td>\n",
       "    </tr>\n",
       "    <tr>\n",
       "      <th>ROUGH</th>\n",
       "      <td>2015</td>\n",
       "      <td>1 - Lightning</td>\n",
       "      <td>151546.812500</td>\n",
       "      <td>Fresno</td>\n",
       "    </tr>\n",
       "    <tr>\n",
       "      <th>MEGRAM</th>\n",
       "      <td>1999</td>\n",
       "      <td>1 - Lightning</td>\n",
       "      <td>125072.531250</td>\n",
       "      <td>Humboldt</td>\n",
       "    </tr>\n",
       "    <tr>\n",
       "      <th>...</th>\n",
       "      <td>...</td>\n",
       "      <td>...</td>\n",
       "      <td>...</td>\n",
       "      <td>...</td>\n",
       "    </tr>\n",
       "    <tr>\n",
       "      <th>DAY</th>\n",
       "      <td>2006</td>\n",
       "      <td>5 - Debris</td>\n",
       "      <td>161815.656250</td>\n",
       "      <td>Ventura</td>\n",
       "    </tr>\n",
       "    <tr>\n",
       "      <th>MATILIJA</th>\n",
       "      <td>1932</td>\n",
       "      <td>9 - Miscellaneous</td>\n",
       "      <td>219999.281250</td>\n",
       "      <td>Ventura</td>\n",
       "    </tr>\n",
       "    <tr>\n",
       "      <th>THOMAS</th>\n",
       "      <td>2017</td>\n",
       "      <td>9 - Miscellaneous</td>\n",
       "      <td>281790.875000</td>\n",
       "      <td>Ventura</td>\n",
       "    </tr>\n",
       "    <tr>\n",
       "      <th>SIMI FIRE</th>\n",
       "      <td>2003</td>\n",
       "      <td>14 - Unknown</td>\n",
       "      <td>107570.398438</td>\n",
       "      <td>Ventura</td>\n",
       "    </tr>\n",
       "    <tr>\n",
       "      <th>COUNTY</th>\n",
       "      <td>2018</td>\n",
       "      <td>14 - Unknown</td>\n",
       "      <td>89831.148438</td>\n",
       "      <td>Yolo</td>\n",
       "    </tr>\n",
       "  </tbody>\n",
       "</table>\n",
       "<p>50 rows × 4 columns</p>\n",
       "</div>"
      ],
      "text/plain": [
       "           year              cause          acres     county\n",
       "name                                                        \n",
       "CAMP       2018     11 - Powerline  153335.562500      Butte\n",
       "BUTTE      2015       14 - Unknown   70846.531250  Calaveras\n",
       "KING       2014          7 - Arson   97684.546875  El Dorado\n",
       "ROUGH      2015      1 - Lightning  151546.812500     Fresno\n",
       "MEGRAM     1999      1 - Lightning  125072.531250   Humboldt\n",
       "...         ...                ...            ...        ...\n",
       "DAY        2006         5 - Debris  161815.656250    Ventura\n",
       "MATILIJA   1932  9 - Miscellaneous  219999.281250    Ventura\n",
       "THOMAS     2017  9 - Miscellaneous  281790.875000    Ventura\n",
       "SIMI FIRE  2003       14 - Unknown  107570.398438    Ventura\n",
       "COUNTY     2018       14 - Unknown   89831.148438       Yolo\n",
       "\n",
       "[50 rows x 4 columns]"
      ]
     },
     "execution_count": 7,
     "metadata": {},
     "output_type": "execute_result"
    }
   ],
   "source": [
    "fires.set_index('name')"
   ]
  },
  {
   "cell_type": "markdown",
   "metadata": {},
   "source": [
    "The `.set_index` method accepts one argument: the label of the column that should be used as the index. It then creates a *new* DataFrame in which the index has been replaced with the information from this column; the old DataFrame is not changed. In order to save the results, we'll need to assign the new table to a variable, like so:"
   ]
  },
  {
   "cell_type": "code",
   "execution_count": 8,
   "metadata": {},
   "outputs": [
    {
     "data": {
      "text/html": [
       "<div>\n",
       "<style scoped>\n",
       "    .dataframe tbody tr th:only-of-type {\n",
       "        vertical-align: middle;\n",
       "    }\n",
       "\n",
       "    .dataframe tbody tr th {\n",
       "        vertical-align: top;\n",
       "    }\n",
       "\n",
       "    .dataframe thead th {\n",
       "        text-align: right;\n",
       "    }\n",
       "</style>\n",
       "<table border=\"1\" class=\"dataframe\">\n",
       "  <thead>\n",
       "    <tr style=\"text-align: right;\">\n",
       "      <th></th>\n",
       "      <th>year</th>\n",
       "      <th>cause</th>\n",
       "      <th>acres</th>\n",
       "      <th>county</th>\n",
       "    </tr>\n",
       "    <tr>\n",
       "      <th>name</th>\n",
       "      <th></th>\n",
       "      <th></th>\n",
       "      <th></th>\n",
       "      <th></th>\n",
       "    </tr>\n",
       "  </thead>\n",
       "  <tbody>\n",
       "    <tr>\n",
       "      <th>CAMP</th>\n",
       "      <td>2018</td>\n",
       "      <td>11 - Powerline</td>\n",
       "      <td>153335.562500</td>\n",
       "      <td>Butte</td>\n",
       "    </tr>\n",
       "    <tr>\n",
       "      <th>BUTTE</th>\n",
       "      <td>2015</td>\n",
       "      <td>14 - Unknown</td>\n",
       "      <td>70846.531250</td>\n",
       "      <td>Calaveras</td>\n",
       "    </tr>\n",
       "    <tr>\n",
       "      <th>KING</th>\n",
       "      <td>2014</td>\n",
       "      <td>7 - Arson</td>\n",
       "      <td>97684.546875</td>\n",
       "      <td>El Dorado</td>\n",
       "    </tr>\n",
       "    <tr>\n",
       "      <th>ROUGH</th>\n",
       "      <td>2015</td>\n",
       "      <td>1 - Lightning</td>\n",
       "      <td>151546.812500</td>\n",
       "      <td>Fresno</td>\n",
       "    </tr>\n",
       "    <tr>\n",
       "      <th>MEGRAM</th>\n",
       "      <td>1999</td>\n",
       "      <td>1 - Lightning</td>\n",
       "      <td>125072.531250</td>\n",
       "      <td>Humboldt</td>\n",
       "    </tr>\n",
       "    <tr>\n",
       "      <th>...</th>\n",
       "      <td>...</td>\n",
       "      <td>...</td>\n",
       "      <td>...</td>\n",
       "      <td>...</td>\n",
       "    </tr>\n",
       "    <tr>\n",
       "      <th>DAY</th>\n",
       "      <td>2006</td>\n",
       "      <td>5 - Debris</td>\n",
       "      <td>161815.656250</td>\n",
       "      <td>Ventura</td>\n",
       "    </tr>\n",
       "    <tr>\n",
       "      <th>MATILIJA</th>\n",
       "      <td>1932</td>\n",
       "      <td>9 - Miscellaneous</td>\n",
       "      <td>219999.281250</td>\n",
       "      <td>Ventura</td>\n",
       "    </tr>\n",
       "    <tr>\n",
       "      <th>THOMAS</th>\n",
       "      <td>2017</td>\n",
       "      <td>9 - Miscellaneous</td>\n",
       "      <td>281790.875000</td>\n",
       "      <td>Ventura</td>\n",
       "    </tr>\n",
       "    <tr>\n",
       "      <th>SIMI FIRE</th>\n",
       "      <td>2003</td>\n",
       "      <td>14 - Unknown</td>\n",
       "      <td>107570.398438</td>\n",
       "      <td>Ventura</td>\n",
       "    </tr>\n",
       "    <tr>\n",
       "      <th>COUNTY</th>\n",
       "      <td>2018</td>\n",
       "      <td>14 - Unknown</td>\n",
       "      <td>89831.148438</td>\n",
       "      <td>Yolo</td>\n",
       "    </tr>\n",
       "  </tbody>\n",
       "</table>\n",
       "<p>50 rows × 4 columns</p>\n",
       "</div>"
      ],
      "text/plain": [
       "           year              cause          acres     county\n",
       "name                                                        \n",
       "CAMP       2018     11 - Powerline  153335.562500      Butte\n",
       "BUTTE      2015       14 - Unknown   70846.531250  Calaveras\n",
       "KING       2014          7 - Arson   97684.546875  El Dorado\n",
       "ROUGH      2015      1 - Lightning  151546.812500     Fresno\n",
       "MEGRAM     1999      1 - Lightning  125072.531250   Humboldt\n",
       "...         ...                ...            ...        ...\n",
       "DAY        2006         5 - Debris  161815.656250    Ventura\n",
       "MATILIJA   1932  9 - Miscellaneous  219999.281250    Ventura\n",
       "THOMAS     2017  9 - Miscellaneous  281790.875000    Ventura\n",
       "SIMI FIRE  2003       14 - Unknown  107570.398438    Ventura\n",
       "COUNTY     2018       14 - Unknown   89831.148438       Yolo\n",
       "\n",
       "[50 rows x 4 columns]"
      ]
     },
     "execution_count": 8,
     "metadata": {},
     "output_type": "execute_result"
    }
   ],
   "source": [
    "fires_by_name = fires.set_index('name')\n",
    "fires_by_name"
   ]
  },
  {
   "cell_type": "markdown",
   "metadata": {},
   "source": [
    "Notice that the fire names have been moved all the way to the left, and have been made bold -- this is *babypandas*' way of showing that these names are now the index."
   ]
  },
  {
   "cell_type": "markdown",
   "metadata": {},
   "source": [
    "```{warning}\n",
    "\n",
    "The index is *not* a column -- it is it's own separate thing. When we use `.set_index`, the old index is thrown out and number of columns decreases by one.\n",
    "```"
   ]
  },
  {
   "cell_type": "markdown",
   "metadata": {},
   "source": [
    "Since we will later use row labels to refer to specific rows by name, the labels should be unique. In this case, that means that every fire should have a unique name. In this case, every fire is uniquely named, and it is fine to use the fire name as the index. Later, we'll see a larger version of this data set in which there are multiple fires with the same name. In that case, the name should probably not be used as the index."
   ]
  },
  {
   "cell_type": "markdown",
   "metadata": {},
   "source": [
    "A table's index is essentially an array. We can get the index by writing:"
   ]
  },
  {
   "cell_type": "code",
   "execution_count": 9,
   "metadata": {},
   "outputs": [
    {
     "data": {
      "text/plain": [
       "Index(['CAMP', 'BUTTE', 'KING', 'ROUGH', 'MEGRAM', 'RANCH', 'VALLEY ',\n",
       "       'ROCKY  ', 'FORK', 'RUSH', 'RAVENNA', 'WOOLSEY', 'STATION', 'FERGUSON',\n",
       "       'DETWILER', 'SCARFACE', 'SOBERANES', 'INDIANS', 'KIRK', 'BASIN COMPLEX',\n",
       "       'MARBLE-CONE', 'CHIPS', 'OLD', 'HARRIS 2', 'CEDAR', 'WITCH', 'LAGUNA',\n",
       "       'LAS PILITAS', 'HIGHWAY 58', 'ZACA', 'REFUGIO', 'LA BREA', 'CARR ',\n",
       "       'OAK', 'FRYING PAN', 'GLASS MOUNTAIN', 'KINCADE', 'CAMPBELL',\n",
       "       'SKINNER MILL', 'HAPPY', 'MANTER', 'MCNALLY', 'RIM', 'CLAMPITT FIRE',\n",
       "       'WHEELER #2', 'DAY', 'MATILIJA', 'THOMAS', 'SIMI FIRE', 'COUNTY'],\n",
       "      dtype='object', name='name')"
      ]
     },
     "execution_count": 9,
     "metadata": {},
     "output_type": "execute_result"
    }
   ],
   "source": [
    "fires_by_name.index"
   ]
  },
  {
   "cell_type": "markdown",
   "metadata": {},
   "source": [
    "We can then access individual elements of the index using the same notation as used with arrays, remembering that Python starts counting from zero:"
   ]
  },
  {
   "cell_type": "code",
   "execution_count": 10,
   "metadata": {},
   "outputs": [
    {
     "data": {
      "text/plain": [
       "'CAMP'"
      ]
     },
     "execution_count": 10,
     "metadata": {},
     "output_type": "execute_result"
    }
   ],
   "source": [
    "# the first element\n",
    "fires_by_name.index[0]"
   ]
  },
  {
   "cell_type": "code",
   "execution_count": 11,
   "metadata": {},
   "outputs": [
    {
     "data": {
      "text/plain": [
       "'BUTTE'"
      ]
     },
     "execution_count": 11,
     "metadata": {},
     "output_type": "execute_result"
    }
   ],
   "source": [
    "# the second element\n",
    "fires_by_name.index[1]"
   ]
  },
  {
   "cell_type": "code",
   "execution_count": 12,
   "metadata": {},
   "outputs": [
    {
     "data": {
      "text/plain": [
       "'COUNTY'"
      ]
     },
     "execution_count": 12,
     "metadata": {},
     "output_type": "execute_result"
    }
   ],
   "source": [
    "# the last element\n",
    "fires_by_name.index[-1]"
   ]
  },
  {
   "cell_type": "markdown",
   "metadata": {},
   "source": [
    "## Series"
   ]
  },
  {
   "cell_type": "markdown",
   "metadata": {},
   "source": [
    "### Getting a column with `.get`"
   ]
  },
  {
   "cell_type": "markdown",
   "metadata": {},
   "source": [
    "We can retrieve a particular column from the table with the `.get` method. For instance, to get the column labeled \"acres\", we would write:"
   ]
  },
  {
   "cell_type": "code",
   "execution_count": 13,
   "metadata": {},
   "outputs": [
    {
     "data": {
      "text/plain": [
       "name\n",
       "CAMP         153335.562500\n",
       "BUTTE         70846.531250\n",
       "KING          97684.546875\n",
       "ROUGH        151546.812500\n",
       "MEGRAM       125072.531250\n",
       "                 ...      \n",
       "DAY          161815.656250\n",
       "MATILIJA     219999.281250\n",
       "THOMAS       281790.875000\n",
       "SIMI FIRE    107570.398438\n",
       "COUNTY        89831.148438\n",
       "Name: acres, Length: 50, dtype: float64"
      ]
     },
     "execution_count": 13,
     "metadata": {},
     "output_type": "execute_result"
    }
   ],
   "source": [
    "fires_by_name.get('acres')"
   ]
  },
  {
   "cell_type": "markdown",
   "metadata": {},
   "source": [
    "The result might look like a DataFrame with one column, but it's actually a new type of object called a *Series*:"
   ]
  },
  {
   "cell_type": "code",
   "execution_count": 14,
   "metadata": {},
   "outputs": [
    {
     "data": {
      "text/plain": [
       "babypandas.bpd.Series"
      ]
     },
     "execution_count": 14,
     "metadata": {},
     "output_type": "execute_result"
    }
   ],
   "source": [
    "type(fires_by_name.get('acres'))"
   ]
  },
  {
   "cell_type": "markdown",
   "metadata": {},
   "source": [
    "A *Series* is basically an array, but with an index. A *Series* represents a column in a *DataFrame*. This means that we can think of the columns of a DataFrame as being arrays (more or less)."
   ]
  },
  {
   "cell_type": "markdown",
   "metadata": {},
   "source": [
    "### Arithmetic"
   ]
  },
  {
   "cell_type": "markdown",
   "metadata": {},
   "source": [
    "Because a Series is like an array, we can do similar things with it. For instance, we can perform elementwise arithmetic with a Series. Let's try it out by converting the fire sizes from acres to square miles. Each acre is 0.0015625 square miles, so we can do the conversion with a simple multiplication:"
   ]
  },
  {
   "cell_type": "code",
   "execution_count": 15,
   "metadata": {},
   "outputs": [
    {
     "data": {
      "text/plain": [
       "name\n",
       "CAMP         239.586816\n",
       "BUTTE        110.697705\n",
       "KING         152.632104\n",
       "ROUGH        236.791895\n",
       "MEGRAM       195.425830\n",
       "                ...    \n",
       "DAY          252.836963\n",
       "MATILIJA     343.748877\n",
       "THOMAS       440.298242\n",
       "SIMI FIRE    168.078748\n",
       "COUNTY       140.361169\n",
       "Name: acres, Length: 50, dtype: float64"
      ]
     },
     "execution_count": 15,
     "metadata": {},
     "output_type": "execute_result"
    }
   ],
   "source": [
    "fires_by_name.get('acres') * 0.0015625"
   ]
  },
  {
   "cell_type": "markdown",
   "metadata": {},
   "source": [
    "We can also perform arithmetic with two series, assuming that they are the same size."
   ]
  },
  {
   "cell_type": "markdown",
   "metadata": {},
   "source": [
    "### Series methods: `.mean`, `.max`, `.describe`, etc."
   ]
  },
  {
   "cell_type": "markdown",
   "metadata": {},
   "source": [
    "*Series* objects also come with a bunch of useful methods attached, like `.mean` and `.max`. For example, the average size of a fire in this data set is:"
   ]
  },
  {
   "cell_type": "code",
   "execution_count": 16,
   "metadata": {},
   "outputs": [
    {
     "data": {
      "text/plain": [
       "135919.636875"
      ]
     },
     "execution_count": 16,
     "metadata": {},
     "output_type": "execute_result"
    }
   ],
   "source": [
    "fires_by_name.get('acres').mean()"
   ]
  },
  {
   "cell_type": "markdown",
   "metadata": {},
   "source": [
    "The largest fire burned this many acres:"
   ]
  },
  {
   "cell_type": "code",
   "execution_count": 17,
   "metadata": {},
   "outputs": [
    {
     "data": {
      "text/plain": [
       "410202.46875"
      ]
     },
     "execution_count": 17,
     "metadata": {},
     "output_type": "execute_result"
    }
   ],
   "source": [
    "fires_by_name.get('acres').max()"
   ]
  },
  {
   "cell_type": "markdown",
   "metadata": {},
   "source": [
    "And the earliest fire in the data set was in the year:"
   ]
  },
  {
   "cell_type": "code",
   "execution_count": 18,
   "metadata": {},
   "outputs": [
    {
     "data": {
      "text/plain": [
       "1910"
      ]
     },
     "execution_count": 18,
     "metadata": {},
     "output_type": "execute_result"
    }
   ],
   "source": [
    "fires_by_name.get('year').min()"
   ]
  },
  {
   "cell_type": "markdown",
   "metadata": {},
   "source": [
    "A very useful *Series* method is `.describe`. It gives us a quick look at the basic statistics of the data in a particular column:"
   ]
  },
  {
   "cell_type": "code",
   "execution_count": 19,
   "metadata": {},
   "outputs": [
    {
     "data": {
      "text/plain": [
       "count      50.000000\n",
       "mean     1998.840000\n",
       "std        25.220141\n",
       "min      1910.000000\n",
       "25%      1996.000000\n",
       "50%      2007.500000\n",
       "75%      2015.000000\n",
       "max      2019.000000\n",
       "Name: year, dtype: float64"
      ]
     },
     "execution_count": 19,
     "metadata": {},
     "output_type": "execute_result"
    }
   ],
   "source": [
    "fires_by_name.get('year').describe()"
   ]
  },
  {
   "cell_type": "markdown",
   "metadata": {},
   "source": [
    "From this, we can see that there are 50 fires in the data set, the earliest from 1910 and the latest from 2019. The 25%, 50%, and 75% refer to *percentiles*. That is, 25% of the fires occurred during or before 1996, and half occurred during or before 2007. This also means that half occurred between 2007 and 2019!"
   ]
  },
  {
   "cell_type": "markdown",
   "metadata": {},
   "source": [
    "We will see more Series methods throughout this textbook, but only when we need to use them."
   ]
  },
  {
   "cell_type": "markdown",
   "metadata": {},
   "source": [
    "```{jupytertip}\n",
    "\n",
    "You can ask Jupyter for some information on all of the Series methods available by writing `help(bpd.Series)`. The methods starting with two underscores (`__`) are called \"dunder\" methods, and implement special behavior. You're not meant to call them direcly, so you can pretty much ignore them.\n",
    "```"
   ]
  },
  {
   "cell_type": "markdown",
   "metadata": {},
   "source": [
    "## Adding and removing columns"
   ]
  },
  {
   "cell_type": "markdown",
   "metadata": {},
   "source": [
    "Above, we saw that we could convert the `'acres'` column to square miles using a little bit of array math. But doing so doesn't change the table. What if we want to add this column to our table?\n",
    "\n",
    "### Adding a column with `.assign`\n",
    "\n",
    "Adding a column can be done with the `.assign` method, like this:"
   ]
  },
  {
   "cell_type": "code",
   "execution_count": 20,
   "metadata": {},
   "outputs": [
    {
     "data": {
      "text/html": [
       "<div>\n",
       "<style scoped>\n",
       "    .dataframe tbody tr th:only-of-type {\n",
       "        vertical-align: middle;\n",
       "    }\n",
       "\n",
       "    .dataframe tbody tr th {\n",
       "        vertical-align: top;\n",
       "    }\n",
       "\n",
       "    .dataframe thead th {\n",
       "        text-align: right;\n",
       "    }\n",
       "</style>\n",
       "<table border=\"1\" class=\"dataframe\">\n",
       "  <thead>\n",
       "    <tr style=\"text-align: right;\">\n",
       "      <th></th>\n",
       "      <th>year</th>\n",
       "      <th>cause</th>\n",
       "      <th>acres</th>\n",
       "      <th>county</th>\n",
       "      <th>sqmiles</th>\n",
       "    </tr>\n",
       "    <tr>\n",
       "      <th>name</th>\n",
       "      <th></th>\n",
       "      <th></th>\n",
       "      <th></th>\n",
       "      <th></th>\n",
       "      <th></th>\n",
       "    </tr>\n",
       "  </thead>\n",
       "  <tbody>\n",
       "    <tr>\n",
       "      <th>CAMP</th>\n",
       "      <td>2018</td>\n",
       "      <td>11 - Powerline</td>\n",
       "      <td>153335.562500</td>\n",
       "      <td>Butte</td>\n",
       "      <td>239.586816</td>\n",
       "    </tr>\n",
       "    <tr>\n",
       "      <th>BUTTE</th>\n",
       "      <td>2015</td>\n",
       "      <td>14 - Unknown</td>\n",
       "      <td>70846.531250</td>\n",
       "      <td>Calaveras</td>\n",
       "      <td>110.697705</td>\n",
       "    </tr>\n",
       "    <tr>\n",
       "      <th>KING</th>\n",
       "      <td>2014</td>\n",
       "      <td>7 - Arson</td>\n",
       "      <td>97684.546875</td>\n",
       "      <td>El Dorado</td>\n",
       "      <td>152.632104</td>\n",
       "    </tr>\n",
       "    <tr>\n",
       "      <th>ROUGH</th>\n",
       "      <td>2015</td>\n",
       "      <td>1 - Lightning</td>\n",
       "      <td>151546.812500</td>\n",
       "      <td>Fresno</td>\n",
       "      <td>236.791895</td>\n",
       "    </tr>\n",
       "    <tr>\n",
       "      <th>MEGRAM</th>\n",
       "      <td>1999</td>\n",
       "      <td>1 - Lightning</td>\n",
       "      <td>125072.531250</td>\n",
       "      <td>Humboldt</td>\n",
       "      <td>195.425830</td>\n",
       "    </tr>\n",
       "    <tr>\n",
       "      <th>...</th>\n",
       "      <td>...</td>\n",
       "      <td>...</td>\n",
       "      <td>...</td>\n",
       "      <td>...</td>\n",
       "      <td>...</td>\n",
       "    </tr>\n",
       "    <tr>\n",
       "      <th>DAY</th>\n",
       "      <td>2006</td>\n",
       "      <td>5 - Debris</td>\n",
       "      <td>161815.656250</td>\n",
       "      <td>Ventura</td>\n",
       "      <td>252.836963</td>\n",
       "    </tr>\n",
       "    <tr>\n",
       "      <th>MATILIJA</th>\n",
       "      <td>1932</td>\n",
       "      <td>9 - Miscellaneous</td>\n",
       "      <td>219999.281250</td>\n",
       "      <td>Ventura</td>\n",
       "      <td>343.748877</td>\n",
       "    </tr>\n",
       "    <tr>\n",
       "      <th>THOMAS</th>\n",
       "      <td>2017</td>\n",
       "      <td>9 - Miscellaneous</td>\n",
       "      <td>281790.875000</td>\n",
       "      <td>Ventura</td>\n",
       "      <td>440.298242</td>\n",
       "    </tr>\n",
       "    <tr>\n",
       "      <th>SIMI FIRE</th>\n",
       "      <td>2003</td>\n",
       "      <td>14 - Unknown</td>\n",
       "      <td>107570.398438</td>\n",
       "      <td>Ventura</td>\n",
       "      <td>168.078748</td>\n",
       "    </tr>\n",
       "    <tr>\n",
       "      <th>COUNTY</th>\n",
       "      <td>2018</td>\n",
       "      <td>14 - Unknown</td>\n",
       "      <td>89831.148438</td>\n",
       "      <td>Yolo</td>\n",
       "      <td>140.361169</td>\n",
       "    </tr>\n",
       "  </tbody>\n",
       "</table>\n",
       "<p>50 rows × 5 columns</p>\n",
       "</div>"
      ],
      "text/plain": [
       "           year              cause          acres     county     sqmiles\n",
       "name                                                                    \n",
       "CAMP       2018     11 - Powerline  153335.562500      Butte  239.586816\n",
       "BUTTE      2015       14 - Unknown   70846.531250  Calaveras  110.697705\n",
       "KING       2014          7 - Arson   97684.546875  El Dorado  152.632104\n",
       "ROUGH      2015      1 - Lightning  151546.812500     Fresno  236.791895\n",
       "MEGRAM     1999      1 - Lightning  125072.531250   Humboldt  195.425830\n",
       "...         ...                ...            ...        ...         ...\n",
       "DAY        2006         5 - Debris  161815.656250    Ventura  252.836963\n",
       "MATILIJA   1932  9 - Miscellaneous  219999.281250    Ventura  343.748877\n",
       "THOMAS     2017  9 - Miscellaneous  281790.875000    Ventura  440.298242\n",
       "SIMI FIRE  2003       14 - Unknown  107570.398438    Ventura  168.078748\n",
       "COUNTY     2018       14 - Unknown   89831.148438       Yolo  140.361169\n",
       "\n",
       "[50 rows x 5 columns]"
      ]
     },
     "execution_count": 20,
     "metadata": {},
     "output_type": "execute_result"
    }
   ],
   "source": [
    "fires_by_name.assign(sqmiles=fires_by_name.get('acres') * 0.0015625)"
   ]
  },
  {
   "cell_type": "markdown",
   "metadata": {},
   "source": [
    "There's a lot going on here, so let's break it down. First, the assign method takes a single argument: a series that will become the new column. But the way that we pass this argument is new. Instead of simply passing the argument itself, we also give the argument a name by writing `sqmiles=`. This will be the column's label. Arguments written in the form `argument_name=argument_value` are called {dterm}`keyword arguments`.\n",
    "\n",
    "We can call the column anything we like, as long as it is a valid python variable name. This means that the variable name cannot contain spaces, or start with a number. If you try, you'll get a `SyntaxError`:"
   ]
  },
  {
   "cell_type": "code",
   "execution_count": 21,
   "metadata": {
    "tags": [
     "raises-exception"
    ]
   },
   "outputs": [
    {
     "ename": "SyntaxError",
     "evalue": "invalid syntax (<ipython-input-21-546d28f7098c>, line 1)",
     "output_type": "error",
     "traceback": [
      "\u001b[0;36m  File \u001b[0;32m\"<ipython-input-21-546d28f7098c>\"\u001b[0;36m, line \u001b[0;32m1\u001b[0m\n\u001b[0;31m    fires_by_name.assign(square miles=fires_by_name.get('acres') * 0.0015625)\u001b[0m\n\u001b[0m                                ^\u001b[0m\n\u001b[0;31mSyntaxError\u001b[0m\u001b[0;31m:\u001b[0m invalid syntax\n"
     ]
    }
   ],
   "source": [
    "fires_by_name.assign(square miles=fires_by_name.get('acres') * 0.0015625)"
   ]
  },
  {
   "cell_type": "markdown",
   "metadata": {},
   "source": [
    "Instead of spaces, we can use underscores:"
   ]
  },
  {
   "cell_type": "code",
   "execution_count": 22,
   "metadata": {},
   "outputs": [
    {
     "data": {
      "text/html": [
       "<div>\n",
       "<style scoped>\n",
       "    .dataframe tbody tr th:only-of-type {\n",
       "        vertical-align: middle;\n",
       "    }\n",
       "\n",
       "    .dataframe tbody tr th {\n",
       "        vertical-align: top;\n",
       "    }\n",
       "\n",
       "    .dataframe thead th {\n",
       "        text-align: right;\n",
       "    }\n",
       "</style>\n",
       "<table border=\"1\" class=\"dataframe\">\n",
       "  <thead>\n",
       "    <tr style=\"text-align: right;\">\n",
       "      <th></th>\n",
       "      <th>year</th>\n",
       "      <th>cause</th>\n",
       "      <th>acres</th>\n",
       "      <th>county</th>\n",
       "      <th>square_miles</th>\n",
       "    </tr>\n",
       "    <tr>\n",
       "      <th>name</th>\n",
       "      <th></th>\n",
       "      <th></th>\n",
       "      <th></th>\n",
       "      <th></th>\n",
       "      <th></th>\n",
       "    </tr>\n",
       "  </thead>\n",
       "  <tbody>\n",
       "    <tr>\n",
       "      <th>CAMP</th>\n",
       "      <td>2018</td>\n",
       "      <td>11 - Powerline</td>\n",
       "      <td>153335.562500</td>\n",
       "      <td>Butte</td>\n",
       "      <td>239.586816</td>\n",
       "    </tr>\n",
       "    <tr>\n",
       "      <th>BUTTE</th>\n",
       "      <td>2015</td>\n",
       "      <td>14 - Unknown</td>\n",
       "      <td>70846.531250</td>\n",
       "      <td>Calaveras</td>\n",
       "      <td>110.697705</td>\n",
       "    </tr>\n",
       "    <tr>\n",
       "      <th>KING</th>\n",
       "      <td>2014</td>\n",
       "      <td>7 - Arson</td>\n",
       "      <td>97684.546875</td>\n",
       "      <td>El Dorado</td>\n",
       "      <td>152.632104</td>\n",
       "    </tr>\n",
       "    <tr>\n",
       "      <th>ROUGH</th>\n",
       "      <td>2015</td>\n",
       "      <td>1 - Lightning</td>\n",
       "      <td>151546.812500</td>\n",
       "      <td>Fresno</td>\n",
       "      <td>236.791895</td>\n",
       "    </tr>\n",
       "    <tr>\n",
       "      <th>MEGRAM</th>\n",
       "      <td>1999</td>\n",
       "      <td>1 - Lightning</td>\n",
       "      <td>125072.531250</td>\n",
       "      <td>Humboldt</td>\n",
       "      <td>195.425830</td>\n",
       "    </tr>\n",
       "    <tr>\n",
       "      <th>...</th>\n",
       "      <td>...</td>\n",
       "      <td>...</td>\n",
       "      <td>...</td>\n",
       "      <td>...</td>\n",
       "      <td>...</td>\n",
       "    </tr>\n",
       "    <tr>\n",
       "      <th>DAY</th>\n",
       "      <td>2006</td>\n",
       "      <td>5 - Debris</td>\n",
       "      <td>161815.656250</td>\n",
       "      <td>Ventura</td>\n",
       "      <td>252.836963</td>\n",
       "    </tr>\n",
       "    <tr>\n",
       "      <th>MATILIJA</th>\n",
       "      <td>1932</td>\n",
       "      <td>9 - Miscellaneous</td>\n",
       "      <td>219999.281250</td>\n",
       "      <td>Ventura</td>\n",
       "      <td>343.748877</td>\n",
       "    </tr>\n",
       "    <tr>\n",
       "      <th>THOMAS</th>\n",
       "      <td>2017</td>\n",
       "      <td>9 - Miscellaneous</td>\n",
       "      <td>281790.875000</td>\n",
       "      <td>Ventura</td>\n",
       "      <td>440.298242</td>\n",
       "    </tr>\n",
       "    <tr>\n",
       "      <th>SIMI FIRE</th>\n",
       "      <td>2003</td>\n",
       "      <td>14 - Unknown</td>\n",
       "      <td>107570.398438</td>\n",
       "      <td>Ventura</td>\n",
       "      <td>168.078748</td>\n",
       "    </tr>\n",
       "    <tr>\n",
       "      <th>COUNTY</th>\n",
       "      <td>2018</td>\n",
       "      <td>14 - Unknown</td>\n",
       "      <td>89831.148438</td>\n",
       "      <td>Yolo</td>\n",
       "      <td>140.361169</td>\n",
       "    </tr>\n",
       "  </tbody>\n",
       "</table>\n",
       "<p>50 rows × 5 columns</p>\n",
       "</div>"
      ],
      "text/plain": [
       "           year              cause          acres     county  square_miles\n",
       "name                                                                      \n",
       "CAMP       2018     11 - Powerline  153335.562500      Butte    239.586816\n",
       "BUTTE      2015       14 - Unknown   70846.531250  Calaveras    110.697705\n",
       "KING       2014          7 - Arson   97684.546875  El Dorado    152.632104\n",
       "ROUGH      2015      1 - Lightning  151546.812500     Fresno    236.791895\n",
       "MEGRAM     1999      1 - Lightning  125072.531250   Humboldt    195.425830\n",
       "...         ...                ...            ...        ...           ...\n",
       "DAY        2006         5 - Debris  161815.656250    Ventura    252.836963\n",
       "MATILIJA   1932  9 - Miscellaneous  219999.281250    Ventura    343.748877\n",
       "THOMAS     2017  9 - Miscellaneous  281790.875000    Ventura    440.298242\n",
       "SIMI FIRE  2003       14 - Unknown  107570.398438    Ventura    168.078748\n",
       "COUNTY     2018       14 - Unknown   89831.148438       Yolo    140.361169\n",
       "\n",
       "[50 rows x 5 columns]"
      ]
     },
     "execution_count": 22,
     "metadata": {},
     "output_type": "execute_result"
    }
   ],
   "source": [
    "fires_by_name.assign(square_miles=fires_by_name.get('acres') * 0.0015625)"
   ]
  },
  {
   "cell_type": "markdown",
   "metadata": {},
   "source": [
    "The second thing to note is that `.assign` creates an entirely new table containing the new column. It does not change the old table, as we can verify by recalling the value of `fires_by_name`:"
   ]
  },
  {
   "cell_type": "code",
   "execution_count": 23,
   "metadata": {},
   "outputs": [
    {
     "data": {
      "text/html": [
       "<div>\n",
       "<style scoped>\n",
       "    .dataframe tbody tr th:only-of-type {\n",
       "        vertical-align: middle;\n",
       "    }\n",
       "\n",
       "    .dataframe tbody tr th {\n",
       "        vertical-align: top;\n",
       "    }\n",
       "\n",
       "    .dataframe thead th {\n",
       "        text-align: right;\n",
       "    }\n",
       "</style>\n",
       "<table border=\"1\" class=\"dataframe\">\n",
       "  <thead>\n",
       "    <tr style=\"text-align: right;\">\n",
       "      <th></th>\n",
       "      <th>year</th>\n",
       "      <th>cause</th>\n",
       "      <th>acres</th>\n",
       "      <th>county</th>\n",
       "    </tr>\n",
       "    <tr>\n",
       "      <th>name</th>\n",
       "      <th></th>\n",
       "      <th></th>\n",
       "      <th></th>\n",
       "      <th></th>\n",
       "    </tr>\n",
       "  </thead>\n",
       "  <tbody>\n",
       "    <tr>\n",
       "      <th>CAMP</th>\n",
       "      <td>2018</td>\n",
       "      <td>11 - Powerline</td>\n",
       "      <td>153335.562500</td>\n",
       "      <td>Butte</td>\n",
       "    </tr>\n",
       "    <tr>\n",
       "      <th>BUTTE</th>\n",
       "      <td>2015</td>\n",
       "      <td>14 - Unknown</td>\n",
       "      <td>70846.531250</td>\n",
       "      <td>Calaveras</td>\n",
       "    </tr>\n",
       "    <tr>\n",
       "      <th>KING</th>\n",
       "      <td>2014</td>\n",
       "      <td>7 - Arson</td>\n",
       "      <td>97684.546875</td>\n",
       "      <td>El Dorado</td>\n",
       "    </tr>\n",
       "    <tr>\n",
       "      <th>ROUGH</th>\n",
       "      <td>2015</td>\n",
       "      <td>1 - Lightning</td>\n",
       "      <td>151546.812500</td>\n",
       "      <td>Fresno</td>\n",
       "    </tr>\n",
       "    <tr>\n",
       "      <th>MEGRAM</th>\n",
       "      <td>1999</td>\n",
       "      <td>1 - Lightning</td>\n",
       "      <td>125072.531250</td>\n",
       "      <td>Humboldt</td>\n",
       "    </tr>\n",
       "    <tr>\n",
       "      <th>...</th>\n",
       "      <td>...</td>\n",
       "      <td>...</td>\n",
       "      <td>...</td>\n",
       "      <td>...</td>\n",
       "    </tr>\n",
       "    <tr>\n",
       "      <th>DAY</th>\n",
       "      <td>2006</td>\n",
       "      <td>5 - Debris</td>\n",
       "      <td>161815.656250</td>\n",
       "      <td>Ventura</td>\n",
       "    </tr>\n",
       "    <tr>\n",
       "      <th>MATILIJA</th>\n",
       "      <td>1932</td>\n",
       "      <td>9 - Miscellaneous</td>\n",
       "      <td>219999.281250</td>\n",
       "      <td>Ventura</td>\n",
       "    </tr>\n",
       "    <tr>\n",
       "      <th>THOMAS</th>\n",
       "      <td>2017</td>\n",
       "      <td>9 - Miscellaneous</td>\n",
       "      <td>281790.875000</td>\n",
       "      <td>Ventura</td>\n",
       "    </tr>\n",
       "    <tr>\n",
       "      <th>SIMI FIRE</th>\n",
       "      <td>2003</td>\n",
       "      <td>14 - Unknown</td>\n",
       "      <td>107570.398438</td>\n",
       "      <td>Ventura</td>\n",
       "    </tr>\n",
       "    <tr>\n",
       "      <th>COUNTY</th>\n",
       "      <td>2018</td>\n",
       "      <td>14 - Unknown</td>\n",
       "      <td>89831.148438</td>\n",
       "      <td>Yolo</td>\n",
       "    </tr>\n",
       "  </tbody>\n",
       "</table>\n",
       "<p>50 rows × 4 columns</p>\n",
       "</div>"
      ],
      "text/plain": [
       "           year              cause          acres     county\n",
       "name                                                        \n",
       "CAMP       2018     11 - Powerline  153335.562500      Butte\n",
       "BUTTE      2015       14 - Unknown   70846.531250  Calaveras\n",
       "KING       2014          7 - Arson   97684.546875  El Dorado\n",
       "ROUGH      2015      1 - Lightning  151546.812500     Fresno\n",
       "MEGRAM     1999      1 - Lightning  125072.531250   Humboldt\n",
       "...         ...                ...            ...        ...\n",
       "DAY        2006         5 - Debris  161815.656250    Ventura\n",
       "MATILIJA   1932  9 - Miscellaneous  219999.281250    Ventura\n",
       "THOMAS     2017  9 - Miscellaneous  281790.875000    Ventura\n",
       "SIMI FIRE  2003       14 - Unknown  107570.398438    Ventura\n",
       "COUNTY     2018       14 - Unknown   89831.148438       Yolo\n",
       "\n",
       "[50 rows x 4 columns]"
      ]
     },
     "execution_count": 23,
     "metadata": {},
     "output_type": "execute_result"
    }
   ],
   "source": [
    "fires_by_name"
   ]
  },
  {
   "cell_type": "markdown",
   "metadata": {},
   "source": [
    "```{note}\n",
    "\n",
    "Wherever possible, DataFrame and Series methods return *new* objects instead of modifying existing ones. Creating copies like this results in code that is easier to reason about helps prevent strange bugs in your code.\n",
    "```"
   ]
  },
  {
   "cell_type": "markdown",
   "metadata": {},
   "source": [
    "In order to permanently add the column to the table, we need to save the result of `.assign` to a variable."
   ]
  },
  {
   "cell_type": "code",
   "execution_count": 24,
   "metadata": {},
   "outputs": [
    {
     "data": {
      "text/html": [
       "<div>\n",
       "<style scoped>\n",
       "    .dataframe tbody tr th:only-of-type {\n",
       "        vertical-align: middle;\n",
       "    }\n",
       "\n",
       "    .dataframe tbody tr th {\n",
       "        vertical-align: top;\n",
       "    }\n",
       "\n",
       "    .dataframe thead th {\n",
       "        text-align: right;\n",
       "    }\n",
       "</style>\n",
       "<table border=\"1\" class=\"dataframe\">\n",
       "  <thead>\n",
       "    <tr style=\"text-align: right;\">\n",
       "      <th></th>\n",
       "      <th>year</th>\n",
       "      <th>cause</th>\n",
       "      <th>acres</th>\n",
       "      <th>county</th>\n",
       "      <th>sqmiles</th>\n",
       "    </tr>\n",
       "    <tr>\n",
       "      <th>name</th>\n",
       "      <th></th>\n",
       "      <th></th>\n",
       "      <th></th>\n",
       "      <th></th>\n",
       "      <th></th>\n",
       "    </tr>\n",
       "  </thead>\n",
       "  <tbody>\n",
       "    <tr>\n",
       "      <th>CAMP</th>\n",
       "      <td>2018</td>\n",
       "      <td>11 - Powerline</td>\n",
       "      <td>153335.562500</td>\n",
       "      <td>Butte</td>\n",
       "      <td>239.586816</td>\n",
       "    </tr>\n",
       "    <tr>\n",
       "      <th>BUTTE</th>\n",
       "      <td>2015</td>\n",
       "      <td>14 - Unknown</td>\n",
       "      <td>70846.531250</td>\n",
       "      <td>Calaveras</td>\n",
       "      <td>110.697705</td>\n",
       "    </tr>\n",
       "    <tr>\n",
       "      <th>KING</th>\n",
       "      <td>2014</td>\n",
       "      <td>7 - Arson</td>\n",
       "      <td>97684.546875</td>\n",
       "      <td>El Dorado</td>\n",
       "      <td>152.632104</td>\n",
       "    </tr>\n",
       "    <tr>\n",
       "      <th>ROUGH</th>\n",
       "      <td>2015</td>\n",
       "      <td>1 - Lightning</td>\n",
       "      <td>151546.812500</td>\n",
       "      <td>Fresno</td>\n",
       "      <td>236.791895</td>\n",
       "    </tr>\n",
       "    <tr>\n",
       "      <th>MEGRAM</th>\n",
       "      <td>1999</td>\n",
       "      <td>1 - Lightning</td>\n",
       "      <td>125072.531250</td>\n",
       "      <td>Humboldt</td>\n",
       "      <td>195.425830</td>\n",
       "    </tr>\n",
       "    <tr>\n",
       "      <th>...</th>\n",
       "      <td>...</td>\n",
       "      <td>...</td>\n",
       "      <td>...</td>\n",
       "      <td>...</td>\n",
       "      <td>...</td>\n",
       "    </tr>\n",
       "    <tr>\n",
       "      <th>DAY</th>\n",
       "      <td>2006</td>\n",
       "      <td>5 - Debris</td>\n",
       "      <td>161815.656250</td>\n",
       "      <td>Ventura</td>\n",
       "      <td>252.836963</td>\n",
       "    </tr>\n",
       "    <tr>\n",
       "      <th>MATILIJA</th>\n",
       "      <td>1932</td>\n",
       "      <td>9 - Miscellaneous</td>\n",
       "      <td>219999.281250</td>\n",
       "      <td>Ventura</td>\n",
       "      <td>343.748877</td>\n",
       "    </tr>\n",
       "    <tr>\n",
       "      <th>THOMAS</th>\n",
       "      <td>2017</td>\n",
       "      <td>9 - Miscellaneous</td>\n",
       "      <td>281790.875000</td>\n",
       "      <td>Ventura</td>\n",
       "      <td>440.298242</td>\n",
       "    </tr>\n",
       "    <tr>\n",
       "      <th>SIMI FIRE</th>\n",
       "      <td>2003</td>\n",
       "      <td>14 - Unknown</td>\n",
       "      <td>107570.398438</td>\n",
       "      <td>Ventura</td>\n",
       "      <td>168.078748</td>\n",
       "    </tr>\n",
       "    <tr>\n",
       "      <th>COUNTY</th>\n",
       "      <td>2018</td>\n",
       "      <td>14 - Unknown</td>\n",
       "      <td>89831.148438</td>\n",
       "      <td>Yolo</td>\n",
       "      <td>140.361169</td>\n",
       "    </tr>\n",
       "  </tbody>\n",
       "</table>\n",
       "<p>50 rows × 5 columns</p>\n",
       "</div>"
      ],
      "text/plain": [
       "           year              cause          acres     county     sqmiles\n",
       "name                                                                    \n",
       "CAMP       2018     11 - Powerline  153335.562500      Butte  239.586816\n",
       "BUTTE      2015       14 - Unknown   70846.531250  Calaveras  110.697705\n",
       "KING       2014          7 - Arson   97684.546875  El Dorado  152.632104\n",
       "ROUGH      2015      1 - Lightning  151546.812500     Fresno  236.791895\n",
       "MEGRAM     1999      1 - Lightning  125072.531250   Humboldt  195.425830\n",
       "...         ...                ...            ...        ...         ...\n",
       "DAY        2006         5 - Debris  161815.656250    Ventura  252.836963\n",
       "MATILIJA   1932  9 - Miscellaneous  219999.281250    Ventura  343.748877\n",
       "THOMAS     2017  9 - Miscellaneous  281790.875000    Ventura  440.298242\n",
       "SIMI FIRE  2003       14 - Unknown  107570.398438    Ventura  168.078748\n",
       "COUNTY     2018       14 - Unknown   89831.148438       Yolo  140.361169\n",
       "\n",
       "[50 rows x 5 columns]"
      ]
     },
     "execution_count": 24,
     "metadata": {},
     "output_type": "execute_result"
    }
   ],
   "source": [
    "fires_with_sqmiles = fires_by_name.assign(\n",
    "    sqmiles=fires_by_name.get('acres') * 0.0015625\n",
    ")\n",
    "fires_with_sqmiles"
   ]
  },
  {
   "cell_type": "markdown",
   "metadata": {},
   "source": [
    "### Removing a column with `.drop`"
   ]
  },
  {
   "cell_type": "markdown",
   "metadata": {},
   "source": [
    "Columns can be removed using the `.drop` method. It accepts one keyword argument: `columns`. The argument can either be the label of a single column as a string, or a list of column labels. As with `.assign`, the result is a new DataFrame (a copy).\n",
    "\n",
    "For example, to get rid of the `'sqmiles'` column:"
   ]
  },
  {
   "cell_type": "code",
   "execution_count": 25,
   "metadata": {},
   "outputs": [
    {
     "data": {
      "text/html": [
       "<div>\n",
       "<style scoped>\n",
       "    .dataframe tbody tr th:only-of-type {\n",
       "        vertical-align: middle;\n",
       "    }\n",
       "\n",
       "    .dataframe tbody tr th {\n",
       "        vertical-align: top;\n",
       "    }\n",
       "\n",
       "    .dataframe thead th {\n",
       "        text-align: right;\n",
       "    }\n",
       "</style>\n",
       "<table border=\"1\" class=\"dataframe\">\n",
       "  <thead>\n",
       "    <tr style=\"text-align: right;\">\n",
       "      <th></th>\n",
       "      <th>year</th>\n",
       "      <th>cause</th>\n",
       "      <th>acres</th>\n",
       "      <th>county</th>\n",
       "    </tr>\n",
       "    <tr>\n",
       "      <th>name</th>\n",
       "      <th></th>\n",
       "      <th></th>\n",
       "      <th></th>\n",
       "      <th></th>\n",
       "    </tr>\n",
       "  </thead>\n",
       "  <tbody>\n",
       "    <tr>\n",
       "      <th>CAMP</th>\n",
       "      <td>2018</td>\n",
       "      <td>11 - Powerline</td>\n",
       "      <td>153335.562500</td>\n",
       "      <td>Butte</td>\n",
       "    </tr>\n",
       "    <tr>\n",
       "      <th>BUTTE</th>\n",
       "      <td>2015</td>\n",
       "      <td>14 - Unknown</td>\n",
       "      <td>70846.531250</td>\n",
       "      <td>Calaveras</td>\n",
       "    </tr>\n",
       "    <tr>\n",
       "      <th>KING</th>\n",
       "      <td>2014</td>\n",
       "      <td>7 - Arson</td>\n",
       "      <td>97684.546875</td>\n",
       "      <td>El Dorado</td>\n",
       "    </tr>\n",
       "    <tr>\n",
       "      <th>ROUGH</th>\n",
       "      <td>2015</td>\n",
       "      <td>1 - Lightning</td>\n",
       "      <td>151546.812500</td>\n",
       "      <td>Fresno</td>\n",
       "    </tr>\n",
       "    <tr>\n",
       "      <th>MEGRAM</th>\n",
       "      <td>1999</td>\n",
       "      <td>1 - Lightning</td>\n",
       "      <td>125072.531250</td>\n",
       "      <td>Humboldt</td>\n",
       "    </tr>\n",
       "    <tr>\n",
       "      <th>...</th>\n",
       "      <td>...</td>\n",
       "      <td>...</td>\n",
       "      <td>...</td>\n",
       "      <td>...</td>\n",
       "    </tr>\n",
       "    <tr>\n",
       "      <th>DAY</th>\n",
       "      <td>2006</td>\n",
       "      <td>5 - Debris</td>\n",
       "      <td>161815.656250</td>\n",
       "      <td>Ventura</td>\n",
       "    </tr>\n",
       "    <tr>\n",
       "      <th>MATILIJA</th>\n",
       "      <td>1932</td>\n",
       "      <td>9 - Miscellaneous</td>\n",
       "      <td>219999.281250</td>\n",
       "      <td>Ventura</td>\n",
       "    </tr>\n",
       "    <tr>\n",
       "      <th>THOMAS</th>\n",
       "      <td>2017</td>\n",
       "      <td>9 - Miscellaneous</td>\n",
       "      <td>281790.875000</td>\n",
       "      <td>Ventura</td>\n",
       "    </tr>\n",
       "    <tr>\n",
       "      <th>SIMI FIRE</th>\n",
       "      <td>2003</td>\n",
       "      <td>14 - Unknown</td>\n",
       "      <td>107570.398438</td>\n",
       "      <td>Ventura</td>\n",
       "    </tr>\n",
       "    <tr>\n",
       "      <th>COUNTY</th>\n",
       "      <td>2018</td>\n",
       "      <td>14 - Unknown</td>\n",
       "      <td>89831.148438</td>\n",
       "      <td>Yolo</td>\n",
       "    </tr>\n",
       "  </tbody>\n",
       "</table>\n",
       "<p>50 rows × 4 columns</p>\n",
       "</div>"
      ],
      "text/plain": [
       "           year              cause          acres     county\n",
       "name                                                        \n",
       "CAMP       2018     11 - Powerline  153335.562500      Butte\n",
       "BUTTE      2015       14 - Unknown   70846.531250  Calaveras\n",
       "KING       2014          7 - Arson   97684.546875  El Dorado\n",
       "ROUGH      2015      1 - Lightning  151546.812500     Fresno\n",
       "MEGRAM     1999      1 - Lightning  125072.531250   Humboldt\n",
       "...         ...                ...            ...        ...\n",
       "DAY        2006         5 - Debris  161815.656250    Ventura\n",
       "MATILIJA   1932  9 - Miscellaneous  219999.281250    Ventura\n",
       "THOMAS     2017  9 - Miscellaneous  281790.875000    Ventura\n",
       "SIMI FIRE  2003       14 - Unknown  107570.398438    Ventura\n",
       "COUNTY     2018       14 - Unknown   89831.148438       Yolo\n",
       "\n",
       "[50 rows x 4 columns]"
      ]
     },
     "execution_count": 25,
     "metadata": {},
     "output_type": "execute_result"
    }
   ],
   "source": [
    "fires_with_sqmiles.drop(columns='sqmiles')"
   ]
  },
  {
   "cell_type": "markdown",
   "metadata": {},
   "source": [
    "If we didn't want the cause or the county:"
   ]
  },
  {
   "cell_type": "code",
   "execution_count": 26,
   "metadata": {},
   "outputs": [
    {
     "data": {
      "text/html": [
       "<div>\n",
       "<style scoped>\n",
       "    .dataframe tbody tr th:only-of-type {\n",
       "        vertical-align: middle;\n",
       "    }\n",
       "\n",
       "    .dataframe tbody tr th {\n",
       "        vertical-align: top;\n",
       "    }\n",
       "\n",
       "    .dataframe thead th {\n",
       "        text-align: right;\n",
       "    }\n",
       "</style>\n",
       "<table border=\"1\" class=\"dataframe\">\n",
       "  <thead>\n",
       "    <tr style=\"text-align: right;\">\n",
       "      <th></th>\n",
       "      <th>year</th>\n",
       "      <th>acres</th>\n",
       "      <th>sqmiles</th>\n",
       "    </tr>\n",
       "    <tr>\n",
       "      <th>name</th>\n",
       "      <th></th>\n",
       "      <th></th>\n",
       "      <th></th>\n",
       "    </tr>\n",
       "  </thead>\n",
       "  <tbody>\n",
       "    <tr>\n",
       "      <th>CAMP</th>\n",
       "      <td>2018</td>\n",
       "      <td>153335.562500</td>\n",
       "      <td>239.586816</td>\n",
       "    </tr>\n",
       "    <tr>\n",
       "      <th>BUTTE</th>\n",
       "      <td>2015</td>\n",
       "      <td>70846.531250</td>\n",
       "      <td>110.697705</td>\n",
       "    </tr>\n",
       "    <tr>\n",
       "      <th>KING</th>\n",
       "      <td>2014</td>\n",
       "      <td>97684.546875</td>\n",
       "      <td>152.632104</td>\n",
       "    </tr>\n",
       "    <tr>\n",
       "      <th>ROUGH</th>\n",
       "      <td>2015</td>\n",
       "      <td>151546.812500</td>\n",
       "      <td>236.791895</td>\n",
       "    </tr>\n",
       "    <tr>\n",
       "      <th>MEGRAM</th>\n",
       "      <td>1999</td>\n",
       "      <td>125072.531250</td>\n",
       "      <td>195.425830</td>\n",
       "    </tr>\n",
       "    <tr>\n",
       "      <th>...</th>\n",
       "      <td>...</td>\n",
       "      <td>...</td>\n",
       "      <td>...</td>\n",
       "    </tr>\n",
       "    <tr>\n",
       "      <th>DAY</th>\n",
       "      <td>2006</td>\n",
       "      <td>161815.656250</td>\n",
       "      <td>252.836963</td>\n",
       "    </tr>\n",
       "    <tr>\n",
       "      <th>MATILIJA</th>\n",
       "      <td>1932</td>\n",
       "      <td>219999.281250</td>\n",
       "      <td>343.748877</td>\n",
       "    </tr>\n",
       "    <tr>\n",
       "      <th>THOMAS</th>\n",
       "      <td>2017</td>\n",
       "      <td>281790.875000</td>\n",
       "      <td>440.298242</td>\n",
       "    </tr>\n",
       "    <tr>\n",
       "      <th>SIMI FIRE</th>\n",
       "      <td>2003</td>\n",
       "      <td>107570.398438</td>\n",
       "      <td>168.078748</td>\n",
       "    </tr>\n",
       "    <tr>\n",
       "      <th>COUNTY</th>\n",
       "      <td>2018</td>\n",
       "      <td>89831.148438</td>\n",
       "      <td>140.361169</td>\n",
       "    </tr>\n",
       "  </tbody>\n",
       "</table>\n",
       "<p>50 rows × 3 columns</p>\n",
       "</div>"
      ],
      "text/plain": [
       "           year          acres     sqmiles\n",
       "name                                      \n",
       "CAMP       2018  153335.562500  239.586816\n",
       "BUTTE      2015   70846.531250  110.697705\n",
       "KING       2014   97684.546875  152.632104\n",
       "ROUGH      2015  151546.812500  236.791895\n",
       "MEGRAM     1999  125072.531250  195.425830\n",
       "...         ...            ...         ...\n",
       "DAY        2006  161815.656250  252.836963\n",
       "MATILIJA   1932  219999.281250  343.748877\n",
       "THOMAS     2017  281790.875000  440.298242\n",
       "SIMI FIRE  2003  107570.398438  168.078748\n",
       "COUNTY     2018   89831.148438  140.361169\n",
       "\n",
       "[50 rows x 3 columns]"
      ]
     },
     "execution_count": 26,
     "metadata": {},
     "output_type": "execute_result"
    }
   ],
   "source": [
    "fires_with_sqmiles.drop(columns=['cause', 'county'])"
   ]
  },
  {
   "cell_type": "markdown",
   "metadata": {},
   "source": [
    "Note that the argument name (`columns`) is not something we can change, unlike the keyword argument name used in `.assign`. We *must* use `columns=...`, or else Python will not understand us. And if you don't use the keyword name, Python will be upset:"
   ]
  },
  {
   "cell_type": "code",
   "execution_count": 27,
   "metadata": {
    "tags": [
     "raises-exception"
    ]
   },
   "outputs": [
    {
     "ename": "TypeError",
     "evalue": "drop() takes 1 positional argument but 2 were given",
     "output_type": "error",
     "traceback": [
      "\u001b[0;31m---------------------------------------------------------------------------\u001b[0m",
      "\u001b[0;31mTypeError\u001b[0m                                 Traceback (most recent call last)",
      "\u001b[0;32m<ipython-input-27-7d1ab73fa32f>\u001b[0m in \u001b[0;36m<module>\u001b[0;34m\u001b[0m\n\u001b[0;32m----> 1\u001b[0;31m \u001b[0mfires_with_sqmiles\u001b[0m\u001b[0;34m.\u001b[0m\u001b[0mdrop\u001b[0m\u001b[0;34m(\u001b[0m\u001b[0;34m'county'\u001b[0m\u001b[0;34m)\u001b[0m\u001b[0;34m\u001b[0m\u001b[0;34m\u001b[0m\u001b[0m\n\u001b[0m",
      "\u001b[0;31mTypeError\u001b[0m: drop() takes 1 positional argument but 2 were given"
     ]
    }
   ],
   "source": [
    "fires_with_sqmiles.drop('county')"
   ]
  },
  {
   "cell_type": "markdown",
   "metadata": {},
   "source": [
    "### Renaming columns"
   ]
  },
  {
   "cell_type": "markdown",
   "metadata": {},
   "source": [
    "How do we rename a column? Suppose we want to rename `sqmiles` to `square_miles`. To do so, we:\n",
    "\n",
    "1. Add a new column with the desired name by copying the old column.\n",
    "2. Drop the old column"
   ]
  },
  {
   "cell_type": "markdown",
   "metadata": {},
   "source": [
    "For instance:"
   ]
  },
  {
   "cell_type": "code",
   "execution_count": 28,
   "metadata": {},
   "outputs": [
    {
     "data": {
      "text/html": [
       "<div>\n",
       "<style scoped>\n",
       "    .dataframe tbody tr th:only-of-type {\n",
       "        vertical-align: middle;\n",
       "    }\n",
       "\n",
       "    .dataframe tbody tr th {\n",
       "        vertical-align: top;\n",
       "    }\n",
       "\n",
       "    .dataframe thead th {\n",
       "        text-align: right;\n",
       "    }\n",
       "</style>\n",
       "<table border=\"1\" class=\"dataframe\">\n",
       "  <thead>\n",
       "    <tr style=\"text-align: right;\">\n",
       "      <th></th>\n",
       "      <th>year</th>\n",
       "      <th>cause</th>\n",
       "      <th>acres</th>\n",
       "      <th>county</th>\n",
       "      <th>square_miles</th>\n",
       "    </tr>\n",
       "    <tr>\n",
       "      <th>name</th>\n",
       "      <th></th>\n",
       "      <th></th>\n",
       "      <th></th>\n",
       "      <th></th>\n",
       "      <th></th>\n",
       "    </tr>\n",
       "  </thead>\n",
       "  <tbody>\n",
       "    <tr>\n",
       "      <th>CAMP</th>\n",
       "      <td>2018</td>\n",
       "      <td>11 - Powerline</td>\n",
       "      <td>153335.562500</td>\n",
       "      <td>Butte</td>\n",
       "      <td>239.586816</td>\n",
       "    </tr>\n",
       "    <tr>\n",
       "      <th>BUTTE</th>\n",
       "      <td>2015</td>\n",
       "      <td>14 - Unknown</td>\n",
       "      <td>70846.531250</td>\n",
       "      <td>Calaveras</td>\n",
       "      <td>110.697705</td>\n",
       "    </tr>\n",
       "    <tr>\n",
       "      <th>KING</th>\n",
       "      <td>2014</td>\n",
       "      <td>7 - Arson</td>\n",
       "      <td>97684.546875</td>\n",
       "      <td>El Dorado</td>\n",
       "      <td>152.632104</td>\n",
       "    </tr>\n",
       "    <tr>\n",
       "      <th>ROUGH</th>\n",
       "      <td>2015</td>\n",
       "      <td>1 - Lightning</td>\n",
       "      <td>151546.812500</td>\n",
       "      <td>Fresno</td>\n",
       "      <td>236.791895</td>\n",
       "    </tr>\n",
       "    <tr>\n",
       "      <th>MEGRAM</th>\n",
       "      <td>1999</td>\n",
       "      <td>1 - Lightning</td>\n",
       "      <td>125072.531250</td>\n",
       "      <td>Humboldt</td>\n",
       "      <td>195.425830</td>\n",
       "    </tr>\n",
       "    <tr>\n",
       "      <th>...</th>\n",
       "      <td>...</td>\n",
       "      <td>...</td>\n",
       "      <td>...</td>\n",
       "      <td>...</td>\n",
       "      <td>...</td>\n",
       "    </tr>\n",
       "    <tr>\n",
       "      <th>DAY</th>\n",
       "      <td>2006</td>\n",
       "      <td>5 - Debris</td>\n",
       "      <td>161815.656250</td>\n",
       "      <td>Ventura</td>\n",
       "      <td>252.836963</td>\n",
       "    </tr>\n",
       "    <tr>\n",
       "      <th>MATILIJA</th>\n",
       "      <td>1932</td>\n",
       "      <td>9 - Miscellaneous</td>\n",
       "      <td>219999.281250</td>\n",
       "      <td>Ventura</td>\n",
       "      <td>343.748877</td>\n",
       "    </tr>\n",
       "    <tr>\n",
       "      <th>THOMAS</th>\n",
       "      <td>2017</td>\n",
       "      <td>9 - Miscellaneous</td>\n",
       "      <td>281790.875000</td>\n",
       "      <td>Ventura</td>\n",
       "      <td>440.298242</td>\n",
       "    </tr>\n",
       "    <tr>\n",
       "      <th>SIMI FIRE</th>\n",
       "      <td>2003</td>\n",
       "      <td>14 - Unknown</td>\n",
       "      <td>107570.398438</td>\n",
       "      <td>Ventura</td>\n",
       "      <td>168.078748</td>\n",
       "    </tr>\n",
       "    <tr>\n",
       "      <th>COUNTY</th>\n",
       "      <td>2018</td>\n",
       "      <td>14 - Unknown</td>\n",
       "      <td>89831.148438</td>\n",
       "      <td>Yolo</td>\n",
       "      <td>140.361169</td>\n",
       "    </tr>\n",
       "  </tbody>\n",
       "</table>\n",
       "<p>50 rows × 5 columns</p>\n",
       "</div>"
      ],
      "text/plain": [
       "           year              cause          acres     county  square_miles\n",
       "name                                                                      \n",
       "CAMP       2018     11 - Powerline  153335.562500      Butte    239.586816\n",
       "BUTTE      2015       14 - Unknown   70846.531250  Calaveras    110.697705\n",
       "KING       2014          7 - Arson   97684.546875  El Dorado    152.632104\n",
       "ROUGH      2015      1 - Lightning  151546.812500     Fresno    236.791895\n",
       "MEGRAM     1999      1 - Lightning  125072.531250   Humboldt    195.425830\n",
       "...         ...                ...            ...        ...           ...\n",
       "DAY        2006         5 - Debris  161815.656250    Ventura    252.836963\n",
       "MATILIJA   1932  9 - Miscellaneous  219999.281250    Ventura    343.748877\n",
       "THOMAS     2017  9 - Miscellaneous  281790.875000    Ventura    440.298242\n",
       "SIMI FIRE  2003       14 - Unknown  107570.398438    Ventura    168.078748\n",
       "COUNTY     2018       14 - Unknown   89831.148438       Yolo    140.361169\n",
       "\n",
       "[50 rows x 5 columns]"
      ]
     },
     "execution_count": 28,
     "metadata": {},
     "output_type": "execute_result"
    }
   ],
   "source": [
    "fires_with_new_name = fires_with_sqmiles.assign(\n",
    "    square_miles=fires_with_sqmiles.get('sqmiles')\n",
    ")\n",
    "fires_with_new_name.drop(columns='sqmiles')"
   ]
  },
  {
   "cell_type": "markdown",
   "metadata": {},
   "source": [
    "We can also do this in a single piece of code, without intermediate variables:"
   ]
  },
  {
   "cell_type": "code",
   "execution_count": 29,
   "metadata": {},
   "outputs": [
    {
     "data": {
      "text/html": [
       "<div>\n",
       "<style scoped>\n",
       "    .dataframe tbody tr th:only-of-type {\n",
       "        vertical-align: middle;\n",
       "    }\n",
       "\n",
       "    .dataframe tbody tr th {\n",
       "        vertical-align: top;\n",
       "    }\n",
       "\n",
       "    .dataframe thead th {\n",
       "        text-align: right;\n",
       "    }\n",
       "</style>\n",
       "<table border=\"1\" class=\"dataframe\">\n",
       "  <thead>\n",
       "    <tr style=\"text-align: right;\">\n",
       "      <th></th>\n",
       "      <th>year</th>\n",
       "      <th>cause</th>\n",
       "      <th>acres</th>\n",
       "      <th>county</th>\n",
       "      <th>square_miles</th>\n",
       "    </tr>\n",
       "    <tr>\n",
       "      <th>name</th>\n",
       "      <th></th>\n",
       "      <th></th>\n",
       "      <th></th>\n",
       "      <th></th>\n",
       "      <th></th>\n",
       "    </tr>\n",
       "  </thead>\n",
       "  <tbody>\n",
       "    <tr>\n",
       "      <th>CAMP</th>\n",
       "      <td>2018</td>\n",
       "      <td>11 - Powerline</td>\n",
       "      <td>153335.562500</td>\n",
       "      <td>Butte</td>\n",
       "      <td>239.586816</td>\n",
       "    </tr>\n",
       "    <tr>\n",
       "      <th>BUTTE</th>\n",
       "      <td>2015</td>\n",
       "      <td>14 - Unknown</td>\n",
       "      <td>70846.531250</td>\n",
       "      <td>Calaveras</td>\n",
       "      <td>110.697705</td>\n",
       "    </tr>\n",
       "    <tr>\n",
       "      <th>KING</th>\n",
       "      <td>2014</td>\n",
       "      <td>7 - Arson</td>\n",
       "      <td>97684.546875</td>\n",
       "      <td>El Dorado</td>\n",
       "      <td>152.632104</td>\n",
       "    </tr>\n",
       "    <tr>\n",
       "      <th>ROUGH</th>\n",
       "      <td>2015</td>\n",
       "      <td>1 - Lightning</td>\n",
       "      <td>151546.812500</td>\n",
       "      <td>Fresno</td>\n",
       "      <td>236.791895</td>\n",
       "    </tr>\n",
       "    <tr>\n",
       "      <th>MEGRAM</th>\n",
       "      <td>1999</td>\n",
       "      <td>1 - Lightning</td>\n",
       "      <td>125072.531250</td>\n",
       "      <td>Humboldt</td>\n",
       "      <td>195.425830</td>\n",
       "    </tr>\n",
       "    <tr>\n",
       "      <th>...</th>\n",
       "      <td>...</td>\n",
       "      <td>...</td>\n",
       "      <td>...</td>\n",
       "      <td>...</td>\n",
       "      <td>...</td>\n",
       "    </tr>\n",
       "    <tr>\n",
       "      <th>DAY</th>\n",
       "      <td>2006</td>\n",
       "      <td>5 - Debris</td>\n",
       "      <td>161815.656250</td>\n",
       "      <td>Ventura</td>\n",
       "      <td>252.836963</td>\n",
       "    </tr>\n",
       "    <tr>\n",
       "      <th>MATILIJA</th>\n",
       "      <td>1932</td>\n",
       "      <td>9 - Miscellaneous</td>\n",
       "      <td>219999.281250</td>\n",
       "      <td>Ventura</td>\n",
       "      <td>343.748877</td>\n",
       "    </tr>\n",
       "    <tr>\n",
       "      <th>THOMAS</th>\n",
       "      <td>2017</td>\n",
       "      <td>9 - Miscellaneous</td>\n",
       "      <td>281790.875000</td>\n",
       "      <td>Ventura</td>\n",
       "      <td>440.298242</td>\n",
       "    </tr>\n",
       "    <tr>\n",
       "      <th>SIMI FIRE</th>\n",
       "      <td>2003</td>\n",
       "      <td>14 - Unknown</td>\n",
       "      <td>107570.398438</td>\n",
       "      <td>Ventura</td>\n",
       "      <td>168.078748</td>\n",
       "    </tr>\n",
       "    <tr>\n",
       "      <th>COUNTY</th>\n",
       "      <td>2018</td>\n",
       "      <td>14 - Unknown</td>\n",
       "      <td>89831.148438</td>\n",
       "      <td>Yolo</td>\n",
       "      <td>140.361169</td>\n",
       "    </tr>\n",
       "  </tbody>\n",
       "</table>\n",
       "<p>50 rows × 5 columns</p>\n",
       "</div>"
      ],
      "text/plain": [
       "           year              cause          acres     county  square_miles\n",
       "name                                                                      \n",
       "CAMP       2018     11 - Powerline  153335.562500      Butte    239.586816\n",
       "BUTTE      2015       14 - Unknown   70846.531250  Calaveras    110.697705\n",
       "KING       2014          7 - Arson   97684.546875  El Dorado    152.632104\n",
       "ROUGH      2015      1 - Lightning  151546.812500     Fresno    236.791895\n",
       "MEGRAM     1999      1 - Lightning  125072.531250   Humboldt    195.425830\n",
       "...         ...                ...            ...        ...           ...\n",
       "DAY        2006         5 - Debris  161815.656250    Ventura    252.836963\n",
       "MATILIJA   1932  9 - Miscellaneous  219999.281250    Ventura    343.748877\n",
       "THOMAS     2017  9 - Miscellaneous  281790.875000    Ventura    440.298242\n",
       "SIMI FIRE  2003       14 - Unknown  107570.398438    Ventura    168.078748\n",
       "COUNTY     2018       14 - Unknown   89831.148438       Yolo    140.361169\n",
       "\n",
       "[50 rows x 5 columns]"
      ]
     },
     "execution_count": 29,
     "metadata": {},
     "output_type": "execute_result"
    }
   ],
   "source": [
    "(\n",
    "    fires_with_sqmiles\n",
    "    .assign(square_miles=fires_with_sqmiles.get('sqmiles'))\n",
    "    .drop(columns='sqmiles')\n",
    ")"
   ]
  },
  {
   "cell_type": "markdown",
   "metadata": {},
   "source": [
    "```{tip}\n",
    "\n",
    "You can break up long expressions by surrounding the whole expression with parentheses and inserting line breaks wherever makes sense. We'll often break right at a method call.\n",
    "```"
   ]
  },
  {
   "cell_type": "markdown",
   "metadata": {},
   "source": [
    "This trick of applying two methods, one after the other, in one line of code is called {dterm}`method chaining`. It works because the result of `.assign` is itself a table. When Python evalautes the expression, it first evaluates the `.assign`, then uses this table during the call to `.drop`.\n",
    "\n",
    "Method chaining is useful and can save us some typing, but it can be overused. It is sometimes better to save intermediate results.\n",
    "\n",
    "```{tip}\n",
    "If your method-chaining code isn't working as you'd expect, break apart the code and save intermediate variables. Print out the values of these variables to do some debugging.\n",
    "```"
   ]
  },
  {
   "cell_type": "markdown",
   "metadata": {},
   "source": [
    "## Reading CSV files"
   ]
  },
  {
   "cell_type": "markdown",
   "metadata": {},
   "source": [
    "As mentioned above, DataFrames are not typically created by typing their entries by hand, one-by-one. Instead, we usually download a data set in a standard format and read it from disk. One such standard format is {dterm}`CSV`, or *comma-separated values*."
   ]
  },
  {
   "cell_type": "markdown",
   "metadata": {},
   "source": [
    "A CSV file is simply a text file in a certain format. Here are the first few lines of the CSV file containing our wildfire data:"
   ]
  },
  {
   "cell_type": "code",
   "execution_count": 30,
   "metadata": {
    "tags": [
     "remove-input"
    ]
   },
   "outputs": [
    {
     "name": "stdout",
     "output_type": "stream",
     "text": [
      "name,year,cause,acres,county\r\n",
      "CAMP,2018,11 - Powerline,153335.5625,Butte\r\n",
      "BUTTE,2015,14 - Unknown,70846.53125,Calaveras\r\n",
      "KING,2014,7 - Arson,97684.546875,El Dorado\r\n",
      "ROUGH,2015,1 - Lightning,151546.8125,Fresno\r\n",
      "MEGRAM,1999,1 - Lightning,125072.53125,Humboldt\r\n",
      "RANCH,2018,14 - Unknown,410202.46875,Lake\r\n",
      "VALLEY ,2015,14 - Unknown,76084.8359375,Lake\r\n",
      "ROCKY  ,2015,9 - Miscellaneous,69438.1640625,Lake\r\n",
      "FORK,1996,7 - Arson,83056.9453125,Lake\r\n"
     ]
    }
   ],
   "source": [
    "!head ../../data/calfire.csv"
   ]
  },
  {
   "cell_type": "markdown",
   "metadata": {},
   "source": [
    "As it's name suggests, a CSV file consists of values, separated by commas. The first line of the file usually contains the column labels. CSV is a widely-used format, and can be read by many pieces of software, including Excel and Google Sheets."
   ]
  },
  {
   "cell_type": "markdown",
   "metadata": {},
   "source": [
    "We can read a CSV file into a *babypandas* DataFrame using the `bpd.read_csv` function. We give this function a string containing the filepath to the CSV file we want to read. For example, our wildfire data exists in a file called `calfire.csv` contained in the `data/` directory. We can read it into a DataFrame as follows:"
   ]
  },
  {
   "cell_type": "code",
   "execution_count": 31,
   "metadata": {},
   "outputs": [
    {
     "data": {
      "text/html": [
       "<div>\n",
       "<style scoped>\n",
       "    .dataframe tbody tr th:only-of-type {\n",
       "        vertical-align: middle;\n",
       "    }\n",
       "\n",
       "    .dataframe tbody tr th {\n",
       "        vertical-align: top;\n",
       "    }\n",
       "\n",
       "    .dataframe thead th {\n",
       "        text-align: right;\n",
       "    }\n",
       "</style>\n",
       "<table border=\"1\" class=\"dataframe\">\n",
       "  <thead>\n",
       "    <tr style=\"text-align: right;\">\n",
       "      <th></th>\n",
       "      <th>name</th>\n",
       "      <th>year</th>\n",
       "      <th>cause</th>\n",
       "      <th>acres</th>\n",
       "      <th>county</th>\n",
       "    </tr>\n",
       "  </thead>\n",
       "  <tbody>\n",
       "    <tr>\n",
       "      <th>0</th>\n",
       "      <td>CAMP</td>\n",
       "      <td>2018</td>\n",
       "      <td>11 - Powerline</td>\n",
       "      <td>153335.562500</td>\n",
       "      <td>Butte</td>\n",
       "    </tr>\n",
       "    <tr>\n",
       "      <th>1</th>\n",
       "      <td>BUTTE</td>\n",
       "      <td>2015</td>\n",
       "      <td>14 - Unknown</td>\n",
       "      <td>70846.531250</td>\n",
       "      <td>Calaveras</td>\n",
       "    </tr>\n",
       "    <tr>\n",
       "      <th>2</th>\n",
       "      <td>KING</td>\n",
       "      <td>2014</td>\n",
       "      <td>7 - Arson</td>\n",
       "      <td>97684.546875</td>\n",
       "      <td>El Dorado</td>\n",
       "    </tr>\n",
       "    <tr>\n",
       "      <th>3</th>\n",
       "      <td>ROUGH</td>\n",
       "      <td>2015</td>\n",
       "      <td>1 - Lightning</td>\n",
       "      <td>151546.812500</td>\n",
       "      <td>Fresno</td>\n",
       "    </tr>\n",
       "    <tr>\n",
       "      <th>4</th>\n",
       "      <td>MEGRAM</td>\n",
       "      <td>1999</td>\n",
       "      <td>1 - Lightning</td>\n",
       "      <td>125072.531250</td>\n",
       "      <td>Humboldt</td>\n",
       "    </tr>\n",
       "    <tr>\n",
       "      <th>...</th>\n",
       "      <td>...</td>\n",
       "      <td>...</td>\n",
       "      <td>...</td>\n",
       "      <td>...</td>\n",
       "      <td>...</td>\n",
       "    </tr>\n",
       "    <tr>\n",
       "      <th>45</th>\n",
       "      <td>DAY</td>\n",
       "      <td>2006</td>\n",
       "      <td>5 - Debris</td>\n",
       "      <td>161815.656250</td>\n",
       "      <td>Ventura</td>\n",
       "    </tr>\n",
       "    <tr>\n",
       "      <th>46</th>\n",
       "      <td>MATILIJA</td>\n",
       "      <td>1932</td>\n",
       "      <td>9 - Miscellaneous</td>\n",
       "      <td>219999.281250</td>\n",
       "      <td>Ventura</td>\n",
       "    </tr>\n",
       "    <tr>\n",
       "      <th>47</th>\n",
       "      <td>THOMAS</td>\n",
       "      <td>2017</td>\n",
       "      <td>9 - Miscellaneous</td>\n",
       "      <td>281790.875000</td>\n",
       "      <td>Ventura</td>\n",
       "    </tr>\n",
       "    <tr>\n",
       "      <th>48</th>\n",
       "      <td>SIMI FIRE</td>\n",
       "      <td>2003</td>\n",
       "      <td>14 - Unknown</td>\n",
       "      <td>107570.398438</td>\n",
       "      <td>Ventura</td>\n",
       "    </tr>\n",
       "    <tr>\n",
       "      <th>49</th>\n",
       "      <td>COUNTY</td>\n",
       "      <td>2018</td>\n",
       "      <td>14 - Unknown</td>\n",
       "      <td>89831.148438</td>\n",
       "      <td>Yolo</td>\n",
       "    </tr>\n",
       "  </tbody>\n",
       "</table>\n",
       "<p>50 rows × 5 columns</p>\n",
       "</div>"
      ],
      "text/plain": [
       "         name  year              cause          acres     county\n",
       "0        CAMP  2018     11 - Powerline  153335.562500      Butte\n",
       "1       BUTTE  2015       14 - Unknown   70846.531250  Calaveras\n",
       "2        KING  2014          7 - Arson   97684.546875  El Dorado\n",
       "3       ROUGH  2015      1 - Lightning  151546.812500     Fresno\n",
       "4      MEGRAM  1999      1 - Lightning  125072.531250   Humboldt\n",
       "..        ...   ...                ...            ...        ...\n",
       "45        DAY  2006         5 - Debris  161815.656250    Ventura\n",
       "46   MATILIJA  1932  9 - Miscellaneous  219999.281250    Ventura\n",
       "47     THOMAS  2017  9 - Miscellaneous  281790.875000    Ventura\n",
       "48  SIMI FIRE  2003       14 - Unknown  107570.398438    Ventura\n",
       "49     COUNTY  2018       14 - Unknown   89831.148438       Yolo\n",
       "\n",
       "[50 rows x 5 columns]"
      ]
     },
     "execution_count": 31,
     "metadata": {},
     "output_type": "execute_result"
    }
   ],
   "source": [
    "calfire = bpd.read_csv('data/calfire.csv')\n",
    "calfire"
   ]
  },
  {
   "cell_type": "markdown",
   "metadata": {},
   "source": [
    "Modifying the DataFrame will not affect the data on disk in any way."
   ]
  },
  {
   "cell_type": "markdown",
   "metadata": {},
   "source": [
    "```{margin}\n",
    "\n",
    "If you do want to save your changes, you can do so with the `.to_csv` DataFrame method.\n",
    "```"
   ]
  }
 ],
 "metadata": {
  "kernelspec": {
   "display_name": "Python 3",
   "language": "python",
   "name": "python3"
  },
  "language_info": {
   "codemirror_mode": {
    "name": "ipython",
    "version": 3
   },
   "file_extension": ".py",
   "mimetype": "text/x-python",
   "name": "python",
   "nbconvert_exporter": "python",
   "pygments_lexer": "ipython3",
   "version": "3.8.9"
  }
 },
 "nbformat": 4,
 "nbformat_minor": 4
}