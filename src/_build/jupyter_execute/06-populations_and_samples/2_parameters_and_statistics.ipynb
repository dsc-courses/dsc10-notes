{
 "cells": [
  {
   "cell_type": "markdown",
   "metadata": {},
   "source": [
    "# Parameters and statistics"
   ]
  },
  {
   "cell_type": "markdown",
   "metadata": {},
   "source": [
    "In the last section we learned about populations, samples, and their respective distributions. But there's really a *lot* happening in a histogram, and you can't really *tell* someone the exact distribution of a population or sample. In life, people like to summarize complicating things with simple numbers. In your career, you'll be asked to generate metrics -- single numbers which summarize important characteristics of a distribution.\n",
    "\n",
    "The total size, average, minimum, maximum, spread, and so on are all important characteristics of distributions, and each can be expressed with a metric. There are many more metrics that exist, and we can even invent our own!"
   ]
  },
  {
   "cell_type": "markdown",
   "metadata": {},
   "source": [
    "## Population parameter\n",
    "\n",
    "The {dterm}`population parameter` refers to a desired metric of a population, and just like the population distribution a parameter this is usually considered *fixed*.\n",
    "\n",
    "Remember that the *p*opulation has a *p*arameter since they both start with *p*.\n",
    "\n",
    "Using our population of fish weights, we could ask about parameters such as the mean or maximum weight, or about average variability of fish weights. For all of these potential parameters, the population produces a single value."
   ]
  },
  {
   "cell_type": "code",
   "execution_count": 1,
   "metadata": {},
   "outputs": [
    {
     "ename": "ImportError",
     "evalue": "matplotlib is required for plotting when the default backend \"matplotlib\" is selected.",
     "output_type": "error",
     "traceback": [
      "\u001b[0;31m---------------------------------------------------------------------------\u001b[0m",
      "\u001b[0;31mImportError\u001b[0m                               Traceback (most recent call last)",
      "\u001b[0;32m<ipython-input-1-898d9b7b91e0>\u001b[0m in \u001b[0;36m<module>\u001b[0;34m\u001b[0m\n\u001b[1;32m      3\u001b[0m \u001b[0;34m\u001b[0m\u001b[0m\n\u001b[1;32m      4\u001b[0m \u001b[0mpopulation\u001b[0m \u001b[0;34m=\u001b[0m \u001b[0mbpd\u001b[0m\u001b[0;34m.\u001b[0m\u001b[0mread_csv\u001b[0m\u001b[0;34m(\u001b[0m\u001b[0;34m'../../data/fish_kg_cm.csv'\u001b[0m\u001b[0;34m)\u001b[0m\u001b[0;34m\u001b[0m\u001b[0;34m\u001b[0m\u001b[0m\n\u001b[0;32m----> 5\u001b[0;31m \u001b[0mpopulation\u001b[0m\u001b[0;34m.\u001b[0m\u001b[0mplot\u001b[0m\u001b[0;34m(\u001b[0m\u001b[0mkind\u001b[0m\u001b[0;34m=\u001b[0m\u001b[0;34m'hist'\u001b[0m\u001b[0;34m,\u001b[0m \u001b[0my\u001b[0m\u001b[0;34m=\u001b[0m\u001b[0;34m'WEIGHT'\u001b[0m\u001b[0;34m)\u001b[0m\u001b[0;34m\u001b[0m\u001b[0;34m\u001b[0m\u001b[0m\n\u001b[0m",
      "\u001b[0;32m/nix/store/ijja6g7p46mai3bx1pv0kwjkdrncgiwh-python3-3.8.9-env/lib/python3.8/site-packages/babypandas/bpd.py\u001b[0m in \u001b[0;36mplot\u001b[0;34m(self, *args, **kwargs)\u001b[0m\n\u001b[1;32m    755\u001b[0m         \"\"\"\n\u001b[1;32m    756\u001b[0m         \u001b[0mf\u001b[0m \u001b[0;34m=\u001b[0m \u001b[0m_lift_to_pd\u001b[0m\u001b[0;34m(\u001b[0m\u001b[0mself\u001b[0m\u001b[0;34m.\u001b[0m\u001b[0m_pd\u001b[0m\u001b[0;34m.\u001b[0m\u001b[0mplot\u001b[0m\u001b[0;34m)\u001b[0m\u001b[0;34m\u001b[0m\u001b[0;34m\u001b[0m\u001b[0m\n\u001b[0;32m--> 757\u001b[0;31m         \u001b[0;32mreturn\u001b[0m \u001b[0mf\u001b[0m\u001b[0;34m(\u001b[0m\u001b[0;34m*\u001b[0m\u001b[0margs\u001b[0m\u001b[0;34m,\u001b[0m \u001b[0;34m**\u001b[0m\u001b[0mkwargs\u001b[0m\u001b[0;34m)\u001b[0m\u001b[0;34m\u001b[0m\u001b[0;34m\u001b[0m\u001b[0m\n\u001b[0m\u001b[1;32m    758\u001b[0m \u001b[0;34m\u001b[0m\u001b[0m\n\u001b[1;32m    759\u001b[0m     \u001b[0;31m# IO\u001b[0m\u001b[0;34m\u001b[0m\u001b[0;34m\u001b[0m\u001b[0;34m\u001b[0m\u001b[0m\n",
      "\u001b[0;32m/nix/store/ijja6g7p46mai3bx1pv0kwjkdrncgiwh-python3-3.8.9-env/lib/python3.8/site-packages/babypandas/bpd.py\u001b[0m in \u001b[0;36mclosure\u001b[0;34m(*vargs, **kwargs)\u001b[0m\n\u001b[1;32m   1531\u001b[0m                   for (k, x) in kwargs.items()}\n\u001b[1;32m   1532\u001b[0m \u001b[0;34m\u001b[0m\u001b[0m\n\u001b[0;32m-> 1533\u001b[0;31m         \u001b[0ma\u001b[0m \u001b[0;34m=\u001b[0m \u001b[0mfunc\u001b[0m\u001b[0;34m(\u001b[0m\u001b[0;34m*\u001b[0m\u001b[0mvargs\u001b[0m\u001b[0;34m,\u001b[0m \u001b[0;34m**\u001b[0m\u001b[0mkwargs\u001b[0m\u001b[0;34m)\u001b[0m\u001b[0;34m\u001b[0m\u001b[0;34m\u001b[0m\u001b[0m\n\u001b[0m\u001b[1;32m   1534\u001b[0m         \u001b[0;32mif\u001b[0m \u001b[0misinstance\u001b[0m\u001b[0;34m(\u001b[0m\u001b[0ma\u001b[0m\u001b[0;34m,\u001b[0m \u001b[0mpd\u001b[0m\u001b[0;34m.\u001b[0m\u001b[0mDataFrame\u001b[0m\u001b[0;34m)\u001b[0m\u001b[0;34m:\u001b[0m\u001b[0;34m\u001b[0m\u001b[0;34m\u001b[0m\u001b[0m\n\u001b[1;32m   1535\u001b[0m             \u001b[0;32mreturn\u001b[0m \u001b[0mDataFrame\u001b[0m\u001b[0;34m(\u001b[0m\u001b[0mdata\u001b[0m\u001b[0;34m=\u001b[0m\u001b[0ma\u001b[0m\u001b[0;34m)\u001b[0m\u001b[0;34m\u001b[0m\u001b[0;34m\u001b[0m\u001b[0m\n",
      "\u001b[0;32m/nix/store/ijja6g7p46mai3bx1pv0kwjkdrncgiwh-python3-3.8.9-env/lib/python3.8/site-packages/pandas/plotting/_core.py\u001b[0m in \u001b[0;36m__call__\u001b[0;34m(self, *args, **kwargs)\u001b[0m\n\u001b[1;32m    873\u001b[0m \u001b[0;34m\u001b[0m\u001b[0m\n\u001b[1;32m    874\u001b[0m     \u001b[0;32mdef\u001b[0m \u001b[0m__call__\u001b[0m\u001b[0;34m(\u001b[0m\u001b[0mself\u001b[0m\u001b[0;34m,\u001b[0m \u001b[0;34m*\u001b[0m\u001b[0margs\u001b[0m\u001b[0;34m,\u001b[0m \u001b[0;34m**\u001b[0m\u001b[0mkwargs\u001b[0m\u001b[0;34m)\u001b[0m\u001b[0;34m:\u001b[0m\u001b[0;34m\u001b[0m\u001b[0;34m\u001b[0m\u001b[0m\n\u001b[0;32m--> 875\u001b[0;31m         \u001b[0mplot_backend\u001b[0m \u001b[0;34m=\u001b[0m \u001b[0m_get_plot_backend\u001b[0m\u001b[0;34m(\u001b[0m\u001b[0mkwargs\u001b[0m\u001b[0;34m.\u001b[0m\u001b[0mpop\u001b[0m\u001b[0;34m(\u001b[0m\u001b[0;34m\"backend\"\u001b[0m\u001b[0;34m,\u001b[0m \u001b[0;32mNone\u001b[0m\u001b[0;34m)\u001b[0m\u001b[0;34m)\u001b[0m\u001b[0;34m\u001b[0m\u001b[0;34m\u001b[0m\u001b[0m\n\u001b[0m\u001b[1;32m    876\u001b[0m \u001b[0;34m\u001b[0m\u001b[0m\n\u001b[1;32m    877\u001b[0m         x, y, kind, kwargs = self._get_call_args(\n",
      "\u001b[0;32m/nix/store/ijja6g7p46mai3bx1pv0kwjkdrncgiwh-python3-3.8.9-env/lib/python3.8/site-packages/pandas/plotting/_core.py\u001b[0m in \u001b[0;36m_get_plot_backend\u001b[0;34m(backend)\u001b[0m\n\u001b[1;32m   1784\u001b[0m             \u001b[0;32mimport\u001b[0m \u001b[0mpandas\u001b[0m\u001b[0;34m.\u001b[0m\u001b[0mplotting\u001b[0m\u001b[0;34m.\u001b[0m\u001b[0m_matplotlib\u001b[0m \u001b[0;32mas\u001b[0m \u001b[0mmodule\u001b[0m\u001b[0;34m\u001b[0m\u001b[0;34m\u001b[0m\u001b[0m\n\u001b[1;32m   1785\u001b[0m         \u001b[0;32mexcept\u001b[0m \u001b[0mImportError\u001b[0m\u001b[0;34m:\u001b[0m\u001b[0;34m\u001b[0m\u001b[0;34m\u001b[0m\u001b[0m\n\u001b[0;32m-> 1786\u001b[0;31m             raise ImportError(\n\u001b[0m\u001b[1;32m   1787\u001b[0m                 \u001b[0;34m\"matplotlib is required for plotting when the \"\u001b[0m\u001b[0;34m\u001b[0m\u001b[0;34m\u001b[0m\u001b[0m\n\u001b[1;32m   1788\u001b[0m                 \u001b[0;34m'default backend \"matplotlib\" is selected.'\u001b[0m\u001b[0;34m\u001b[0m\u001b[0;34m\u001b[0m\u001b[0m\n",
      "\u001b[0;31mImportError\u001b[0m: matplotlib is required for plotting when the default backend \"matplotlib\" is selected."
     ]
    }
   ],
   "source": [
    "import babypandas as bpd\n",
    "import numpy as np\n",
    "\n",
    "population = bpd.read_csv('../../data/fish_kg_cm.csv')\n",
    "population.plot(kind='hist', y='WEIGHT')"
   ]
  },
  {
   "cell_type": "code",
   "execution_count": null,
   "metadata": {},
   "outputs": [],
   "source": [
    "print('Population Mean:    ', population.get('WEIGHT').mean())\n",
    "print('Population Max:     ', population.get('WEIGHT').max())\n",
    "print('Population Variance:', np.var(population.get('WEIGHT')))"
   ]
  },
  {
   "cell_type": "markdown",
   "metadata": {},
   "source": [
    "If we're feeling zany (or have a specific purpose in mind, like checking the well-being of our fish), we can even define our own metric of interest. Maybe we're interested in just the proportion of fish below a certain weight. That's certainly a metric, too!"
   ]
  },
  {
   "cell_type": "code",
   "execution_count": null,
   "metadata": {},
   "outputs": [],
   "source": [
    "print(\n",
    "    'Population Proportion of small fry:', (population.get('WEIGHT') < 1).mean()\n",
    ")"
   ]
  },
  {
   "cell_type": "markdown",
   "metadata": {},
   "source": [
    "But, we've already realized that we can't expect to measure entire populations in the real world, so we'll need work with samples instead."
   ]
  },
  {
   "cell_type": "markdown",
   "metadata": {},
   "source": [
    "## Sample statistic\n",
    "\n",
    "When the metric used to calculate a population parameter is used on a sample, we call it the {dterm}`sample statistic`. Just like sample distributions, a sample statistic is subject to random chance depending on what group of individuals we sample!\n",
    "\n",
    "Remember that the *s*ample produces a *s*tatistic since they both start with *s*.\n",
    "\n",
    "Just like parameters, we could calculate statistics such as the mean, max, or variance, and we'll receive a single value. But, we should expect these values to differ each time we conduct a new sample -- even when the sample remains the same size."
   ]
  },
  {
   "cell_type": "code",
   "execution_count": null,
   "metadata": {},
   "outputs": [],
   "source": [
    "sample = population.sample(100)\n",
    "\n",
    "print('Sample Mean:    ', sample.get('WEIGHT').mean())\n",
    "print('Sample Max:     ', sample.get('WEIGHT').max())\n",
    "print('Sample Variance:', np.var(sample.get('WEIGHT')))\n",
    "print('Sample Prop of small fry:', (sample.get('WEIGHT') < 1).mean())"
   ]
  },
  {
   "cell_type": "markdown",
   "metadata": {},
   "source": [
    "Ideally, we'd like to be able to use a sample statistic to provide us with an educated guess for the true population parameter. Unfortunately, it seems like the sample statistic doesn't seem to always match the parameter..."
   ]
  },
  {
   "cell_type": "code",
   "execution_count": null,
   "metadata": {},
   "outputs": [],
   "source": [
    "pop_mean = population.get('WEIGHT').mean().round(2)\n",
    "pop_max  = population.get('WEIGHT').max().round(2)\n",
    "pop_var  = np.var(population.get('WEIGHT')).round(2)\n",
    "pop_prop_small = (population.get('WEIGHT') < 1).mean().round(2)\n",
    "\n",
    "# Collect a handful of samples keep track of various sample statistics for each\n",
    "\n",
    "sample_means = []\n",
    "sample_maxes = []\n",
    "sample_vars  = []\n",
    "sample_prop_smalls = []\n",
    "\n",
    "for i in range(5):\n",
    "    \n",
    "    sample = population.sample(100)\n",
    "    sample_weights = sample.get('WEIGHT')\n",
    "    \n",
    "    sample_means.append(sample_weights.mean().round(2))\n",
    "    sample_maxes.append(sample_weights.max().round(2))\n",
    "    sample_vars.append(np.var(sample_weights).round(2))\n",
    "    sample_prop_smalls.append((sample_weights < 1).mean().round(2))\n",
    "    \n",
    "print('Pop Mean:         ', pop_mean)\n",
    "print('Sample Means:     ', sample_means)\n",
    "print('Pop Max:          ', pop_max)\n",
    "print('Sample Maxes:     ', sample_maxes)\n",
    "print('Pop Variance:     ', pop_var)\n",
    "print('Sample Variances :', sample_vars)\n",
    "print('Pop Prop small   :', pop_prop_small)\n",
    "print('Sample Prop small:', sample_prop_smalls)"
   ]
  },
  {
   "cell_type": "markdown",
   "metadata": {},
   "source": [
    "Based on what we've seen so far, it seems unlikely that a metric like the sample max will be the same as the population max, but something like the sample mean does appear consistently close to the population mean.\n",
    "\n",
    "How close is our statistic to the parameter, really? How consistent is it? With what probability will the statistic equal the population parameter (within some margin-of-error, like +/- 1 gram)?\n",
    "\n",
    "With an understanding of formal mathematics and probability theory we can answer these questions! In the mean time, we can use the some approach from our introduction to probabilities: just run a simulation!"
   ]
  },
  {
   "cell_type": "markdown",
   "metadata": {},
   "source": [
    "## Sampling distribution\n",
    "\n",
    "Using the same general steps for simulation as we learned before, we can run an experiment to select a random sample of n=100 from the population and see what the resulting sample statistic is."
   ]
  },
  {
   "cell_type": "code",
   "execution_count": null,
   "metadata": {},
   "outputs": [],
   "source": [
    "# Write the code for a single trial\n",
    "def sample_mean(n):\n",
    "    return population.sample(n).get('WEIGHT').mean()\n",
    "\n",
    "sample_mean(100)"
   ]
  },
  {
   "cell_type": "code",
   "execution_count": null,
   "metadata": {},
   "outputs": [],
   "source": [
    "# Call the trial function a lot of times and keep track of the results\n",
    "sample_means = []\n",
    "\n",
    "for i in range(5000):\n",
    "    sample_means.append(sample_mean(100))"
   ]
  },
  {
   "cell_type": "markdown",
   "metadata": {},
   "source": [
    "We can now calculate a specific experimental probability, like the probability that the sample mean is within ±0.01 of the population mean. Or, better yet, we can enable ourselves to answer lots of questions about the sample statistic by plotting the *sampling distribution*.\n",
    "\n",
    "The {dterm}`sampling distribution` is the distribution of all possible sample statistics with a fixed population and metric, and given sample size. For example, as a result of the experiment above we can plot the sampling distribution of mean fish weights at the London Zoo when the sample size is 100.\n",
    "\n",
    "Because we're running an experiment instead of calculating the theoretical probabilities, this distribution is considered *empirical*. On top of this histogram we can overlay a line at the true population parameter to see how close we got."
   ]
  },
  {
   "cell_type": "code",
   "execution_count": null,
   "metadata": {},
   "outputs": [],
   "source": [
    "sample_means_series = bpd.Series(data=sample_means)\n",
    "ax = sample_means_series.plot(kind='hist', density=True,\n",
    "                         title=\"Empirical sampling distribution of mean fish weight, n=100\")\n",
    "# Add a vertical line at the population mean, with a red color\n",
    "ax.axvline(x=population.get('WEIGHT').mean(), c='r')"
   ]
  },
  {
   "cell_type": "markdown",
   "metadata": {},
   "source": [
    "Based on this sampling distribution, we've empirically shown that the sample mean seems to be centered around the population mean. So, on average our sample mean should be pretty close to the true population mean.\n",
    "\n",
    "We can find sampling distributions for any and every possible metric we want by using this simulation approach! Remember that the sampling distribution depends strongly on the sample size, however. For example, let's look at the sampling distribution in regards to maximum weight."
   ]
  },
  {
   "cell_type": "code",
   "execution_count": null,
   "metadata": {},
   "outputs": [],
   "source": [
    "def sample_max(n):\n",
    "    return population.sample(n).get('WEIGHT').max()\n",
    "\n",
    "def sample_max_distribution(sample_size, ax=None):\n",
    "    \n",
    "    sample_maxes = []\n",
    "    \n",
    "    for i in range(1000):\n",
    "        sample_maxes.append(sample_max(sample_size))\n",
    "        \n",
    "    sample_maxes_series = bpd.Series(data=sample_maxes)\n",
    "    \n",
    "    ax = sample_maxes_series.plot(kind='hist', density=True, ax=ax)\n",
    "    ax.axvline(x=population.get('WEIGHT').max(), c='r')\n",
    "    \n",
    "    return ax"
   ]
  },
  {
   "cell_type": "markdown",
   "metadata": {},
   "source": [
    "```{note}\n",
    "It's worth mentioning that the number of trials of our experiment (in this case 1000) won't affect the overall shape of the resulting sampling distribution -- only the granularity of it. Too small and we'll start losing detail, but any relatively large number of trials is okay.\n",
    "\n",
    "Sample size, however, has a profound effect on the sampling distribution!\n",
    "```"
   ]
  },
  {
   "cell_type": "code",
   "execution_count": null,
   "metadata": {},
   "outputs": [],
   "source": [
    "sample_max_distribution(500)"
   ]
  },
  {
   "cell_type": "markdown",
   "metadata": {},
   "source": [
    "```{hiddenanswer}\n",
    "---\n",
    "question: Want to convince yourself that the number of trials really doesn't change our sampling distribution? See if you can modify the function above to add a `number_of_trials` argument and check it over a handful of values!\n",
    "answer: (No answer, try it in a notebook!)\n",
    "```"
   ]
  },
  {
   "cell_type": "markdown",
   "metadata": {},
   "source": [
    "It so happens that the sample size *does* have a pretty profound effect on most sampling distributions. Let's see what happens when we increase the sample size."
   ]
  },
  {
   "cell_type": "code",
   "execution_count": null,
   "metadata": {},
   "outputs": [],
   "source": [
    "# You don't need to understand this plotting code, but congrats if you do :)\n",
    "import matplotlib.pyplot as plt\n",
    "\n",
    "def plot_three_sampling_distributions(sample_sizes):\n",
    "    \"\"\"\n",
    "    Simulates the sampling distribution of sample max for three different sample\n",
    "    sizes, then plots them side-by-side.\n",
    "    \"\"\"\n",
    "\n",
    "    # Create a figure to hold three charts on the same row\n",
    "    fig, axes = plt.subplots(1, 3, sharey=True,\n",
    "                             constrained_layout=True, figsize=(10, 3))\n",
    "    fig.suptitle('Sample Distributions of Max Weight')\n",
    "\n",
    "    # Simulate the sampling distribution for each sample size\n",
    "    for i in range(len(sample_sizes)):\n",
    "        \n",
    "        sample_max_distribution(sample_sizes[i], ax=axes[i])\n",
    "        axes[i].set_title('n='+str(sample_sizes[i]))"
   ]
  },
  {
   "cell_type": "code",
   "execution_count": null,
   "metadata": {},
   "outputs": [],
   "source": [
    "plot_three_sampling_distributions([50, 150, 300])"
   ]
  },
  {
   "cell_type": "markdown",
   "metadata": {},
   "source": [
    "As sample size increases, the sampling distribution changes significantly -- this is the case for practically any metric we choose to study. Once again, with a larger sample size, our result is better (in this case, more consistent)."
   ]
  }
 ],
 "metadata": {
  "kernelspec": {
   "display_name": "Python 3",
   "language": "python",
   "name": "python3"
  },
  "language_info": {
   "codemirror_mode": {
    "name": "ipython",
    "version": 3
   },
   "file_extension": ".py",
   "mimetype": "text/x-python",
   "name": "python",
   "nbconvert_exporter": "python",
   "pygments_lexer": "ipython3",
   "version": "3.8.9"
  }
 },
 "nbformat": 4,
 "nbformat_minor": 4
}