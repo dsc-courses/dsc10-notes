{
 "cells": [
  {
   "cell_type": "markdown",
   "id": "43ae37ab",
   "metadata": {},
   "source": [
    "# Defining Functions"
   ]
  },
  {
   "cell_type": "markdown",
   "id": "acf6ac70",
   "metadata": {},
   "source": [
    "We have seen that Python comes with a bunch of useful functions for performing common tasks. For instance, the built-in `round` function rounds a number to a specified number of decimal places."
   ]
  },
  {
   "cell_type": "code",
   "execution_count": 1,
   "id": "bd6eef12",
   "metadata": {},
   "outputs": [
    {
     "data": {
      "text/plain": [
       "3.14"
      ]
     },
     "execution_count": 1,
     "metadata": {},
     "output_type": "execute_result"
    }
   ],
   "source": [
    "round(3.1415, 2)"
   ]
  },
  {
   "cell_type": "markdown",
   "id": "ca75378e",
   "metadata": {},
   "source": [
    "We have also seen that we can access even more functions by installing and importing a library.\n",
    "\n",
    "In some cases, however, there might not be a library providing the function that you need. Luckily, Python allows us to define our own functions. In this section, we'll see how to create functions and apply them to tables."
   ]
  },
  {
   "cell_type": "markdown",
   "id": "66c019dc",
   "metadata": {},
   "source": [
    "## Example"
   ]
  },
  {
   "cell_type": "markdown",
   "id": "dfe8935a",
   "metadata": {},
   "source": [
    "Suppose you are working with a dataset containing a bunch of street addresses, such as the following address of the University of California, San Diego:"
   ]
  },
  {
   "cell_type": "code",
   "execution_count": 2,
   "id": "bf4b70e2",
   "metadata": {},
   "outputs": [],
   "source": [
    "ucsd = '9500 Gilman Dr, La Jolla, CA 92093'"
   ]
  },
  {
   "cell_type": "markdown",
   "id": "7d75a868",
   "metadata": {},
   "source": [
    "Suppose we only care about the city and state. That is, we'd like to extract the string `'La Jolla, CA'` from the full address. Python doesn't come with a function that does exactly this, but we can write our own without too much work.\n",
    "\n",
    "### Splitting Strings\n",
    "\n",
    "A typical address has several parts: the street address, the city name, the state, and the zip code. The parts are separated by commas (with the exception of the state and zip code). Python strings have a helpful `.split` method which will split a string into parts according to whatever delimiter we provide. To split by a comma, we write:"
   ]
  },
  {
   "cell_type": "code",
   "execution_count": 3,
   "id": "e2b458e5",
   "metadata": {},
   "outputs": [
    {
     "data": {
      "text/plain": [
       "['9500 Gilman Dr', ' La Jolla', ' CA 92093']"
      ]
     },
     "execution_count": 3,
     "metadata": {},
     "output_type": "execute_result"
    }
   ],
   "source": [
    "ucsd.split(',')"
   ]
  },
  {
   "cell_type": "markdown",
   "id": "5c999a09",
   "metadata": {},
   "source": [
    "The result is a list of strings, each of them a part of the original list.\n",
    "\n",
    "If we do not provide a delimiter, the default behavior of `.split` is to split based on whitespace (such as spaces):"
   ]
  },
  {
   "cell_type": "code",
   "execution_count": 4,
   "id": "93e8e0db",
   "metadata": {},
   "outputs": [
    {
     "data": {
      "text/plain": [
       "['9500', 'Gilman', 'Dr,', 'La', 'Jolla,', 'CA', '92093']"
      ]
     },
     "execution_count": 4,
     "metadata": {},
     "output_type": "execute_result"
    }
   ],
   "source": [
    "ucsd.split()"
   ]
  },
  {
   "cell_type": "markdown",
   "id": "e36ecd46",
   "metadata": {},
   "source": [
    "We can use `.split` to retrieve the city and state name. Notice that when we split by commas, the city name will always be the second-to-last entry of the resulting list. This is because the last comma separates the city from the state and zip code. Remember that we can retrieve the second-to-last element of a list using square bracket notation, combined with using `-2` as the index:"
   ]
  },
  {
   "cell_type": "code",
   "execution_count": 5,
   "id": "3048bbdc",
   "metadata": {},
   "outputs": [
    {
     "data": {
      "text/plain": [
       "' La Jolla'"
      ]
     },
     "execution_count": 5,
     "metadata": {},
     "output_type": "execute_result"
    }
   ],
   "source": [
    "city = ucsd.split(',')[-2]\n",
    "city"
   ]
  },
  {
   "cell_type": "markdown",
   "id": "c81b8de9",
   "metadata": {},
   "source": [
    "The result has a leading space that we might want to get rid of -- we'll deal with that in a moment. For now, let's retrieve the state name. To do this, it might be easiest to split based on whitespace -- then the state abbreviation will again be the second-to-last element of the list:"
   ]
  },
  {
   "cell_type": "code",
   "execution_count": 6,
   "id": "815a2d65",
   "metadata": {},
   "outputs": [
    {
     "data": {
      "text/plain": [
       "'CA'"
      ]
     },
     "execution_count": 6,
     "metadata": {},
     "output_type": "execute_result"
    }
   ],
   "source": [
    "state = ucsd.split()[-2]\n",
    "state"
   ]
  },
  {
   "cell_type": "markdown",
   "id": "64f56183",
   "metadata": {},
   "source": [
    "We'd like to put the city and state together into a single string, like `'La Jolla, CA'`. To do so, remember that the `+` operator *concatenates* strings:"
   ]
  },
  {
   "cell_type": "code",
   "execution_count": 7,
   "id": "46179ad3",
   "metadata": {},
   "outputs": [
    {
     "data": {
      "text/plain": [
       "' La Jolla, CA'"
      ]
     },
     "execution_count": 7,
     "metadata": {},
     "output_type": "execute_result"
    }
   ],
   "source": [
    "city_and_state = city + ', ' + state\n",
    "city_and_state"
   ]
  },
  {
   "cell_type": "markdown",
   "id": "08579b42",
   "metadata": {},
   "source": [
    "This is almost perfect, but let's get rid of the leading space. We can do this with the `.strip()` string method, which removes leading and trailing whitespace."
   ]
  },
  {
   "cell_type": "code",
   "execution_count": 8,
   "id": "561c3e2f",
   "metadata": {},
   "outputs": [
    {
     "data": {
      "text/plain": [
       "'La Jolla, CA'"
      ]
     },
     "execution_count": 8,
     "metadata": {},
     "output_type": "execute_result"
    }
   ],
   "source": [
    "city_and_state.strip()"
   ]
  },
  {
   "cell_type": "markdown",
   "id": "6b1d98e3",
   "metadata": {},
   "source": [
    "Great! Putting it all together, here's the code we used to retrieve the city and state:"
   ]
  },
  {
   "cell_type": "code",
   "execution_count": 9,
   "id": "3e167558",
   "metadata": {},
   "outputs": [
    {
     "data": {
      "text/plain": [
       "'La Jolla, CA'"
      ]
     },
     "execution_count": 9,
     "metadata": {},
     "output_type": "execute_result"
    }
   ],
   "source": [
    "city = ucsd.split(',')[-2]\n",
    "state = ucsd.split()[-2]\n",
    "city_and_state = city + ', ' + state\n",
    "city_and_state.strip()"
   ]
  },
  {
   "cell_type": "markdown",
   "id": "bd4e6da8",
   "metadata": {},
   "source": [
    "This code might seem simple enough, but suppose we have another address that we'd like to process:"
   ]
  },
  {
   "cell_type": "code",
   "execution_count": 10,
   "id": "5d3fcb08",
   "metadata": {},
   "outputs": [],
   "source": [
    "lego = 'LEGOLAND California Resort 1 Legoland Dr, Carlsbad, CA 92008'"
   ]
  },
  {
   "cell_type": "markdown",
   "id": "b2fd1e77",
   "metadata": {},
   "source": [
    "We *could* copy and paste the code above, but there is a better way: let's define a function."
   ]
  },
  {
   "cell_type": "markdown",
   "id": "e3957501",
   "metadata": {},
   "source": [
    "### The `def` statement\n",
    "\n",
    "In Python, new functions are created using the `def` statement. Here is an example of a function which retrieves the city and state name from an address:"
   ]
  },
  {
   "cell_type": "code",
   "execution_count": 11,
   "id": "51e77e6d",
   "metadata": {},
   "outputs": [],
   "source": [
    "def city_comma_state(address):\n",
    "    \"\"\"Return CITY, ST from an address string.\"\"\"\n",
    "    city = address.split(',')[-2]\n",
    "    state = address.split()[-2]\n",
    "    city_and_state = city + ', ' + state\n",
    "    return city_and_state.strip()"
   ]
  },
  {
   "cell_type": "markdown",
   "id": "0b0474c7",
   "metadata": {},
   "source": [
    "There is a lot to say about this, but first let's test the function to see if it works. We call user-defined functions just like any other function:"
   ]
  },
  {
   "cell_type": "code",
   "execution_count": 12,
   "id": "83c78284",
   "metadata": {},
   "outputs": [
    {
     "data": {
      "text/plain": [
       "'La Jolla, CA'"
      ]
     },
     "execution_count": 12,
     "metadata": {},
     "output_type": "execute_result"
    }
   ],
   "source": [
    "city_comma_state('9500 Gilman Dr, La Jolla, CA 92093')"
   ]
  },
  {
   "cell_type": "code",
   "execution_count": 13,
   "id": "3fdb4d74",
   "metadata": {},
   "outputs": [
    {
     "data": {
      "text/plain": [
       "'La Jolla, CA'"
      ]
     },
     "execution_count": 13,
     "metadata": {},
     "output_type": "execute_result"
    }
   ],
   "source": [
    "city_comma_state(ucsd)"
   ]
  },
  {
   "cell_type": "code",
   "execution_count": 14,
   "id": "a74782d1",
   "metadata": {},
   "outputs": [
    {
     "data": {
      "text/plain": [
       "'Carlsbad, CA'"
      ]
     },
     "execution_count": 14,
     "metadata": {},
     "output_type": "execute_result"
    }
   ],
   "source": [
    "city_comma_state(lego)"
   ]
  },
  {
   "cell_type": "markdown",
   "id": "d45f6bb9",
   "metadata": {},
   "source": [
    "Let's take a closer look at the anatomy of a function definition. {numref}`function` below shows all of the different parts."
   ]
  },
  {
   "cell_type": "markdown",
   "id": "5cd887b1",
   "metadata": {},
   "source": [
    "```{figure} ../images/function.svg\n",
    "---\n",
    "width: 80%\n",
    "name: function\n",
    "---\n",
    "The anatomy of a function.\n",
    "```"
   ]
  },
  {
   "cell_type": "markdown",
   "id": "830f56a1",
   "metadata": {},
   "source": [
    "#### Name\n",
    "\n",
    "A function definition starts with a name. Above, we've named our function `city_comma_state`, but any valid variable name would do. A function's name should be short but descriptive.\n",
    "\n",
    "#### Arguments\n",
    "\n",
    "Next come the function's arguments. These are the \"inputs\" to the function. In this case, there is only one argument: the address that will be processed. We'll see how to define functions with more than one argument in a moment. A function can also have zero arguments, in which case we would write `def function_with_no_args():`. The arguments can be named anything, as long as they are valid variable names. The arguments are surrounded by parentheses, and separated by commas.\n",
    "\n",
    "#### Body\n",
    "\n",
    "The body of the function contains the code that will be executed when the function is called. The arguments can be used within the body of the function. The body of the function must be indented -- we usually do this with the tab key.\n",
    "\n",
    "#### Docstring\n",
    "\n",
    "The docstring is a piece of documentation that tells the reader what the function does. Including it is optional but recommended. If you ask Python for information on your function using `help`, the docstring will be displayed!"
   ]
  },
  {
   "cell_type": "code",
   "execution_count": 15,
   "id": "0715f2fb",
   "metadata": {},
   "outputs": [
    {
     "name": "stdout",
     "output_type": "stream",
     "text": [
      "Help on function city_comma_state in module __main__:\n",
      "\n",
      "city_comma_state(address)\n",
      "    Return CITY, ST from an address string.\n",
      "\n"
     ]
    }
   ],
   "source": [
    "help(city_comma_state)"
   ]
  },
  {
   "cell_type": "markdown",
   "id": "fc467842",
   "metadata": {},
   "source": [
    "#### Return\n",
    "\n",
    "A function should usually return some value -- this is done using the `return` statement, followed by an expression whose value will be returned."
   ]
  },
  {
   "cell_type": "markdown",
   "id": "bf9bff53",
   "metadata": {},
   "source": [
    "### Function Behavior\n",
    "\n",
    "The code we include in a function behaves differently than the code we are used to writing in a couple of key ways."
   ]
  },
  {
   "cell_type": "markdown",
   "id": "38caf8c1",
   "metadata": {},
   "source": [
    "#### Functions are \"recipes\"\n",
    "\n",
    "The code inside of a function is not executed until we call the function. For instance, suppose we try to do something impossible inside of a function -- like dividing by zero:"
   ]
  },
  {
   "cell_type": "code",
   "execution_count": 16,
   "id": "f7c62ec0",
   "metadata": {},
   "outputs": [],
   "source": [
    "def foo():\n",
    "    x = 1/0\n",
    "    return x"
   ]
  },
  {
   "cell_type": "markdown",
   "id": "7e504dc1",
   "metadata": {},
   "source": [
    "If you run the cell defining this function, everything will be fine: you won't see an error. But when you *call* the function, Python let's you know that you're doing something that is mathematically impossible:"
   ]
  },
  {
   "cell_type": "code",
   "execution_count": 17,
   "id": "59967efa",
   "metadata": {
    "tags": [
     "raises-exception"
    ]
   },
   "outputs": [
    {
     "ename": "ZeroDivisionError",
     "evalue": "division by zero",
     "output_type": "error",
     "traceback": [
      "\u001b[0;31m---------------------------------------------------------------------------\u001b[0m",
      "\u001b[0;31mZeroDivisionError\u001b[0m                         Traceback (most recent call last)",
      "Cell \u001b[0;32mIn [17], line 1\u001b[0m\n\u001b[0;32m----> 1\u001b[0m \u001b[43mfoo\u001b[49m\u001b[43m(\u001b[49m\u001b[43m)\u001b[49m\n",
      "Cell \u001b[0;32mIn [16], line 2\u001b[0m, in \u001b[0;36mfoo\u001b[0;34m()\u001b[0m\n\u001b[1;32m      1\u001b[0m \u001b[38;5;28;01mdef\u001b[39;00m \u001b[38;5;21mfoo\u001b[39m():\n\u001b[0;32m----> 2\u001b[0m     x \u001b[38;5;241m=\u001b[39m \u001b[38;5;241;43m1\u001b[39;49m\u001b[38;5;241;43m/\u001b[39;49m\u001b[38;5;241;43m0\u001b[39;49m\n\u001b[1;32m      3\u001b[0m     \u001b[38;5;28;01mreturn\u001b[39;00m x\n",
      "\u001b[0;31mZeroDivisionError\u001b[0m: division by zero"
     ]
    }
   ],
   "source": [
    "foo()"
   ]
  },
  {
   "cell_type": "markdown",
   "id": "b373c3d8",
   "metadata": {},
   "source": [
    "This is because function definition are like recipes in the sense that handing someone a recipe is not the same as following the recipe and preparing the meal."
   ]
  },
  {
   "cell_type": "markdown",
   "id": "6d914c3e",
   "metadata": {},
   "source": [
    "#### Scope\n",
    "\n",
    "Variables defined within a function are available only inside of the function. We can define variables inside a function just as we normally would:"
   ]
  },
  {
   "cell_type": "code",
   "execution_count": 18,
   "id": "01a662ea",
   "metadata": {},
   "outputs": [],
   "source": [
    "def foo():\n",
    "    x = 42\n",
    "    y = 5\n",
    "    return x + y"
   ]
  },
  {
   "cell_type": "markdown",
   "id": "34ffc06f",
   "metadata": {},
   "source": [
    "If we run the function, we'll see the number `47` displayed:"
   ]
  },
  {
   "cell_type": "code",
   "execution_count": 19,
   "id": "51e86e00",
   "metadata": {},
   "outputs": [
    {
     "data": {
      "text/plain": [
       "47"
      ]
     },
     "execution_count": 19,
     "metadata": {},
     "output_type": "execute_result"
    }
   ],
   "source": [
    "foo()"
   ]
  },
  {
   "cell_type": "markdown",
   "id": "9ac4e877",
   "metadata": {},
   "source": [
    "However, if we try to use the variable `x`, Python will yell at us:"
   ]
  },
  {
   "cell_type": "code",
   "execution_count": 20,
   "id": "b613e840",
   "metadata": {
    "tags": [
     "raises-exception"
    ]
   },
   "outputs": [
    {
     "ename": "NameError",
     "evalue": "name 'x' is not defined",
     "output_type": "error",
     "traceback": [
      "\u001b[0;31m---------------------------------------------------------------------------\u001b[0m",
      "\u001b[0;31mNameError\u001b[0m                                 Traceback (most recent call last)",
      "Cell \u001b[0;32mIn [20], line 1\u001b[0m\n\u001b[0;32m----> 1\u001b[0m \u001b[43mx\u001b[49m\n",
      "\u001b[0;31mNameError\u001b[0m: name 'x' is not defined"
     ]
    }
   ],
   "source": [
    "x"
   ]
  },
  {
   "cell_type": "markdown",
   "id": "646cc97f",
   "metadata": {},
   "source": [
    "This is because variables defined within a function are accessible only within the function. If we want to use that variable outside of the function, we need to pass it back to the caller using a `return` statement."
   ]
  },
  {
   "cell_type": "markdown",
   "id": "41ccce69",
   "metadata": {},
   "source": [
    "```{margin}\n",
    "\n",
    "It is a very good thing that the variables defined inside of a function do not exist outside of a function. For one, good programming practice stresses **encapsulation** -- that is, to keep things simple, we shouldn't need to know exactly what is going on inside of a function to be able to use it. Second, if every variable used inside of a function were available outside of the function, things would get messy very fast. Having a bunch of extra variables -- most of which you'll never use -- is called **namespace pollution**. \n",
    "\n",
    "```"
   ]
  },
  {
   "cell_type": "markdown",
   "id": "ebaeb968",
   "metadata": {},
   "source": [
    "Note that arguments count as \"variables defined within a function\". For instance:"
   ]
  },
  {
   "cell_type": "code",
   "execution_count": 21,
   "id": "2cd826d6",
   "metadata": {},
   "outputs": [],
   "source": [
    "def foo(my_argument):\n",
    "    return my_argument + 2"
   ]
  },
  {
   "cell_type": "markdown",
   "id": "377636af",
   "metadata": {},
   "source": [
    "If we call the function, everything will act as expected:"
   ]
  },
  {
   "cell_type": "code",
   "execution_count": 22,
   "id": "ef1713e6",
   "metadata": {},
   "outputs": [
    {
     "data": {
      "text/plain": [
       "44"
      ]
     },
     "execution_count": 22,
     "metadata": {},
     "output_type": "execute_result"
    }
   ],
   "source": [
    "foo(42)"
   ]
  },
  {
   "cell_type": "markdown",
   "id": "4128fe31",
   "metadata": {},
   "source": [
    "But if we try to access `my_argument` outside of the function, Python tells us that we can't:"
   ]
  },
  {
   "cell_type": "code",
   "execution_count": 23,
   "id": "90f40371",
   "metadata": {
    "tags": [
     "raises-exception"
    ]
   },
   "outputs": [
    {
     "ename": "NameError",
     "evalue": "name 'my_argument' is not defined",
     "output_type": "error",
     "traceback": [
      "\u001b[0;31m---------------------------------------------------------------------------\u001b[0m",
      "\u001b[0;31mNameError\u001b[0m                                 Traceback (most recent call last)",
      "Cell \u001b[0;32mIn [23], line 1\u001b[0m\n\u001b[0;32m----> 1\u001b[0m \u001b[43mmy_argument\u001b[49m\n",
      "\u001b[0;31mNameError\u001b[0m: name 'my_argument' is not defined"
     ]
    }
   ],
   "source": [
    "my_argument"
   ]
  },
  {
   "cell_type": "markdown",
   "id": "04ef6028",
   "metadata": {},
   "source": [
    "On the other hand, variables defined outside of a function are available inside the function. Consider for instance:"
   ]
  },
  {
   "cell_type": "code",
   "execution_count": 24,
   "id": "afcc9c98",
   "metadata": {},
   "outputs": [],
   "source": [
    "x = 42\n",
    "def foo():\n",
    "    return x + 10"
   ]
  },
  {
   "cell_type": "code",
   "execution_count": 25,
   "id": "b5cda035",
   "metadata": {},
   "outputs": [
    {
     "data": {
      "text/plain": [
       "52"
      ]
     },
     "execution_count": 25,
     "metadata": {},
     "output_type": "execute_result"
    }
   ],
   "source": [
    "foo()"
   ]
  },
  {
   "cell_type": "markdown",
   "id": "cc5b8298",
   "metadata": {},
   "source": [
    "Use this behavior sparingly -- it is usually better to \"isolate\" a function from the outside world by passing in all of the variables that it needs."
   ]
  },
  {
   "cell_type": "markdown",
   "id": "1c5edcf0",
   "metadata": {},
   "source": [
    "#### `return` exits the function\n",
    "\n",
    "As soon as Python encounters a `return` statement, it stops executing the function and returns the corresponding value. As an example, consider the code below which has three `return`s. Only the first return statement will ever run:"
   ]
  },
  {
   "cell_type": "code",
   "execution_count": 26,
   "id": "b4b2be3f",
   "metadata": {},
   "outputs": [],
   "source": [
    "def foo():\n",
    "    print('Starting execution.')\n",
    "    return 1\n",
    "    print('Hey, I made it!')\n",
    "    return 2\n",
    "    print('On to number three...')\n",
    "    return 3"
   ]
  },
  {
   "cell_type": "code",
   "execution_count": 27,
   "id": "19e7760f",
   "metadata": {},
   "outputs": [
    {
     "name": "stdout",
     "output_type": "stream",
     "text": [
      "Starting execution.\n"
     ]
    },
    {
     "data": {
      "text/plain": [
       "1"
      ]
     },
     "execution_count": 27,
     "metadata": {},
     "output_type": "execute_result"
    }
   ],
   "source": [
    "foo()"
   ]
  },
  {
   "cell_type": "markdown",
   "id": "64031dbf",
   "metadata": {},
   "source": [
    "#### `print`ing versus `return`ing\n",
    "\n",
    "As we saw above, functions are somewhat isolated from the rest of the world in the sense that variables defined within them cannot be used outside of the function. The \"correct\" way of transmitting values back to the world is to use a `return` statement. However, a common mistake is to think that `print` does the same thing. This is understandable, since `print`ing and `returning` looks similar in a Jupyter notebook. For example, let's define a function that both `print`s and `return`s:"
   ]
  },
  {
   "cell_type": "code",
   "execution_count": 28,
   "id": "56eea64a",
   "metadata": {},
   "outputs": [],
   "source": [
    "def foo():\n",
    "    x = 42\n",
    "    y = 52\n",
    "    print(y)\n",
    "    return x"
   ]
  },
  {
   "cell_type": "markdown",
   "id": "4dc9e4a2",
   "metadata": {},
   "source": [
    "When we run this function, we'll see both values:"
   ]
  },
  {
   "cell_type": "code",
   "execution_count": 29,
   "id": "4a8628d0",
   "metadata": {},
   "outputs": [
    {
     "name": "stdout",
     "output_type": "stream",
     "text": [
      "52\n"
     ]
    },
    {
     "data": {
      "text/plain": [
       "42"
      ]
     },
     "execution_count": 29,
     "metadata": {},
     "output_type": "execute_result"
    }
   ],
   "source": [
    "z = foo()\n",
    "z"
   ]
  },
  {
   "cell_type": "markdown",
   "id": "4fde3c0c",
   "metadata": {},
   "source": [
    "Only `42` is the *output* of the cell and can be \"saved\" to a variable. `52`, on the other hand, is simply displayed to the screen and is afterwards lost forever. This can be checked by displaying the value of `z`:"
   ]
  },
  {
   "cell_type": "code",
   "execution_count": 30,
   "id": "6cec6f39",
   "metadata": {},
   "outputs": [
    {
     "data": {
      "text/plain": [
       "42"
      ]
     },
     "execution_count": 30,
     "metadata": {},
     "output_type": "execute_result"
    }
   ],
   "source": [
    "z"
   ]
  },
  {
   "cell_type": "markdown",
   "id": "f8edefa1",
   "metadata": {},
   "source": [
    "Nevertheless, using `print` inside of a function can be helpful in \"debugging\" -- more on that in a moment.\n",
    "Lastly, if you truly want to return two values from a function, the right way to do so is by separating them with a comma, as follows:"
   ]
  },
  {
   "cell_type": "code",
   "execution_count": 31,
   "id": "39a232dd",
   "metadata": {},
   "outputs": [],
   "source": [
    "def foo():\n",
    "    x = 42\n",
    "    y = 52\n",
    "    return x, y"
   ]
  },
  {
   "cell_type": "markdown",
   "id": "c695dd52",
   "metadata": {},
   "source": [
    "When the function is run, it will return a **tuple** of two things:"
   ]
  },
  {
   "cell_type": "code",
   "execution_count": 32,
   "id": "ee397305",
   "metadata": {},
   "outputs": [
    {
     "data": {
      "text/plain": [
       "(42, 52)"
      ]
     },
     "execution_count": 32,
     "metadata": {},
     "output_type": "execute_result"
    }
   ],
   "source": [
    "foo()"
   ]
  },
  {
   "cell_type": "markdown",
   "id": "3bf08049",
   "metadata": {},
   "source": [
    "A **tuple** is like a list, so we can use square bracket notation to retrieve each element:"
   ]
  },
  {
   "cell_type": "code",
   "execution_count": 33,
   "id": "cc157703",
   "metadata": {},
   "outputs": [
    {
     "data": {
      "text/plain": [
       "42"
      ]
     },
     "execution_count": 33,
     "metadata": {},
     "output_type": "execute_result"
    }
   ],
   "source": [
    "foo()[0]"
   ]
  },
  {
   "cell_type": "code",
   "execution_count": 34,
   "id": "e8f02a4c",
   "metadata": {},
   "outputs": [
    {
     "data": {
      "text/plain": [
       "52"
      ]
     },
     "execution_count": 34,
     "metadata": {},
     "output_type": "execute_result"
    }
   ],
   "source": [
    "foo()[1]"
   ]
  },
  {
   "cell_type": "markdown",
   "id": "7b28a5ca",
   "metadata": {},
   "source": [
    "We won't usually need to return more than one thing from a function, though."
   ]
  },
  {
   "cell_type": "markdown",
   "id": "17c6ed30",
   "metadata": {},
   "source": [
    "## Examples\n",
    "\n",
    "***Given a year, produce the decade***"
   ]
  },
  {
   "cell_type": "markdown",
   "id": "e58d9c36",
   "metadata": {},
   "source": [
    "Given a year, such as 1994, we'd like to retrieve the decade; in this case, 1990. At first we might think that `round` is useful:"
   ]
  },
  {
   "cell_type": "code",
   "execution_count": 35,
   "id": "3931b04d",
   "metadata": {},
   "outputs": [
    {
     "data": {
      "text/plain": [
       "1990"
      ]
     },
     "execution_count": 35,
     "metadata": {},
     "output_type": "execute_result"
    }
   ],
   "source": [
    "round(1994, -1)"
   ]
  },
  {
   "cell_type": "markdown",
   "id": "e0fcdb93",
   "metadata": {},
   "source": [
    "But it won't work for years like 1997, since it will round up:"
   ]
  },
  {
   "cell_type": "code",
   "execution_count": 36,
   "id": "c43bdbb8",
   "metadata": {},
   "outputs": [
    {
     "data": {
      "text/plain": [
       "2000"
      ]
     },
     "execution_count": 36,
     "metadata": {},
     "output_type": "execute_result"
    }
   ],
   "source": [
    "round(1997, -1)"
   ]
  },
  {
   "cell_type": "markdown",
   "id": "da35cf9d",
   "metadata": {},
   "source": [
    "There are a few approaches that do work. One way is to use the `%` operator. Remember that `x % y` returns the *remainder* upon dividing `x` by `y`. For example:"
   ]
  },
  {
   "cell_type": "code",
   "execution_count": 37,
   "id": "dd3aad5c",
   "metadata": {},
   "outputs": [
    {
     "data": {
      "text/plain": [
       "2"
      ]
     },
     "execution_count": 37,
     "metadata": {},
     "output_type": "execute_result"
    }
   ],
   "source": [
    "1992 % 10"
   ]
  },
  {
   "cell_type": "markdown",
   "id": "7692d7a4",
   "metadata": {},
   "source": [
    "To find the decade, we can simply subtract the remainder obtained by dividing by ten:"
   ]
  },
  {
   "cell_type": "code",
   "execution_count": 38,
   "id": "5fb41651",
   "metadata": {},
   "outputs": [
    {
     "data": {
      "text/plain": [
       "1990"
      ]
     },
     "execution_count": 38,
     "metadata": {},
     "output_type": "execute_result"
    }
   ],
   "source": [
    "1992 - (1992 % 10)"
   ]
  },
  {
   "cell_type": "code",
   "execution_count": 39,
   "id": "b7917e23",
   "metadata": {},
   "outputs": [
    {
     "data": {
      "text/plain": [
       "1990"
      ]
     },
     "execution_count": 39,
     "metadata": {},
     "output_type": "execute_result"
    }
   ],
   "source": [
    "1997 - (1997 % 10)"
   ]
  },
  {
   "cell_type": "code",
   "execution_count": 40,
   "id": "8184b3fb",
   "metadata": {},
   "outputs": [
    {
     "data": {
      "text/plain": [
       "2000"
      ]
     },
     "execution_count": 40,
     "metadata": {},
     "output_type": "execute_result"
    }
   ],
   "source": [
    "2000 - (2000 % 10)"
   ]
  },
  {
   "cell_type": "markdown",
   "id": "401c1dec",
   "metadata": {},
   "source": [
    "Placing this code in a function makes it so we don't have to remember this trick, and makes our code more **readable**:"
   ]
  },
  {
   "cell_type": "code",
   "execution_count": 41,
   "id": "95a9491a",
   "metadata": {},
   "outputs": [],
   "source": [
    "def decade_from_year(year):\n",
    "    return year - year % 10"
   ]
  },
  {
   "cell_type": "code",
   "execution_count": 42,
   "id": "d514b684",
   "metadata": {},
   "outputs": [
    {
     "data": {
      "text/plain": [
       "1990"
      ]
     },
     "execution_count": 42,
     "metadata": {},
     "output_type": "execute_result"
    }
   ],
   "source": [
    "decade_from_year(1992)"
   ]
  },
  {
   "cell_type": "code",
   "execution_count": 43,
   "id": "a9efb707",
   "metadata": {},
   "outputs": [
    {
     "data": {
      "text/plain": [
       "1990"
      ]
     },
     "execution_count": 43,
     "metadata": {},
     "output_type": "execute_result"
    }
   ],
   "source": [
    "decade_from_year(1997)"
   ]
  },
  {
   "cell_type": "markdown",
   "id": "ef885b79",
   "metadata": {},
   "source": [
    "***Given height and width, compute the area of a triangle***"
   ]
  },
  {
   "cell_type": "markdown",
   "id": "d9691260",
   "metadata": {},
   "source": [
    "We need to define a function with *two* variables. We do so by separating the argument names with a comma, like so:"
   ]
  },
  {
   "cell_type": "code",
   "execution_count": 44,
   "id": "cc19d8bc",
   "metadata": {},
   "outputs": [],
   "source": [
    "def area_of_triangle(base, height):\n",
    "    return 1/2 * base * height"
   ]
  },
  {
   "cell_type": "code",
   "execution_count": 45,
   "id": "42b3979d",
   "metadata": {},
   "outputs": [
    {
     "data": {
      "text/plain": [
       "25.0"
      ]
     },
     "execution_count": 45,
     "metadata": {},
     "output_type": "execute_result"
    }
   ],
   "source": [
    "area_of_triangle(10, 5)"
   ]
  },
  {
   "cell_type": "markdown",
   "id": "98967e2f",
   "metadata": {},
   "source": [
    "Note that the *order* of the arguments matters. When `area_of_triangle(10, 5)` is executed, Python assigns the value of 10 to `base` and assigns the value of 5 to `height`. If you wish, you can use the keyword argument form to call the function, in which case arguments can be provided in any order. This is slightly more readable, too:"
   ]
  },
  {
   "cell_type": "code",
   "execution_count": 46,
   "id": "e0715662",
   "metadata": {},
   "outputs": [
    {
     "data": {
      "text/plain": [
       "20.0"
      ]
     },
     "execution_count": 46,
     "metadata": {},
     "output_type": "execute_result"
    }
   ],
   "source": [
    "area_of_triangle(height=4, base=10)"
   ]
  },
  {
   "cell_type": "code",
   "execution_count": null,
   "id": "3b796122",
   "metadata": {},
   "outputs": [],
   "source": []
  }
 ],
 "metadata": {
  "kernelspec": {
   "display_name": "Python 3 (ipykernel)",
   "language": "python",
   "name": "python3"
  },
  "language_info": {
   "codemirror_mode": {
    "name": "ipython",
    "version": 3
   },
   "file_extension": ".py",
   "mimetype": "text/x-python",
   "name": "python",
   "nbconvert_exporter": "python",
   "pygments_lexer": "ipython3",
   "version": "3.10.6"
  }
 },
 "nbformat": 4,
 "nbformat_minor": 5
}
