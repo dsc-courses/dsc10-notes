{
 "cells": [
  {
   "cell_type": "markdown",
   "metadata": {},
   "source": [
    "```\n",
    "\n",
    "\n",
    "\n",
    "\n",
    "\n",
    "\n",
    "\n",
    "\n",
    "\n",
    "\n",
    "\n",
    "\n",
    "\n",
    "\n",
    "\n",
    "\n",
    "\n",
    "\n",
    "\n",
    "```"
   ]
  },
  {
   "cell_type": "markdown",
   "metadata": {},
   "source": [
    "With a solid understanding of populations and samples, we're almost ready to return to the birthday problem. But first, we'll find it useful to look at coins again. *Again!?* (yes, again)"
   ]
  },
  {
   "cell_type": "markdown",
   "metadata": {},
   "source": [
    "## Coins from a population point-of-view \n",
    "\n",
    "- frame coins as sampling from true population distribution (happens to be a probability distribution)\n",
    "- we have a coin and flip it 100 times and only get 15 Heads\n",
    "- we can use simulation to quickly estimate the probability of flipping a fair coin 100 times and getting 15 or less heads\n",
    "    - remember, this is just sampling from population, assuming it matches the uniform probability distribution\n",
    "- wow, that's a really low probability... I mean, it *could* happen... but maybe there's something else going on? Maybe the coin isn't actually fair"
   ]
  },
  {
   "cell_type": "markdown",
   "metadata": {},
   "source": [
    "## Hypotheses about the population"
   ]
  },
  {
   "cell_type": "markdown",
   "metadata": {},
   "source": [
    "- now we have two competing hypotheses:\n",
    "    - 0: The coin is fair (population is uniform)\n",
    "    - 1: The coin is biased towards Tails! (population is denser for Tails)"
   ]
  },
  {
   "cell_type": "markdown",
   "metadata": {},
   "source": [
    "## Testing your hypotheses"
   ]
  },
  {
   "cell_type": "markdown",
   "metadata": {},
   "source": [
    "- we don't have access to the population\n",
    "- need a way to see which hypothesis we should embrace\n",
    "- not necessarily which one is true, just which we'll choose to belive as the result of our experiment"
   ]
  },
  {
   "cell_type": "markdown",
   "metadata": {},
   "source": [
    "- [HT procedures]\n",
    "    - one-sided? two-sided?\n",
    "    - introduction of a 'test statistic'\n",
    "    - basically, comparing the sampling distribution of the test statistic from the hypothesized (null) population to the observed statistic from our sample, which *may perhaps* suggest that our population is potentially-different (alternate) from what we thought\n",
    "    - generalize the procedures at the end"
   ]
  },
  {
   "cell_type": "markdown",
   "metadata": {},
   "source": [
    "## The birthday problem revisited"
   ]
  },
  {
   "cell_type": "markdown",
   "metadata": {},
   "source": [
    "we're now ready to return to assumption -- *are all birthdays in the U.S. actually equally likely?* Again, ignoring leap years for simplicity."
   ]
  },
  {
   "cell_type": "markdown",
   "metadata": {},
   "source": [
    "- to put this in terms of populations, we're hypothesizing that the true population distribution of all birthdays in the United States is *uniform*.\n",
    "- ![hypothesized population distribution]\n",
    "- but, we don't have data from the entire U.S. populace. Time to look at our sample\n",
    "    - maybe some issues with the sample -- only recentish years, isn't random like what we're used to...\n",
    "- the sample looks decidedly not uniform\n",
    "    - point out some of the interesting bits\n"
   ]
  },
  {
   "cell_type": "markdown",
   "metadata": {},
   "source": [
    "- two hypotheses:\n",
    "    - 0: Population is uniform\n",
    "    - 1: Population is not uniform\n",
    "- need a way to capture the difference of a distribution"
   ]
  },
  {
   "cell_type": "markdown",
   "metadata": {},
   "source": [
    "### A new test statistic: *total variation distance*"
   ]
  },
  {
   "cell_type": "markdown",
   "metadata": {},
   "source": [
    "- [rewrite hypotheses with tvd]\n",
    "- [conduct HT]"
   ]
  },
  {
   "cell_type": "markdown",
   "metadata": {},
   "source": [
    "## Uncovering racial bias with the total variation distance\n",
    "\n",
    "- the hypothesis testing framework works with *any test statistic*, and the total variation distance is a great test statistic for categorical distributions \n",
    "- [jury selection]"
   ]
  },
  {
   "cell_type": "code",
   "execution_count": null,
   "metadata": {},
   "outputs": [],
   "source": []
  }
 ],
 "metadata": {
  "kernelspec": {
   "display_name": "Python 3",
   "language": "python",
   "name": "python3"
  },
  "language_info": {
   "codemirror_mode": {
    "name": "ipython",
    "version": 3
   },
   "file_extension": ".py",
   "mimetype": "text/x-python",
   "name": "python",
   "nbconvert_exporter": "python",
   "pygments_lexer": "ipython3",
   "version": "3.8.3"
  }
 },
 "nbformat": 4,
 "nbformat_minor": 4
}
