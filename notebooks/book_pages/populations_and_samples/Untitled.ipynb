{
 "cells": [
  {
   "cell_type": "markdown",
   "metadata": {},
   "source": [
    "```\n",
    "\n",
    "\n",
    "\n",
    "\n",
    "\n",
    "\n",
    "\n",
    "\n",
    "\n",
    "\n",
    "\n",
    "\n",
    "\n",
    "\n",
    "\n",
    "```"
   ]
  },
  {
   "cell_type": "markdown",
   "metadata": {},
   "source": [
    "In the previous chapter we ended off by talking about the \"birthday problem\" and used simulation to stumble upon a surprising result. But when we solved the problem we relied on the assumption that *every single birthday is equally likely*. Is this really a valid assumption?"
   ]
  },
  {
   "cell_type": "markdown",
   "metadata": {},
   "source": [
    "What if in actuality more people are born late in the year, or less over the summer, or very frequently nine months after a certain date?"
   ]
  },
  {
   "cell_type": "markdown",
   "metadata": {},
   "source": [
    "One way to check if birthdays are all actually equally likely is to ask everyone in the world what their birthday is... good luck with that! As it turns out, it's not feasible to ask millions of people when their birthdays are. But, we can get a pretty good idea of how birthdays are distributed by collecting a *sample* of the population."
   ]
  },
  {
   "cell_type": "markdown",
   "metadata": {},
   "source": [
    "That's precisely the issue that we'll discuss in this chapter. Many interersting data-driven questions revolve around understanding some aspect of a 'population' -- be it all people in the world, all users of a specific app, or even something like all houses in the South of France. In practice, we often can't collect data on the entire population, so instead we rely on samples to give us a representative idea of what the population actually looks like, or how it actually behaves."
   ]
  },
  {
   "cell_type": "markdown",
   "metadata": {},
   "source": [
    "## Populations"
   ]
  },
  {
   "cell_type": "markdown",
   "metadata": {},
   "source": [
    "- definition of population"
   ]
  },
  {
   "cell_type": "markdown",
   "metadata": {},
   "source": [
    "We're interested in the distribution of data for a specific population. Recall from § Exploring Data that the distribution of a feature is often referred to as the 'shape' of the data. For this chapter, and in most of your data science career, people might even just ask \"what does the data *look like*\", and usually mean \"what is its distribution\".\n",
    "\n",
    "In the scenario above we're looking at the distribution of birthdays (day of year) and we haven't yet fully specified the population that we're interested in looking at.\n",
    "\n",
    "- specifying population\n",
    "\n",
    "We happen to have a data set that was sampled from people in the United States -- so the largest population we can justify is the U.S.\n",
    "\n",
    "The {dterm}`population distribution` is the true, underlying distribution of birthdays in the United States. If we were actually able to measure *all of the population*, then the population distribution would arise.\n",
    "\n",
    "- example sketches\n",
    "    - perhaps all birthdays in the U.S. truly are equally likely, in which case we'd expect to see a population distribution like this: ![uniform birthdays]\n",
    "    - but it could very well look like this\n",
    "\n",
    "In practice, you're unlikely to find someone with enough time, patience, or grant money to conduct such a large-scale measurement, so the population distribution remains unknown to us. There is some underlying *universal truth*, but we don't know it -- we can only make educated guesses using the power of probabilities."
   ]
  },
  {
   "cell_type": "markdown",
   "metadata": {},
   "source": [
    "```\n",
    "\n",
    "\n",
    "\n",
    "```"
   ]
  },
  {
   "cell_type": "markdown",
   "metadata": {},
   "source": [
    "- if all equally likely, expect roughly a *uniform distribution* in the population\n",
    "\n",
    "- we need pictures for this chapter!!!\n",
    "- remember from Exploring Data that distribution is the *shape* of the data, we say \"what the data looks like\" and usually mean \"what is its distribution\"\n",
    "- the population distribution is the true shape of all of our underlying data -- in practice this is fixed but unknown to us!\n",
    "- we take a sample from that distribution -- more likely to pick a point from higher (more dense) areas, less likely to pick a point from lower areas\n",
    "- therefore the shape of our sample (if it's representative, large enough) *should* look pretty much the same as the general shape of our population\n",
    "- *but*, there's random chance involved! e.g., we might randomly pick more people from the low end\n",
    "- intuitively, if sometimes in each bin we randomly select more or less people, we'd expect that on average our sample should look pretty much like the population\n"
   ]
  },
  {
   "cell_type": "markdown",
   "metadata": {},
   "source": [
    "- just ask what the birthdays are of all your teammates on your local hokey team -- turns out more hockey players born in Q1"
   ]
  },
  {
   "cell_type": "markdown",
   "metadata": {},
   "source": [
    "- easter egg about Korean birthdays?"
   ]
  },
  {
   "cell_type": "markdown",
   "metadata": {},
   "source": [
    "- two ways to choose population:\n",
    "    1. What you want the result to encompass (population informs sampling)\n",
    "    2. What you ultimately sampled from (sampling informs population)\n",
    "    - number (2) *always* applies -- so even if you *wanted* your population to be the entire world, if you only sampled people from the U.S. then your population is only allowed to be the U.S."
   ]
  },
  {
   "cell_type": "markdown",
   "metadata": {},
   "source": [
    "- https://fivethirtyeight.com/features/some-people-are-too-superstitious-to-have-a-baby-on-friday-the-13th/\n",
    "- https://data.world/fivethirtyeight/births"
   ]
  },
  {
   "cell_type": "code",
   "execution_count": null,
   "metadata": {},
   "outputs": [],
   "source": []
  }
 ],
 "metadata": {
  "kernelspec": {
   "display_name": "Python 3",
   "language": "python",
   "name": "python3"
  },
  "language_info": {
   "codemirror_mode": {
    "name": "ipython",
    "version": 3
   },
   "file_extension": ".py",
   "mimetype": "text/x-python",
   "name": "python",
   "nbconvert_exporter": "python",
   "pygments_lexer": "ipython3",
   "version": "3.8.3"
  }
 },
 "nbformat": 4,
 "nbformat_minor": 4
}
