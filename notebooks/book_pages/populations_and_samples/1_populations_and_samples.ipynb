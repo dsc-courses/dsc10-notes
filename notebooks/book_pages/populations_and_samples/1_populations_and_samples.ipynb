{
 "cells": [
  {
   "cell_type": "markdown",
   "metadata": {},
   "source": [
    "# Populations and Samples"
   ]
  },
  {
   "cell_type": "markdown",
   "metadata": {},
   "source": [
    "In the previous chapter we ended off by talking about the \"birthday problem\" and used simulation to stumble upon a surprising result. But when we solved the problem we relied on the assumption that *every single birthday is equally likely*. Is this really a valid assumption?"
   ]
  },
  {
   "cell_type": "markdown",
   "metadata": {},
   "source": [
    "What if in actuality less people are born over the summer, or perhaps more people are born nine months after Valentines day? In that case, certain birthdays would be more prevalent than others. But how can we actually find out whether or not this is true?"
   ]
  },
  {
   "cell_type": "markdown",
   "metadata": {},
   "source": [
    "One way is to ask everyone in the world what their birthday is... good luck with that! As it turns out, it's not feasible to survey billions of people. Fortunately, we can get a pretty good idea of how birthdays are distributed by collecting a *sample* of the population."
   ]
  },
  {
   "cell_type": "markdown",
   "metadata": {},
   "source": [
    "This is precisely the concept we'll introduce in this chapter.\n",
    "\n",
    "Many interersting data-driven questions revolve around understanding some aspect of a 'population' -- be it all users of a specific app, all houses in the South of France, or even something like all coin flips. In practice, we usually can't collect data on the entire population, so instead we rely on samples to give us a representative idea of what the population actually looks like, or how it actually behaves."
   ]
  },
  {
   "cell_type": "markdown",
   "metadata": {},
   "source": [
    "## Populations"
   ]
  },
  {
   "cell_type": "markdown",
   "metadata": {},
   "source": [
    "A {dterm}`population` in data science and statistics is an entire group of people, objects, or events on which we're capable of collecting data, in order to answer a specific question. The answers to questions like \"do people prefer to watch content A or content B\" or \"what is a typical price for a house\" are dependent on what *population* of people or houses they're referring to. Interestingly, a population can also refer to a group of events, such as \"all fair dice rolls\"."
   ]
  },
  {
   "cell_type": "markdown",
   "metadata": {},
   "source": [
    "### Specifying a population"
   ]
  },
  {
   "cell_type": "markdown",
   "metadata": {},
   "source": [
    "There are two steps we follow to narrow in on a population.\n",
    "1. What group is our question about?\n",
    "\n",
    "    Maybe we're only interested in particular group -- like house prices specifically in the South of France. Therefore, our population would be narrowed down from all houses in the world to just houses in the South of France.\n",
    "    \n",
    "2. What group can we collect data from?\n",
    "\n",
    "    Our data collection is often a limiting factor -- for example, if we're running a survey hosted on our website then we can only collect data on the people who visit our site. Therefore, our population is narrowed down from all users of the internet to just users who visit our site. We must remember that our population during analysis is always limited by the data we collect."
   ]
  },
  {
   "cell_type": "markdown",
   "metadata": {},
   "source": [
    "In the birthday problem above, we're probably interested in the population being the entire world -- are *all* birthdays actually equally likely across the globe? However, in later exploration we'll be using [a data set](https://github.com/fivethirtyeight/data/tree/master/births) that was sampled from the United States, therefore we must narrow our population to only birthdays in the U.S. since that's the population that our data is coming from."
   ]
  },
  {
   "cell_type": "markdown",
   "metadata": {},
   "source": [
    "### Population distributions"
   ]
  },
  {
   "cell_type": "markdown",
   "metadata": {},
   "source": [
    "Recall that knowing the *distribution* of some data is imperitive to understanding and gaining insight from the data. The distribution is referred to as the 'shape' of the data, or simply what the data *looks* like."
   ]
  },
  {
   "cell_type": "markdown",
   "metadata": {},
   "source": [
    "The {dterm}`population distribution` would arise if we were able to measure a feature across the entire specified population, and in most settings the population distribution is considered *fixed* -- unchanging -- for the duration of a study. Notice that even something like the distribution of birthdays in the U.S., which technically changes every time someone is born or dies, is unlikely to change by a significant amount over the course of a study."
   ]
  },
  {
   "cell_type": "markdown",
   "metadata": {},
   "source": [
    "In most cases we don't know and will never know the true population distribution. However, in the birthday scenario above we operated under the *assumption* every birthday is equally likely. Under this assumption, our population distribution is assumed to be *uniform*. We're ignoring leap years for simplicity."
   ]
  },
  {
   "cell_type": "code",
   "execution_count": null,
   "metadata": {},
   "outputs": [],
   "source": [
    "#: Replace this cell with a drawing of a uniform population distribution\n",
    "\n",
    "import matplotlib.pyplot as plt\n",
    "import numpy as np\n",
    "\n",
    "N = 330_221_340\n",
    "\n",
    "b = np.repeat(1/365, 365)\n",
    "\n",
    "plt.bar(range(1,366), b, width=1, edgecolor='k', lw=0.1)\n",
    "plt.xlabel(\"day of year\")\n",
    "plt.ylabel(\"density\")"
   ]
  },
  {
   "cell_type": "markdown",
   "metadata": {},
   "source": [
    "**Question**:\n",
    " At the time of this writing, the United States populace is approximately $330,221,340$ people. Let's call the population size $N$. Since each of the 365 days in a year is assumed to be equally likely $P(\\text{day})=\\frac{1}{365}$ and we're using a frequentist approach to probability, $P(\\text{day})=\\frac{\\text{# people with this birthday}}{N}$, we can calculate the number of people in the U.S. that we're assuming have their birthday on any given day.\n",
    "\n",
    "<details><summary><b>Answer</b>:</summary>$$\n",
    "\\begin{aligned}\n",
    "N &= 320,221,340 \\\\\n",
    "\\\\\n",
    "P(\\text{day}) &= \\frac{1}{365} = \\frac{\\text{# people with this birthday}}{N} \\\\\n",
    "\\\\\n",
    "\\text{# people with this birthday} &= \\frac{365}{N} \\\\\n",
    "&= 904,716 \\\\\n",
    "\\end{aligned}\n",
    "$$</details>"
   ]
  },
  {
   "cell_type": "markdown",
   "metadata": {},
   "source": [
    "Buuuuut, the distribution above is still only an assumption. An assumption that we still don't know the validity of. As far as we know, the actual population distribution of birthdays in the U.S. could look quite a bit different from uniform!\n",
    "\n",
    "![other possible population distributions]\n",
    "\n",
    "The truth is: we don't know, and we'll never know what the *true* population distribution is for most measurements since it's infeasible to collect data on every individual in the population!"
   ]
  },
  {
   "cell_type": "markdown",
   "metadata": {},
   "source": [
    "#### Probability distributions"
   ]
  },
  {
   "cell_type": "markdown",
   "metadata": {},
   "source": [
    "Fortunately, a noteable exception to this dilemma comes to mind: we *do* know the true population distribution for measurements that arise from *probability distributions*.\n",
    "\n",
    "Suppose we're working with a different population, such as \"the outcomes of all fair six-sided dice rolls\". In this case, we know *by the definition of 'fair'* that the true population distribution is the uniform distribution.\n",
    "\n",
    "![uniform dice roll distribution]"
   ]
  },
  {
   "cell_type": "markdown",
   "metadata": {},
   "source": [
    "When we're working with a probability distribution, we already know the probability of each outcome -- so we already know the height of each bar/bin in the corresponding population distribution! The uniform distribution is where all outcomes have equal probability, but there are *loads* of other probability distributions out there. For example, you may have seen the 'bell curve' before, officially known as the Normal or Gaussian distribution.\n",
    "\n",
    "![probability distributions, normal and some others, labeled]\n",
    "\n",
    "So why are probability distributions helpful?\n",
    "\n",
    "Well, if we can convince ourselves that a particular population is the result of some probabilistic process -- such as fair dice rolls, fair card drawings, [more examples... maybe with some combinatorics or other distributions] -- then we know that the true population distribution will pretty much match that probability distribution!\n",
    "\n",
    "If we're not quite sure whether or not a population arises from a probabilistic process, we can still hypothesize that the population distribution looks *similar* to a probability distribution -- such is the case when we are comparing the distribution of U.S. birthdays to a uniform distribution."
   ]
  },
  {
   "cell_type": "markdown",
   "metadata": {},
   "source": [
    "## Samples"
   ]
  },
  {
   "cell_type": "markdown",
   "metadata": {},
   "source": [
    "No matter what our hypotheses may be, if we want to understand what our population looks like, we must turn to the power of sampling."
   ]
  },
  {
   "cell_type": "markdown",
   "metadata": {},
   "source": [
    "In contrast to a population, a {dterm}`sample` is a subset of individuals randomly taken from a population. While it's infeasible to collect data from every member of a population, we can easily collect data from *some* of them."
   ]
  },
  {
   "cell_type": "markdown",
   "metadata": {},
   "source": [
    "### Sampling schemes"
   ]
  },
  {
   "cell_type": "markdown",
   "metadata": {},
   "source": [
    "The process of choosing individuals from a population is called *sampling*, and while there are many different ways you can sample from a population, some approaches are better than others!\n",
    "\n",
    "For example, if we were tasked with collecting a sample of people in the U.S., in an attempt to answer the birthday assumption, we might be tempted to just ask the people around us -- you might choose to ask your classmates, or simply the first hundred people you encounter on campus. This is called a *convenience sample* because, well, it's convenient. Unfortunately it's a bad practice.\n",
    "\n",
    "Poor sampling schemes, like convenience sampling, produce samples that don't accurately represent the population. Remember that our population is determined in part by the data we're able to collect -- so when conducting convenience sampling we're essentially limiting our population to individuals in our geographical area at best."
   ]
  },
  {
   "cell_type": "markdown",
   "metadata": {},
   "source": [
    "```{margin}\n",
    "Did you know that the birthdays on sports teams are usually more common earlier in the year than later? So, if you were about to only ask your teammates on the local hockey team -- well, don't!\n",
    "\n",
    "https://en.wikipedia.org/wiki/Relative_age_effect\n",
    "https://www.wired.com/2013/03/nhl-selection-bias/\n",
    "```"
   ]
  },
  {
   "cell_type": "markdown",
   "metadata": {},
   "source": [
    "A much better sampling scheme should produce samples that are *representative* of the population -- and therefore this sample must be diverse in nature."
   ]
  },
  {
   "cell_type": "markdown",
   "metadata": {},
   "source": [
    "![convenience vs. representative doodle]"
   ]
  },
  {
   "cell_type": "markdown",
   "metadata": {},
   "source": [
    "By far the most common, simple, and yet extremely powerful method of sampling is called the \"*simple random sample*\". NumPy has a name for it too: `np.random.choice`.\n",
    "\n",
    "As you might already suspect, this representative sampling scheme boils down to one simple step: *pick individuals from the total population, completely at random*."
   ]
  },
  {
   "cell_type": "markdown",
   "metadata": {},
   "source": [
    "### Collecting a random sample"
   ]
  },
  {
   "cell_type": "markdown",
   "metadata": {},
   "source": [
    "NumPy's `random.choice` function should at least sound familiar to us by now, since we used it to simulate coin flips. In general, the function works by randomly picking elements from a sequence, like a list or an array -- in this case, randomly picking elements from a population.\n",
    "\n",
    "In the case of simulating probabilities, we're essentially sampling from a probability distribution. But, in order get some experimental data samples, we need some population data to sample from!"
   ]
  },
  {
   "cell_type": "markdown",
   "metadata": {},
   "source": [
    "How about we look at some fish? Each year in August the London Zoo measures the weight of its nearly 20,000 animal inhabitants, 7072 of which were fish as of 2019. Weight is a very powerful indivator of general health, but measuring the entire population of fish at the London Zoo is, obviously, quite an arduous process.\n",
    "\n",
    "At other points in the year we still want to track the population distribution of fish weights, but we don't want to measure all seven-thousand fish again -- nor do we need to! As long as we collect a representative sample we can avoid a lot of work and still understand roughly what distribution of weights looks like."
   ]
  },
  {
   "cell_type": "code",
   "execution_count": null,
   "metadata": {},
   "outputs": [],
   "source": [
    "# Load in an array of fish weights in kilograms\n",
    "fish = np.loadtxt('../../data/fish_kg.csv')\n",
    "fish"
   ]
  },
  {
   "cell_type": "markdown",
   "metadata": {},
   "source": [
    "Above, the 'true' population of fish weights in kilograms has been loaded into a table -- but we won't look at it just yet. Let's work on sampling first."
   ]
  },
  {
   "cell_type": "markdown",
   "metadata": {},
   "source": [
    "By calling `np.random.choice` we can don our wetsuits, pull out a single random fish from anywhere in the entire zoo, measure it and then put the fish back in its tank."
   ]
  },
  {
   "cell_type": "code",
   "execution_count": null,
   "metadata": {},
   "outputs": [],
   "source": [
    "np.random.choice(fish)"
   ]
  },
  {
   "cell_type": "markdown",
   "metadata": {},
   "source": [
    "#### Sample size and replacement"
   ]
  },
  {
   "cell_type": "markdown",
   "metadata": {},
   "source": [
    "If you remember from the last chapter, `random.choice` also accepts a `size=` argument. The name of the argument, 'size', may have seemed strange in the context of simulating coin flips, but in the context of collecting a sample it fits right in. We can set the `size=` argument to our desired sampled size!\n",
    "\n",
    "Careful though. By default, the `random.choice` function *puts the fish back* each time it samples an individual, which poses a problem if we try to sample multiple individuals. If we're unlucky, we might measure a fish, put it back, and then swim around and accidentally grab the same fish again!\n",
    "\n",
    "Instead, we want to take our sample all at the same time, *without* replacing the individual after each pull. Therefore, we must remember to specify `replace=False`.\n",
    "\n",
    "Let's try it now by filling up our scuba tank and randomly pulling aside fifty fish."
   ]
  },
  {
   "cell_type": "code",
   "execution_count": null,
   "metadata": {},
   "outputs": [],
   "source": [
    "np.random.choice(fish, size=50, replace=False)"
   ]
  },
  {
   "cell_type": "markdown",
   "metadata": {},
   "source": [
    "We now have the power to sample representatively with whatever sample size we want. One fish, two fish, ~~red fish, blue fish~~, one-hundred, two-thousand...\n",
    "\n",
    "You may have heard before that bigger sample sizes are better, so how about we go large and sample ten-thousand fish from our zoo?"
   ]
  },
  {
   "cell_type": "code",
   "execution_count": null,
   "metadata": {
    "tags": [
     "raises-exception"
    ]
   },
   "outputs": [],
   "source": [
    "np.random.choice(fish, size=10_000, replace=False)"
   ]
  },
  {
   "cell_type": "markdown",
   "metadata": {},
   "source": [
    "We can't.\n",
    "\n",
    "The error message spells out the issue nicely -- we cannot take a sample that is larger than the population if we're sampling without replacement!"
   ]
  },
  {
   "cell_type": "markdown",
   "metadata": {},
   "source": [
    "In most cases it is true that larger sample sizes are better -- we'll learn more about this in the next chapter -- but we have some notable limits. In real life, factors like cost or data availability might also limit our sample size."
   ]
  },
  {
   "cell_type": "markdown",
   "metadata": {},
   "source": [
    "#### Sampling from tables"
   ]
  },
  {
   "cell_type": "markdown",
   "metadata": {},
   "source": [
    "Sampling is the act of picking *individuals* from a population. Those individuals might posess multiple measurements, and it's important we keep those measurements together in case they have some association.\n",
    "\n",
    "When we're sampling individuals from a table, we need to create a sample of *rows*. For this, we use the DataFrame `.sample` method. It works exactly like the random choice function, but samples without replacement by default to make representative sampling easier!"
   ]
  },
  {
   "cell_type": "code",
   "execution_count": null,
   "metadata": {},
   "outputs": [],
   "source": [
    "# Load a table of fish weights and fish lengths!\n",
    "fish_frame = bpd.read_csv('../../data/fish_kg_cm.csv')"
   ]
  },
  {
   "cell_type": "markdown",
   "metadata": {},
   "source": [
    "To sample a single row of our table, the `.sample` method can be called with no arguments."
   ]
  },
  {
   "cell_type": "code",
   "execution_count": null,
   "metadata": {},
   "outputs": [],
   "source": [
    "fish_frame.sample()"
   ]
  },
  {
   "cell_type": "markdown",
   "metadata": {},
   "source": [
    "And if we want to specificy a sample size, we can just pass in the size as the first argument without needing any keywords. Remember that `replace=False` is the default behavior for sampling from tables."
   ]
  },
  {
   "cell_type": "code",
   "execution_count": null,
   "metadata": {},
   "outputs": [],
   "source": [
    "# Randomly sample 50 rows without replacement\n",
    "fish_frame.sample(50)"
   ]
  },
  {
   "cell_type": "markdown",
   "metadata": {},
   "source": [
    "### Sample distributions"
   ]
  },
  {
   "cell_type": "markdown",
   "metadata": {},
   "source": [
    "Just like populations, the distribution of a feature in our sample is called the {dterm}`sample distribution`. We can quickly use a visualization such as a bar chart or histogram to see what it looks like."
   ]
  },
  {
   "cell_type": "code",
   "execution_count": null,
   "metadata": {},
   "outputs": [],
   "source": [
    "sample = fish_frame.sample(50)\n",
    "\n",
    "sample.plot(kind='hist', y='WEIGHT', density=True)"
   ]
  },
  {
   "cell_type": "markdown",
   "metadata": {},
   "source": [
    "Each time we take a sample, we'll mostly end up collecting a different group of fish. As such, each time we collect an empirical sample distribution, it'll look a bit different.\n",
    "\n",
    "Let's take a look at a handful of sample distributions -- all coming from the same population and the same sample size."
   ]
  },
  {
   "cell_type": "code",
   "execution_count": null,
   "metadata": {},
   "outputs": [],
   "source": [
    "# You don't need to understand this plotting code, but congrats if you do :)\n",
    "import matplotlib.pyplot as plt\n",
    "\n",
    "def draw_five_samples(sample_size):\n",
    "    \"\"\"\n",
    "    Collects five random samples with a specified sample size, then plots the\n",
    "    corresponding sample distributions side-by-side.\n",
    "    \"\"\"\n",
    "\n",
    "    # Create a figure to hold five charts on the same row\n",
    "    fig, axes = plt.subplots(1, 5, sharey=True, figsize=(10, 2))\n",
    "    fig.suptitle('Sample Distributions of Weight, n=' + str(sample_size))\n",
    "\n",
    "    # Draw a sample and histogram for each chart position\n",
    "    for ax in axes:\n",
    "        fish_frame.sample(sample_size).plot(kind='hist', y='WEIGHT', density=True,\n",
    "                                            ax=ax, legend=False)"
   ]
  },
  {
   "cell_type": "code",
   "execution_count": null,
   "metadata": {},
   "outputs": [],
   "source": [
    "draw_five_samples(50)"
   ]
  },
  {
   "cell_type": "markdown",
   "metadata": {},
   "source": [
    "#### Sample distributions converge to the population distribution"
   ]
  },
  {
   "cell_type": "markdown",
   "metadata": {},
   "source": [
    "It's finally time to look at the true population distribution. This whole experiment was to find out if we truly can collect just a sample of fish weights and still determine what the population looks like. So how close did we get?"
   ]
  },
  {
   "cell_type": "code",
   "execution_count": null,
   "metadata": {},
   "outputs": [],
   "source": [
    "fish_frame.plot(kind='hist', y='WEIGHT', density=True)"
   ]
  },
  {
   "cell_type": "markdown",
   "metadata": {},
   "source": [
    "We may have gotten close, we may have been quite wrong, depending on *which sample we pulled*. Notice that there is a lot of disparity between each sample distribution, and a varying amount of disparity between the population distribution and each sample distribution.\n",
    "\n",
    "Here's where sample size starts to matter. Let's increase the number of fish we measure from fifty to one-hundred."
   ]
  },
  {
   "cell_type": "code",
   "execution_count": null,
   "metadata": {},
   "outputs": [],
   "source": [
    "draw_five_samples(100)"
   ]
  },
  {
   "cell_type": "markdown",
   "metadata": {},
   "source": [
    "Quite a bit better, right? And it's still tremendously less work than measuring the entire population of fish.\n",
    "\n",
    "As we increase sample size, sample distributions will increasingly resemble the population distribution they come from."
   ]
  },
  {
   "cell_type": "code",
   "execution_count": null,
   "metadata": {},
   "outputs": [],
   "source": [
    "draw_five_samples(500)"
   ]
  },
  {
   "cell_type": "markdown",
   "metadata": {},
   "source": [
    "#### Why do sample distributions resemble their population?"
   ]
  },
  {
   "cell_type": "markdown",
   "metadata": {},
   "source": [
    "When we take a representative sample, we are picking individuals at random from the population. Recall that when more individuals share a similar value of a feature, the population distribution is considered 'denser' at that value.\n",
    "\n",
    "![population histogram]\n",
    "\n",
    "When we randomly pick an individual, we're more likely to pick individuals from denser regions (higher bars) since there are physically more individuals in our population that exist in that range of values. The opposite can be said for regions of low density (lower bars) -- if there's a low density, we're less likely to pick an individual there.\n",
    "\n",
    "![tick marks for sampling locations]\n",
    "\n",
    "Therefore, once we've taken our full sample and plot out the sample distribution, we the sample will also exhibit more individuals from the same dense regions, and fewer individuals from the same low density regions.\n",
    "\n",
    "![arrows from population to sample distribution]\n",
    "\n",
    "Invariably, there is random chance involved during sampling, so in most cases we won't produce a sample distribution that is exactly the same as the population. Each sample looks a bit different from the population and from each other, but greater disparities have rarer probabilities. It's downright statistically *unlikely* that we could produce a large sample distribution that looks super different from our population distribution."
   ]
  }
 ],
 "metadata": {
  "kernelspec": {
   "display_name": "Python 3",
   "language": "python",
   "name": "python3"
  },
  "language_info": {
   "codemirror_mode": {
    "name": "ipython",
    "version": 3
   },
   "file_extension": ".py",
   "mimetype": "text/x-python",
   "name": "python",
   "nbconvert_exporter": "python",
   "pygments_lexer": "ipython3",
   "version": "3.8.3"
  }
 },
 "nbformat": 4,
 "nbformat_minor": 4
}
