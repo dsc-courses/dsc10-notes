{
 "cells": [
  {
   "cell_type": "markdown",
   "metadata": {},
   "source": [
    "# Parameters and statistics"
   ]
  },
  {
   "cell_type": "markdown",
   "metadata": {},
   "source": [
    "In the last section we learned about populations, samples, and their respective distributions. But throughout your career people are frequently interested in metrics -- a single number which explains something important, like [example of important real-world metric on a population.]"
   ]
  },
  {
   "cell_type": "markdown",
   "metadata": {},
   "source": [
    "## Population parameter"
   ]
  },
  {
   "cell_type": "markdown",
   "metadata": {},
   "source": [
    "The {dterm}`population parameter` refers to a desired metric of a population, and just like the population distribution a parameter is usually considered *fixed*.\n",
    "\n",
    "Remember that the *p*opulation has a *p*arameter since they both start with *p*.\n",
    "\n",
    "Using our population of fish weights, we could ask about parameters such as the mean or maximum weight, or about average variability of fish weights. For all of these potential parameters, the population produces a single value."
   ]
  },
  {
   "cell_type": "code",
   "execution_count": null,
   "metadata": {},
   "outputs": [],
   "source": [
    "import babypandas as bpd\n",
    "import numpy as np\n",
    "\n",
    "population = bpd.read_csv('../../data/fish_kg_cm.csv')"
   ]
  },
  {
   "cell_type": "code",
   "execution_count": null,
   "metadata": {},
   "outputs": [],
   "source": [
    "print('Population Mean:    ', population.get('WEIGHT').mean())\n",
    "print('Population Max:     ', population.get('WEIGHT').max())\n",
    "print('Population Variance:', np.var(population.get('WEIGHT')))"
   ]
  },
  {
   "cell_type": "markdown",
   "metadata": {},
   "source": [
    "But, we've already realized that we can't expect to measure entire populations in the real world, so we'll need work with samples instead."
   ]
  },
  {
   "cell_type": "markdown",
   "metadata": {},
   "source": [
    "## Sample statistic"
   ]
  },
  {
   "cell_type": "markdown",
   "metadata": {},
   "source": [
    "When the metric used to calculate a population parameter is used on a sample, we call it the {dterm}`sample statistic`. Just like sample distributions, a sample statistic is subject to random chance depending on what group of individuals we sample!\n",
    "\n",
    "Remember that the *s*ample produces a *s*tatistic since they both start with *s*.\n",
    "\n",
    "Just like parameters, we could calculate statistics such as the mean, max, or variance, and we'll receive a single value. But, we should expect these values to differ each time we conduct a new sample -- even when the sample remains the same size."
   ]
  },
  {
   "cell_type": "code",
   "execution_count": null,
   "metadata": {},
   "outputs": [],
   "source": [
    "sample = population.sample(100)\n",
    "\n",
    "print('Sample Mean:    ', sample.get('WEIGHT').mean())\n",
    "print('Sample Max:     ', sample.get('WEIGHT').max())\n",
    "print('Sample Variance:', np.var(sample.get('WEIGHT')))"
   ]
  },
  {
   "cell_type": "markdown",
   "metadata": {},
   "source": [
    "Ideally, we'd like to be able to use a sample statistic to provide us with an educated guess for the true population parameter. Unfortunately, it seems like the sample statistic doesn't seem to always match the parameter..."
   ]
  },
  {
   "cell_type": "code",
   "execution_count": null,
   "metadata": {},
   "outputs": [],
   "source": [
    "pop_mean = population.get('WEIGHT').mean().round(2)\n",
    "pop_max  = population.get('WEIGHT').max().round(2)\n",
    "pop_var  = np.var(population.get('WEIGHT')).round(2)\n",
    "\n",
    "# Collect a handful of samples keep track of various sample statistics for each\n",
    "\n",
    "sample_means = []\n",
    "sample_maxes = []\n",
    "sample_vars  = []\n",
    "\n",
    "for i in range(5):\n",
    "    \n",
    "    sample = population.sample(100)\n",
    "    \n",
    "    sample_means.append(sample.get('WEIGHT').mean().round(2))\n",
    "    sample_maxes.append(sample.get('WEIGHT').max().round(2))\n",
    "    sample_vars.append(np.var(sample.get('WEIGHT')).round(2))\n",
    "    \n",
    "print('Pop Mean:        ', pop_mean)\n",
    "print('Sample Means:    ', sample_means)\n",
    "print('Pop Max:         ', pop_max)\n",
    "print('Sample Maxes:    ', sample_maxes)\n",
    "print('Pop Variance:    ', pop_var)\n",
    "print('Sample Variances:', sample_vars)"
   ]
  },
  {
   "cell_type": "markdown",
   "metadata": {},
   "source": [
    "Based on what we've seen so far, it seems unlikely that the sample max will be the same as the population max, but the sample mean appears consistently close to the population mean.\n",
    "\n",
    "How close is our statistic to the parameter? How consistent is it? With what probability will the statistic equal the population parameter (within some margin-of-error, like +/- 1 gram)?\n",
    "\n",
    "With an understanding of formal mathematics and probability theory we can answer these questions! In the mean time, we can use the some approach from our introduction to probabilities: just run a simulation!"
   ]
  },
  {
   "cell_type": "markdown",
   "metadata": {},
   "source": [
    "## Sampling distribution"
   ]
  },
  {
   "cell_type": "markdown",
   "metadata": {},
   "source": [
    "Using the same general steps for simulation as we learned before, we can run an experiment to select a random sample of n=100 from the population and see what the resulting sample statistic is."
   ]
  },
  {
   "cell_type": "code",
   "execution_count": null,
   "metadata": {},
   "outputs": [],
   "source": [
    "# Write the code for a single trial\n",
    "def sample_mean(n):\n",
    "    return population.sample(n).get('WEIGHT').mean()\n",
    "\n",
    "sample_mean(100)"
   ]
  },
  {
   "cell_type": "code",
   "execution_count": null,
   "metadata": {},
   "outputs": [],
   "source": [
    "# Call the trial function a lot of times and keep track of the results\n",
    "sample_means = []\n",
    "\n",
    "for i in range(10_000):\n",
    "    sample_means.append(sample_mean(100))"
   ]
  },
  {
   "cell_type": "markdown",
   "metadata": {},
   "source": [
    "We can now calculate a specific experimental probability, like the probability that the sample mean is within +- 0.01 of the population mean. Or, better yet, we can enable ourselves to answer lots of questions about the sample statistic by plotting the *sampling distribution*.\n",
    "\n",
    "The {dterm}`sampling distribution` is the distribution of all posssible sample statistics with a fixed population and metric, and given sample size. For example, as a result of the experiment above we can plot the sampling distribution of mean fish weights at the London Zoo when the sample size is 100.\n",
    "\n",
    "Because we're running an experiment instead of calculating the theoretical probabilities, this distribution is considered *empirical*."
   ]
  },
  {
   "cell_type": "code",
   "execution_count": null,
   "metadata": {},
   "outputs": [],
   "source": [
    "sample_means_series = bpd.Series(data=sample_means)\n",
    "sample_means_series.plot(kind='hist', density=True,\n",
    "                         title=\"Empirical sampling distribution of mean fish weight, n=100\")"
   ]
  },
  {
   "cell_type": "markdown",
   "metadata": {},
   "source": [
    "On top of this plot we can overlay the true population mean."
   ]
  },
  {
   "cell_type": "code",
   "execution_count": null,
   "metadata": {},
   "outputs": [],
   "source": [
    "ax = sample_means_series.plot(kind='hist', density=True)\n",
    "# Add a vertical line at the population mean, with a red color\n",
    "ax.axvline(x=population.get('WEIGHT').mean(), c='r')"
   ]
  },
  {
   "cell_type": "markdown",
   "metadata": {},
   "source": [
    "- we've experimentally discovered that the sample mean seems centered -- so on average we should get a sample mean close to the population mean\n",
    "\n",
    "For any metric we choose, a sampling distribution exists for every possible sample size! Let's put our experiment into a function and use it to find some sampling distributions for the max weight."
   ]
  },
  {
   "cell_type": "code",
   "execution_count": null,
   "metadata": {},
   "outputs": [],
   "source": [
    "def sample_max(n):\n",
    "    return population.sample(n).get('WEIGHT').max()\n",
    "\n",
    "def sample_max_distribution(sample_size, ax=None):\n",
    "    \n",
    "    sample_maxes = []\n",
    "    \n",
    "    for i in range(1000):\n",
    "        sample_maxes.append(sample_max(sample_size))\n",
    "        \n",
    "    sample_maxes_series = bpd.Series(data=sample_maxes)\n",
    "    \n",
    "    ax = sample_maxes_series.plot(kind='hist', density=True, ax=ax)\n",
    "    ax.axvline(x=population.get('WEIGHT').max(), c='r')\n",
    "    \n",
    "    return ax"
   ]
  },
  {
   "cell_type": "markdown",
   "metadata": {},
   "source": [
    "Why are we only going to change the sample size?\n",
    "\n",
    "It's worth mentioning that the number of trials of our experiment won't affect the overall shape of the resulting sampling distribution -- only the granularity of it. Additionally, the population is fixed when we're looking at the sampling distribution, so the only think left to change is the sample size."
   ]
  },
  {
   "cell_type": "code",
   "execution_count": null,
   "metadata": {},
   "outputs": [],
   "source": [
    "sample_max_distribution(500)"
   ]
  },
  {
   "cell_type": "markdown",
   "metadata": {},
   "source": [
    "**Question**:\n",
    " Want to convince yourself that the number of trials really doesn't change our sampling distribution? See if you can modify the function above to add a `number_of_trials` argument and check it over a handful of values!\n",
    "\n",
    "<details><summary><b>Answer</b>:</summary>None</details>"
   ]
  },
  {
   "cell_type": "markdown",
   "metadata": {},
   "source": [
    "It so happens that the sample size *does* have a pretty profound effect on most sampling distributions. Let's see what happens when we increase the sample size."
   ]
  },
  {
   "cell_type": "code",
   "execution_count": null,
   "metadata": {},
   "outputs": [],
   "source": [
    "# You don't need to understand this plotting code, but congrats if you do :)\n",
    "import matplotlib.pyplot as plt\n",
    "\n",
    "def plot_three_sampling_distributions(sample_sizes):\n",
    "    \"\"\"\n",
    "    Simulates the sampling distribution of sample max for three different sample\n",
    "    sizes, then plots them side-by-side.\n",
    "    \"\"\"\n",
    "\n",
    "    # Create a figure to hold three charts on the same row\n",
    "    fig, axes = plt.subplots(1, 3, sharey=True,\n",
    "                             constrained_layout=True, figsize=(10, 3))\n",
    "    fig.suptitle('Sample Distributions of Max Weight')\n",
    "\n",
    "    # Simulate the sampling distribution for each sample size\n",
    "    for i in range(len(sample_sizes)):\n",
    "        \n",
    "        sample_max_distribution(sample_sizes[i], ax=axes[i])\n",
    "        axes[i].set_title('n='+str(sample_sizes[i]))"
   ]
  },
  {
   "cell_type": "code",
   "execution_count": null,
   "metadata": {},
   "outputs": [],
   "source": [
    "plot_three_sampling_distributions([50, 150, 300])"
   ]
  },
  {
   "cell_type": "markdown",
   "metadata": {},
   "source": [
    "As sample size increases, the sampling distribution changes significantly -- this is the case for practically any metric we choose to study. Once again, with a larger sample size, our result is better (in this case, more consistent)."
   ]
  },
  {
   "cell_type": "markdown",
   "metadata": {},
   "source": [
    "## All distributions and metrics in context"
   ]
  },
  {
   "cell_type": "markdown",
   "metadata": {},
   "source": [
    "And so, our illustration of our different distributions from the previous section grows to include a third panel.\n",
    "\n",
    "We start with a true populalation distribution for a given feature, which we don't know the shape of, and this population has a true parameter, like the population mean -- it might look like this:\n",
    "\n",
    "![population distribution, parameter]\n",
    "\n",
    "From the population distribution many possible sample distributions are drawn, but they'll usually resemble the population:\n",
    "\n",
    "![some sample distributions]\n",
    "\n",
    "Each sample distribution produces a single statistic, like the sample mean. The distribution of these sample statistics form our sampl*ing* distribution\n",
    "\n",
    "![sample statistics feeding into the sampling distribution]\n",
    "\n",
    "Every metric has a different-looking sampling distribution which will become more consistent and reliable as the sample size increases."
   ]
  }
 ],
 "metadata": {
  "kernelspec": {
   "display_name": "Python 3",
   "language": "python",
   "name": "python3"
  },
  "language_info": {
   "codemirror_mode": {
    "name": "ipython",
    "version": 3
   },
   "file_extension": ".py",
   "mimetype": "text/x-python",
   "name": "python",
   "nbconvert_exporter": "python",
   "pygments_lexer": "ipython3",
   "version": "3.8.3"
  }
 },
 "nbformat": 4,
 "nbformat_minor": 4
}
