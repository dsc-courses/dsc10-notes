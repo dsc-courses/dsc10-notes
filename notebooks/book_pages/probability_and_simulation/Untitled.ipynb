{
 "cells": [
  {
   "cell_type": "markdown",
   "metadata": {},
   "source": [
    "# Probabilities and Simulation"
   ]
  },
  {
   "cell_type": "markdown",
   "metadata": {},
   "source": [
    "Welcome to the second half of this textbook! Let's start off with a bold statement related to what we're about to learn.\n",
    "*The study of probability is the key to tackling uncertainty.*\n",
    "\n",
    "What does that mean? And, if it's true that probabilities are so powerful, then how can we use computers to leverage this power?"
   ]
  },
  {
   "cell_type": "markdown",
   "metadata": {},
   "source": [
    "## What are probabilities, and why do we use them?"
   ]
  },
  {
   "cell_type": "markdown",
   "metadata": {},
   "source": [
    "So far, we've learned how to use Python and Babypandas to answer specific questions about our data -- questions that have a definite answer. Given the proper data set, we could answer a question like \"*how many people between the age of 30-40 have diabetes?*\". However, many of the decisions we face in life arise from questions that don't have such clear-cut answers, like \"*a 35 year old patient just walked into the doctors office, do they have diabetes?*\". The outcome of this question is subject to uncertainty -- we can't be sure of the truth until it's been observed.\n",
    "\n",
    "Instead of trying to give an absolute answer to these questions, we tackle them by finding *how likely* each possible outcome is."
   ]
  },
  {
   "cell_type": "markdown",
   "metadata": {},
   "source": [
    "A {dterm}`probability` is simply a measurement representing how likely something is to happen. Probabilities range from $0$, meaning that thing will theorically never be happen, to $1$, meaning the event is theoretically certain to be observed."
   ]
  },
  {
   "cell_type": "markdown",
   "metadata": {},
   "source": [
    ".. (Not really necessary)\n",
    "\n",
    "    Right now I could claim -- with a pretty large probability of being correct -- that you've thought about the concept of probabilities before! In the past, you may have thought to yourself \"*is it worth buying this lottery ticket?*\", or \"*wow, what are the chances of that!?*\", or even \"*the answers to this test probably wouldn't have five C's in a row...*\" -- all of these are examples of thinking in terms of likelihood, and probabilities are simply a way to assign a number to each likelihood."
   ]
  },
  {
   "cell_type": "markdown",
   "metadata": {},
   "source": [
    "Let's entertain an example that we should all be familiar with: flipping a coin. Unbeknownst to most, flipping a coin is an incredibly complex process whose outcome depends on a nigh infinite number of factors: the starting orientation of the coin, the strength with which it's flipped, the presence of a breeze, the wear and tear of the coin... et cetera... all culminating with whether or not the catcher chooses to keep the coin resting in their palm or slap it on to the back of their other hand after they catch it! But in practice, we don't think about a coin flip this way. Not only is it infeasible to attempt to calculate all of those factors (lest even name them all!), but we can nicely summarize the coin flipping process with a simple {dterm}`probabilitistic model`: we expect that half of the time the coin will show Heads, and half of the time it will show Tails.\n",
    "\n",
    "The probability of a Heads is thus 0.5, written mathematically as $P(\\text{Heads})=0.5$. The probability of Tails is in this case the same, $P(\\text{Tails})=0.5$.\n",
    "\n",
    "In life we call processes like flipping a coin *random*, with outcomes that are subject to *chance*. Any time you hear these words, understand that a probabilistic model is at play, and therefore any questions about this process must be answered by working with the likelihood (probabilities) of each outcome using that model."
   ]
  },
  {
   "cell_type": "markdown",
   "metadata": {},
   "source": [
    "## Conducting an experiment"
   ]
  },
  {
   "cell_type": "markdown",
   "metadata": {},
   "source": [
    "In the coin flip example above, we knew the probabilities by assumption that the coin was fair. But what if we're the scrupulous type, and want to see for ourselves what the probabilities of flipping a Heads or Tails on a given coin truly is.\n",
    "\n",
    "In practice, we can find probabilities by conducting an experiment. In our experiment, we conduct multiple trials and keep track of how many times the particular event we're interested in occurs. For example, we could flip a coin ten times, and see how many times we get Heads. The probability of that event boils down to a simple form.\n",
    "\n",
    "$$\n",
    "P(\\text{event}) = \\frac{\\text{# of times event observed}}{\\text{# of observations}}\n",
    "$$\n",
    "\n",
    "It may come as no surprise that probabilities calculated this way are called *experimental probabilities*, as opposed to their theoretical, universal-truth counterparts."
   ]
  },
  {
   "cell_type": "markdown",
   "metadata": {},
   "source": [
    "If in our hypothetical example we flip the coin $10$ times and we get Heads $3$ times, then we conclude that our experimental probability of getting a Heads is $P(\\text{Heads}) \\approx 0.3$. Since the only other possibility is Tails, then we conclude that our experimental probability of getting a Tails is $P(\\text{Tails}) \\approx 0.7$."
   ]
  },
  {
   "cell_type": "markdown",
   "metadata": {},
   "source": [
    "[Notice that when a probability is calculated it's impossible for us to observe the event less than $0$ times and also impossible to see it more times than the number of observations. Therefore we arrive at a first important rule -\n",
    "\n",
    "$$0 <= P <= 1$$]"
   ]
  },
  {
   "cell_type": "markdown",
   "metadata": {},
   "source": [
    "[is our coin unfair?] [you may be tempted to think so, but it turns out there's a pretty good chance of us \n",
    "[what's the probability that we observe 3 out of 10 even with a fair coin?] [that's another experiment that we can conduct!] [in the mean time, it's probably best for us to just increase the number of trials]\n",
    "\n",
    "[as the number of trials goes up, we're more likely to get close to the actual underlying probability] [one way to think about the underlying theoretical probability is -- if there were an *infinite* nummber of observations, what would the empirical probability converge to?]"
   ]
  },
  {
   "cell_type": "code",
   "execution_count": null,
   "metadata": {},
   "outputs": [],
   "source": [
    "times_event_seen = 0\n",
    "trials = 10_000\n",
    "\n",
    "for i in range(trials):\n",
    "    flips = np.random.choice([True, False], 10)\n",
    "    if sum(flips) == 3:\n",
    "        times_event_seen += 1\n",
    "times_event_seen / trials"
   ]
  },
  {
   "cell_type": "markdown",
   "metadata": {},
   "source": [
    "## The math of probabilities"
   ]
  },
  {
   "cell_type": "markdown",
   "metadata": {},
   "source": [
    "Before we get too far ahead of ourselves, there are a couple properties that all probabilities satisfy which prove useful whenever you're working with them.\n",
    "\n",
    "- All probabilities are between $0$ and $1$ (inclusive)\n",
    "\n",
    "    $$0 \\leq P(\\text{event}) \\leq 1$$\n",
    "    \n",
    "- The probabilities of all possible *outcomes* of an event will sum to $1$\n",
    "\n",
    "    $$P(\\text{first possibility}) + \\cdots + P(\\text{$n$th possibility}) = 1$$\n",
    "    \n",
    "    In the example of a coin flip, the two possibilities are Heads and Tails. Therefore, no matter whether or not the coin is fair, P(Heads) + P(Tails) will always sum to 1.\n",
    "    \n",
    "- From the above we can conclude that the probability that something *doesn't* happen is $1 - P(does happen)$, [explain this (?)]\n",
    "\n",
    "    $$P(\\text{not event}) = 1 - P(\\text{event})$$\n",
    "    \n",
    "- If we know that all outcomes are equally likely, we can calculate probabilities as\n",
    "\n",
    "    $$P(event) = \\frac{P(# of possibilities that satisfy the event)}{P(# of possibilities)}$$\n",
    "    \n",
    "    This is probably the form of probability you're most familiar with, as it pertains to many things like picking cards or rolling dice."
   ]
  },
  {
   "cell_type": "code",
   "execution_count": null,
   "metadata": {},
   "outputs": [],
   "source": []
  },
  {
   "cell_type": "markdown",
   "metadata": {},
   "source": [
    "As you progress as a data scientist, you'll take courses that revolve entirely around probabilities -- this is not that course. For now, only the very basics of formal probability theory needs to be introd"
   ]
  },
  {
   "cell_type": "markdown",
   "metadata": {},
   "source": [
    "[The exact same concept holds true when applied to problems that data scientists are tasked with.]\n",
    "\n",
    "[When faced with an outcome that you're uncertain about, the best tool we have at our disposal is to think about how likely each possible outcome is.]"
   ]
  },
  {
   "cell_type": "code",
   "execution_count": null,
   "metadata": {},
   "outputs": [],
   "source": [
    "import numpy as np"
   ]
  },
  {
   "cell_type": "markdown",
   "metadata": {},
   "source": [
    "[[pitfalls of probability -- not always immediately intuitive]] [test questions -- just as likely to get five C's as you are four C's followed by a A] [Monty Hall]"
   ]
  },
  {
   "cell_type": "markdown",
   "metadata": {},
   "source": [
    "[[how probability helps us solve problems -- introduce Monty Hall, motivate simulation!]]"
   ]
  },
  {
   "cell_type": "markdown",
   "metadata": {},
   "source": [
    "## Using Python to simulate probabilities"
   ]
  },
  {
   "cell_type": "markdown",
   "metadata": {},
   "source": [
    "[one of the pitfalls of probability is that they're notoriously unintuitive]\n",
    "\n",
    "Often times it can be challenging to calculate exact probabilities using math -- and sometimes it's actually impossible! Here's where computers come to the rescue.\n",
    "\n",
    "If you're still unconvinced about the result of Monty Hall, we can run a simulation to compare the two choices."
   ]
  },
  {
   "cell_type": "markdown",
   "metadata": {},
   "source": [
    "Write code for a single trial"
   ]
  },
  {
   "cell_type": "code",
   "execution_count": null,
   "metadata": {},
   "outputs": [],
   "source": [
    "import numpy as np\n",
    "\n",
    "doors = np.random.choice(['Goat', 'Goat', 'Car'], size=3, replace=False)\n",
    "choice = np.random.choice([0, 1, 2])\n",
    "\n",
    "initial_guess = doors[choice]\n",
    "\n",
    "if initial_guess == 'Goat':\n",
    "    winning = 'Switch'\n",
    "elif initial_guess == 'Car':\n",
    "    winning = 'Stay'\n",
    "    \n",
    "winning"
   ]
  },
  {
   "cell_type": "markdown",
   "metadata": {},
   "source": [
    "Wrap it in a function"
   ]
  },
  {
   "cell_type": "code",
   "execution_count": null,
   "metadata": {},
   "outputs": [],
   "source": [
    "def run_monty_hall(do_switch=False):\n",
    "    \n",
    "    doors = np.random.choice(['Goat', 'Goat', 'Car'], size=3, replace=False)\n",
    "    choice = np.random.choice([0, 1, 2])\n",
    "\n",
    "    result = doors[choice]\n",
    "\n",
    "    if do_switch:\n",
    "        if result == 'Car':\n",
    "            result = 'Goat'\n",
    "        elif result == 'Goat':\n",
    "            result = 'Car'\n",
    "\n",
    "    return result"
   ]
  },
  {
   "cell_type": "code",
   "execution_count": null,
   "metadata": {},
   "outputs": [],
   "source": [
    "run_monty_hall(True)"
   ]
  },
  {
   "cell_type": "markdown",
   "metadata": {},
   "source": [
    "Call the function a bunch of times. How do we do this? Using a concept called 'iteration' in the form of a **for-loop**. The syntax for running something many times is as follows.\n",
    "\n",
    "```html\n",
    "for i in range(<number_of_trials>):\n",
    "    <code_that_you_want_run_each_time>\n",
    "```"
   ]
  },
  {
   "cell_type": "markdown",
   "metadata": {},
   "source": [
    "Need to save our result"
   ]
  },
  {
   "cell_type": "code",
   "execution_count": null,
   "metadata": {},
   "outputs": [],
   "source": [
    "trials = 1000\n",
    "\n",
    "yes_switch = []\n",
    "no_switch = []\n",
    "\n",
    "for i in range(trials):\n",
    "    yes = run_monty_hall(True)\n",
    "    no = run_monty_hall(False)\n",
    "    yes_switch "
   ]
  },
  {
   "cell_type": "markdown",
   "metadata": {},
   "source": [
    "Now check how many times you should have switched, versus how many times you should have stayed."
   ]
  },
  {
   "cell_type": "code",
   "execution_count": null,
   "metadata": {},
   "outputs": [],
   "source": []
  }
 ],
 "metadata": {
  "kernelspec": {
   "display_name": "Python 3",
   "language": "python",
   "name": "python3"
  },
  "language_info": {
   "codemirror_mode": {
    "name": "ipython",
    "version": 3
   },
   "file_extension": ".py",
   "mimetype": "text/x-python",
   "name": "python",
   "nbconvert_exporter": "python",
   "pygments_lexer": "ipython3",
   "version": "3.8.3"
  }
 },
 "nbformat": 4,
 "nbformat_minor": 4
}
