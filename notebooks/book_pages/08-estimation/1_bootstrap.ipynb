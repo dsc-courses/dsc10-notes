{
 "cells": [
  {
   "cell_type": "markdown",
   "metadata": {},
   "source": [
    "## Estimating a population parameter"
   ]
  },
  {
   "cell_type": "markdown",
   "metadata": {},
   "source": [
    "In the past handful of pages, we've been doing a lot of work around testing if samples fit some existing assumptions we have about their populations. But what if we don't really have assumptions about the population? Instead, we want to figure out what a population parameter might be by only using our one sample."
   ]
  },
  {
   "cell_type": "markdown",
   "metadata": {},
   "source": [
    "### The issue with just guessing the statistic"
   ]
  },
  {
   "cell_type": "markdown",
   "metadata": {},
   "source": [
    "It seems very convenient to just guess that the value of the parameter is equal to the value of the sample statistic we observed -- after all, representative samples should exhibit statistics similar to the parameter.\n",
    "\n",
    "Alas, a cautionary tale awaits you.\n",
    "\n",
    "You, a famed data magician, are tasked with demonstrating your powers by predicting the proportion of students at your school who prefer apples over oranges. You survey a bunch of students and proclaim that it's 0.7 because that's what you saw in your sample. Soon, the school performs its annual \"Apples vs Oranges\" census, and it turns out the true proportion is only 0.6... you were wrong. Your powers have been denounced and now you sit in shambles wondering how you could have prevented this from happening.\n",
    "\n",
    "Unfortunately, samples don't always turn out exactly the same. Our *best guess* for the population parameter usually *does* equal (or involve a formula based on) the statistic. But if our sample looks different each time, then our statistic will look different each time, too.\n",
    "\n",
    "Data science is not data magic. Data science is all about recognizing and embracing this uncertainty. When we make predictions, we don't just give one number, but two:\n",
    "1. What is our best guess for the parameter (a formula involving the statistic)\n",
    "2. How different could our guess have been (what we're about to learn)"
   ]
  },
  {
   "cell_type": "markdown",
   "metadata": {},
   "source": [
    "## How different could our statistic have been"
   ]
  },
  {
   "cell_type": "markdown",
   "metadata": {},
   "source": [
    "When we collect samples from a population distribution, each sample will resemble the population distribution in shape. Due to the randomness of sampling, though, there will be a bit of variability in the sample, and thus in the statistic as well.\n",
    "\n",
    "We can see this directly by loading in a population distribution, then taking a bunch of samples and plotting the empirical {dterm}`sampling distribution` (distribution of sample statistics). Let's look at the salary dataset again. Because it's a very skewed population, we'll be computing the median salary and overlay this true population proportion on each of our plots. We'll use samples of size 100 for simplicity."
   ]
  },
  {
   "cell_type": "code",
   "execution_count": null,
   "metadata": {},
   "outputs": [],
   "source": [
    "import babypandas as bpd\n",
    "import numpy as np\n",
    "import matplotlib.pyplot as plt"
   ]
  },
  {
   "cell_type": "code",
   "execution_count": null,
   "metadata": {},
   "outputs": [],
   "source": [
    "population = bpd.read_csv('../../data/salaries.csv', names=['Salary'])\n",
    "pop_median = population.get('Salary').median()\n",
    "print('Population median:', pop_median)\n",
    "population.plot(kind='hist', density=True)\n",
    "plt.title('Population distribution')\n",
    "plt.axvline(pop_median, c='gold')"
   ]
  },
  {
   "cell_type": "code",
   "execution_count": null,
   "metadata": {},
   "outputs": [],
   "source": [
    "trials = 10_000\n",
    "\n",
    "sample_medians = []\n",
    "\n",
    "for i in range(trials):\n",
    "    sample = population.sample(100)\n",
    "    median = sample.get('Salary').median()\n",
    "    sample_medians.append(median)\n",
    "    \n",
    "plt.hist(sample_medians, density=True)\n",
    "plt.title('Distribution of sample medians')\n",
    "\n",
    "plt.axvline(pop_median, c='gold')"
   ]
  },
  {
   "cell_type": "markdown",
   "metadata": {},
   "source": [
    "With this distribution of the sample statistic computed, it's very easy to see how different any one observed statistic could have been. There are a whole range of values that we could have randomly seen. Relatively often we could randomly find a sample with a statistic in the middle -- pretty close to the true population median of 100,000. But not all the time. Most of the time, our randomly observed sample median seems to fall somewhere in the range between 90,000 and 110,000."
   ]
  },
  {
   "cell_type": "markdown",
   "metadata": {},
   "source": [
    "## Confidence intervals"
   ]
  },
  {
   "cell_type": "markdown",
   "metadata": {},
   "source": [
    "- if we can somehow generate a sampling distribution, then we can uncover the range of values that "
   ]
  },
  {
   "cell_type": "markdown",
   "metadata": {},
   "source": [
    "---"
   ]
  },
  {
   "cell_type": "markdown",
   "metadata": {},
   "source": [
    "This sampling distribution is a true representation of how different our sample statistic could have been. Sadly, in the real world we can't actually generate all of these new samples to calculate the sampling distribution because we don't have access to multiple samples! In most cases, we only have a single sample."
   ]
  },
  {
   "cell_type": "code",
   "execution_count": null,
   "metadata": {},
   "outputs": [],
   "source": [
    "sample = population.sample(100)"
   ]
  },
  {
   "cell_type": "markdown",
   "metadata": {},
   "source": [
    "How can we use this one sample to replicate a sampling distribution which comes from *lots* of samples?"
   ]
  },
  {
   "cell_type": "markdown",
   "metadata": {},
   "source": [
    "### The bootstrap"
   ]
  },
  {
   "cell_type": "markdown",
   "metadata": {},
   "source": [
    "To "
   ]
  },
  {
   "cell_type": "markdown",
   "metadata": {},
   "source": [
    "- so now comes question \"how can we create a sampling distribution when we don't have a population to sample from!\"\n",
    "- true, we don't have the population distribution to take new samples from. However if we could use a distribution that looks *similar* to the population, we could conceivably take new samples from that similar distribution instead.\n",
    "- turns out we do have a distribution that is similar to the population -- the sample itself!\n",
    "- let's try it -- let's repeat the process of taking new samples from the population, only this time we pretend that our original sample *is* the population\n",
    "    - because the entire process is the same, we should continue to take the same sample size\n",
    "    - it's worth noting that we *must* take these samples with replacement -- otherwise every single sample will look exactly the same (try picking n items from a collection of n items, without replacement -- yeah.)"
   ]
  },
  {
   "cell_type": "markdown",
   "metadata": {},
   "source": [
    "```\n",
    "\n",
    "\n",
    "\n",
    "\n",
    "\n",
    "\n",
    "\n",
    "\n",
    "\n",
    "\n",
    "```"
   ]
  },
  {
   "cell_type": "markdown",
   "metadata": {},
   "source": [
    "- bootstrap -- here's how we find out how different it could have been\n",
    "    - problem, can't go back and get more data\n",
    "    - imagine we could, then we could keep getting more samples and see how diff answer could have been (begin introducing concept of confidence interval, like it looks like stat lies in this range) -- might want to actually run that experiment, show the sampling distribution, that shows how different it could have been\n",
    "    - BUT, we can't actually get new samples\n",
    "    - we don't have the population to take new samples from, but we can replace it with something that looks pretty similar to the population -- the sample itself!\n",
    "    - since we're pretending we're sampling from the population, we should take same sample size"
   ]
  },
  {
   "cell_type": "markdown",
   "metadata": {},
   "source": [
    "- bootstrap -- \n",
    "    - we want to sample from a distribution that looks like this (true population)\n",
    "    - we don't have that exact distribution, but we hopefully have something that looks *really close* (the sample distribution!). So let's sample from that!\n",
    "    - lots of statistics are a property of the *distribution* -- so as long as the distribution looks similar to the right distribution, we don't care if there are duplicates!\n",
    "    - some statistics work well with bootstrap, some don't (like mean vs max)"
   ]
  },
  {
   "cell_type": "markdown",
   "metadata": {},
   "source": [
    "- lots of people get confused between when to use permutation or bootstrap -- so we don't need to emphasize the similarities too much, maybe just a sentence and then follow it up by saying \"But, not for the same thing\"\n",
    "- differences: Permutation test is for two samples, want to see if from same population; HT. Bootstrap when have one sample, and want to generate more samples; CI.\n",
    "\n",
    "- both work by saying we don't have assumptions about distribution, so we need to be clever about rearranging our current data\n",
    "\n",
    "- one way we can do things in statistics is by operating under really rigid assumptions -- then can use math\n",
    "- other way doesn't make this strict "
   ]
  },
  {
   "cell_type": "markdown",
   "metadata": {},
   "source": [
    "- do bootstrap examples for median or other stats *not* informed by central limit theorem\n",
    "- we want them to be useful examples where CLT won't work"
   ]
  },
  {
   "cell_type": "code",
   "execution_count": null,
   "metadata": {},
   "outputs": [],
   "source": []
  },
  {
   "cell_type": "markdown",
   "metadata": {},
   "source": [
    "- how to introduce need for CI:\n",
    "    - say \"It could have been different!\"\n",
    "    - sure, we could say it's equal to the sample stat, but am I really confident that's right?\n",
    "    - I want to know how accurate I am\n",
    "    - How different could my answer have been?\n",
    "    - If it could have be really different, I'm not super confident in my answer\n",
    "    - if it couldn't have been really different than I can be confident!\n",
    "    - only issue with confidence -- you're not 95% sure you're answer is right -- you're pretty sure that the answer is *close*\n",
    "    - you're not confident that your answer is right, you're confident that your answer is *close*\n",
    "    \n",
    "    \n",
    "- order:\n",
    "    - want to estimate\n",
    "    - sure we can guess our sample statistic\n",
    "    - but our sample could have been really different!\n",
    "    - bootstrap -- here's how we find out how different it could have been\n",
    "        - problem, can't go back and get more data\n",
    "        - imagine we could, then we could keep getting more samples and see how diff answer could have been (begin introducing concept of confidence interval, like it looks like stat lies in this range) -- might want to actually run that experiment, show the sampling distribution, that shows how different it could have been\n",
    "        - BUT, we can't actually get new samples\n",
    "        - we don't have the population to take new samples from, but we can replace it with something that looks pretty similar to the population -- the sample itself!\n",
    "        - since we're pretending we're sampling from the population, we should take same sample size\n",
    "    - then CI\n",
    "    - then CI/HT duality\n",
    "    \n",
    "- can use error probabilities to link the HT and CI\n",
    "- let's get a bunch of samples, run bootstrap on each, build CI on each, and see how often we're wrong\n",
    "\n",
    "- is important to run experiment and explain that you can (and will) be wrong x% of time\n",
    "\n",
    "\n",
    "\n",
    "\n",
    "\n",
    "- **a statistic is a property of a distribution**\n",
    "- we can have two different distributions with the same statistic, but if the same statistic is different then it *must* imply the distributions are different"
   ]
  },
  {
   "cell_type": "code",
   "execution_count": null,
   "metadata": {},
   "outputs": [],
   "source": []
  }
 ],
 "metadata": {
  "kernelspec": {
   "display_name": "Python 3",
   "language": "python",
   "name": "python3"
  },
  "language_info": {
   "codemirror_mode": {
    "name": "ipython",
    "version": 3
   },
   "file_extension": ".py",
   "mimetype": "text/x-python",
   "name": "python",
   "nbconvert_exporter": "python",
   "pygments_lexer": "ipython3",
   "version": "3.8.3"
  }
 },
 "nbformat": 4,
 "nbformat_minor": 4
}
