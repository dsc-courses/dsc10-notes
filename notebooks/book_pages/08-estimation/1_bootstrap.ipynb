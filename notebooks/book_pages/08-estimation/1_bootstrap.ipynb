{
 "cells": [
  {
   "cell_type": "markdown",
   "metadata": {},
   "source": []
  },
  {
   "cell_type": "markdown",
   "metadata": {},
   "source": [
    "- bootstrap -- \n",
    "    - we want to sample from a distribution that looks like this (true population)\n",
    "    - we don't have that exact distribution, but we hopefully have something that looks *really close* (the sample distribution!). So let's sample from that!\n",
    "    - lots of statistics are a property of the *distribution* -- so as long as the distribution looks similar to the right distribution, we don't care if there are duplicates!\n",
    "    - some statistics work well with bootstrap, some don't (like mean vs max)"
   ]
  }
 ],
 "metadata": {
  "kernelspec": {
   "display_name": "Python 3",
   "language": "python",
   "name": "python3"
  },
  "language_info": {
   "codemirror_mode": {
    "name": "ipython",
    "version": 3
   },
   "file_extension": ".py",
   "mimetype": "text/x-python",
   "name": "python",
   "nbconvert_exporter": "python",
   "pygments_lexer": "ipython3",
   "version": "3.8.3"
  }
 },
 "nbformat": 4,
 "nbformat_minor": 4
}
