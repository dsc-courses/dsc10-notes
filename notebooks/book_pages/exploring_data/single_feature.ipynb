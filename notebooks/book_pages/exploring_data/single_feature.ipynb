{
 "cells": [
  {
   "cell_type": "markdown",
   "metadata": {},
   "source": [
    "# Distribution of a single feature"
   ]
  },
  {
   "cell_type": "markdown",
   "metadata": {},
   "source": [
    "[more to data than just a metric] [but, hard to explore and interpret patterns from a table. Going along with \"a picture is worth 1000 words\", we use charts to more easily explore, interpret, and communicate interesting aspects or patterns in our data.]"
   ]
  },
  {
   "cell_type": "markdown",
   "metadata": {},
   "source": [
    "[single feature -- what does the distribution look like?]\n",
    "[bar charts"
   ]
  },
  {
   "cell_type": "code",
   "execution_count": null,
   "metadata": {},
   "outputs": [],
   "source": [
    "import babypandas as bpd\n",
    "climate = bpd.read_csv('../data/climate.csv')\n",
    "fires = bpd.read_csv('../data/calfire-full.csv')"
   ]
  },
  {
   "cell_type": "code",
   "execution_count": null,
   "metadata": {},
   "outputs": [],
   "source": [
    "def fireclass(acres):\n",
    "    if acres < 0.25:\n",
    "        return 'A'\n",
    "    elif acres < 10:\n",
    "        return 'B'\n",
    "    elif acres < 100:\n",
    "        return 'C'\n",
    "    elif acres < 300:\n",
    "        return 'D'\n",
    "    elif acres < 1000:\n",
    "        return 'E'\n",
    "    else:\n",
    "        return 'F'"
   ]
  },
  {
   "cell_type": "code",
   "execution_count": null,
   "metadata": {},
   "outputs": [],
   "source": [
    "fires = fires.assign(size=fires.get('acres').apply(fireclass))"
   ]
  },
  {
   "cell_type": "code",
   "execution_count": null,
   "metadata": {},
   "outputs": [],
   "source": [
    "fires.groupby('size').count().plot(kind='bar', y='name')"
   ]
  },
  {
   "cell_type": "code",
   "execution_count": null,
   "metadata": {},
   "outputs": [],
   "source": [
    "climate.plot(kind='hist', y='temperature')"
   ]
  },
  {
   "cell_type": "code",
   "execution_count": null,
   "metadata": {},
   "outputs": [],
   "source": [
    "climate.plot(kind='scatter', x='rainfall', y='pdsi')"
   ]
  },
  {
   "cell_type": "code",
   "execution_count": null,
   "metadata": {},
   "outputs": [],
   "source": [
    "climate[(climate.get('pdsi') < -4) & (climate.get('rainfall') > 30)]"
   ]
  },
  {
   "cell_type": "code",
   "execution_count": null,
   "metadata": {},
   "outputs": [],
   "source": [
    "climate.plot(kind='scatter', x='temperature', y='pdsi')"
   ]
  },
  {
   "cell_type": "code",
   "execution_count": null,
   "metadata": {},
   "outputs": [],
   "source": [
    "climate.plot(kind='scatter', x='rainfall', y='temperature')"
   ]
  },
  {
   "cell_type": "code",
   "execution_count": null,
   "metadata": {},
   "outputs": [],
   "source": [
    "climate.plot(kind='line', x='year', y='temperature')"
   ]
  },
  {
   "cell_type": "code",
   "execution_count": null,
   "metadata": {},
   "outputs": [],
   "source": [
    "climate.plot(kind='line', x='year', y='rainfall')"
   ]
  },
  {
   "cell_type": "code",
   "execution_count": null,
   "metadata": {},
   "outputs": [],
   "source": [
    "fires_per_year = fires.get(['year', 'name']).groupby('year').count()\n",
    "fires_per_year = fires_per_year.assign(count=fires_per_year.get('name')).drop(columns=['name'])\n",
    "fires_per_year.plot(kind='line', y='count')"
   ]
  },
  {
   "cell_type": "code",
   "execution_count": null,
   "metadata": {},
   "outputs": [],
   "source": [
    "fireacres = fires.groupby('year').mean().get(['acres']).reset_index()\n",
    "fireacres"
   ]
  },
  {
   "cell_type": "code",
   "execution_count": null,
   "metadata": {},
   "outputs": [],
   "source": [
    "ccom = climate.merge(fireacres, on='year')"
   ]
  },
  {
   "cell_type": "code",
   "execution_count": null,
   "metadata": {},
   "outputs": [],
   "source": [
    "ccom"
   ]
  },
  {
   "cell_type": "code",
   "execution_count": null,
   "metadata": {},
   "outputs": [],
   "source": [
    "ccom.plot(kind='scatter', x='pdsi', y='acres')"
   ]
  },
  {
   "cell_type": "code",
   "execution_count": null,
   "metadata": {},
   "outputs": [],
   "source": [
    "fires_per_year"
   ]
  },
  {
   "cell_type": "code",
   "execution_count": null,
   "metadata": {},
   "outputs": [],
   "source": [
    "combined = fires_per_year.merge(climate, left_index=True, right_on='year')\n",
    "combined"
   ]
  },
  {
   "cell_type": "code",
   "execution_count": null,
   "metadata": {},
   "outputs": [],
   "source": [
    "fires_per_year.plot(kind='hist', y='count')"
   ]
  },
  {
   "cell_type": "code",
   "execution_count": null,
   "metadata": {},
   "outputs": [],
   "source": [
    "combined.plot(kind='scatter', x='temperature', y='count')"
   ]
  },
  {
   "cell_type": "code",
   "execution_count": null,
   "metadata": {},
   "outputs": [],
   "source": [
    "combined[(combined.get('temperature') < 53) & (combined.get('count') > 400)]"
   ]
  },
  {
   "cell_type": "code",
   "execution_count": null,
   "metadata": {},
   "outputs": [],
   "source": [
    "combined[(combined.get('temperature') < 55) & (combined.get('count') > 500)]"
   ]
  },
  {
   "cell_type": "code",
   "execution_count": null,
   "metadata": {},
   "outputs": [],
   "source": []
  },
  {
   "cell_type": "markdown",
   "metadata": {},
   "source": [
    "```\n",
    "\n",
    "\n",
    "\n",
    "\n",
    "\n",
    "\n",
    "\n",
    "\n",
    "\n",
    "\n",
    "\n",
    "\n",
    "\n",
    "\n",
    "\n",
    "\n",
    "\n",
    "\n",
    "\n",
    "\n",
    "\n",
    "\n",
    "\n",
    "\n",
    "\n",
    "\n",
    "\n",
    "\n",
    "\n",
    "\n",
    "\n",
    "\n",
    "\n",
    "\n",
    "```"
   ]
  },
  {
   "cell_type": "code",
   "execution_count": null,
   "metadata": {},
   "outputs": [],
   "source": []
  },
  {
   "cell_type": "code",
   "execution_count": null,
   "metadata": {},
   "outputs": [],
   "source": []
  },
  {
   "cell_type": "code",
   "execution_count": null,
   "metadata": {},
   "outputs": [],
   "source": []
  },
  {
   "cell_type": "code",
   "execution_count": null,
   "metadata": {},
   "outputs": [],
   "source": []
  },
  {
   "cell_type": "code",
   "execution_count": null,
   "metadata": {},
   "outputs": [],
   "source": [
    "import pandas as pd\n",
    "import babypandas as bpd"
   ]
  },
  {
   "cell_type": "code",
   "execution_count": null,
   "metadata": {},
   "outputs": [],
   "source": [
    "nskip = 4\n",
    "temp = pd.read_csv(\"../data/avg-temp-by-year.csv\", skiprows=nskip)\n",
    "rain = pd.read_csv(\"../data/avg-rain-by-year.csv\", skiprows=nskip)\n",
    "drought = pd.read_csv('../data/july-drought-index.csv', skiprows=3)"
   ]
  },
  {
   "cell_type": "code",
   "execution_count": null,
   "metadata": {},
   "outputs": [],
   "source": [
    "drought"
   ]
  },
  {
   "cell_type": "code",
   "execution_count": null,
   "metadata": {},
   "outputs": [],
   "source": [
    "newtemp = (\n",
    "    temp.rename(columns={\n",
    "        'Date': 'year',\n",
    "        'Value': 'temperature'\n",
    "    })\n",
    "    .drop(columns=['Anomaly'])\n",
    "    .assign(year=temp.Date.astype(str).str[:4].astype(int))\n",
    ")\n",
    "newtemp"
   ]
  },
  {
   "cell_type": "code",
   "execution_count": null,
   "metadata": {},
   "outputs": [],
   "source": [
    "newrain = (\n",
    "    rain.rename(columns={\n",
    "        'Date': 'year',\n",
    "        'Value': 'rainfall'\n",
    "    })\n",
    "    .drop(columns=['Anomaly'])\n",
    "    .assign(year=rain.Date.astype(str).str[:4].astype(int))\n",
    ")\n",
    "newrain"
   ]
  },
  {
   "cell_type": "code",
   "execution_count": null,
   "metadata": {},
   "outputs": [],
   "source": [
    "newdrought = (\n",
    "    drought.rename(columns={\n",
    "        'Date': 'year',\n",
    "        'Value': 'pdsi'\n",
    "    })\n",
    "    .drop(columns=['Anomaly'])\n",
    "    .assign(year=drought.Date.astype(str).str[:4].astype(int))\n",
    ")\n",
    "newdrought"
   ]
  },
  {
   "cell_type": "code",
   "execution_count": null,
   "metadata": {},
   "outputs": [],
   "source": []
  },
  {
   "cell_type": "code",
   "execution_count": null,
   "metadata": {},
   "outputs": [],
   "source": [
    "df = pd.DataFrame().assign(year=np.arange(1898, 2020))"
   ]
  },
  {
   "cell_type": "code",
   "execution_count": null,
   "metadata": {},
   "outputs": [],
   "source": [
    "for i in range(1,13):\n",
    "    mo = str(i).zfill(2)\n",
    "    df[mo] = pd.read_csv(f\"../data/pdsi/{mo}.csv\", skiprows=3).Value"
   ]
  },
  {
   "cell_type": "code",
   "execution_count": null,
   "metadata": {},
   "outputs": [],
   "source": [
    "df = df.set_index('year')"
   ]
  },
  {
   "cell_type": "code",
   "execution_count": null,
   "metadata": {},
   "outputs": [],
   "source": [
    "pdsis = df.apply(np.mean, axis=1).reset_index().rename(columns={0:'pdsi'})\n",
    "pdsis"
   ]
  },
  {
   "cell_type": "code",
   "execution_count": null,
   "metadata": {},
   "outputs": [],
   "source": [
    "data = newtemp.merge(newrain, on='year').merge(pdsis, on='year')\n",
    "data"
   ]
  },
  {
   "cell_type": "code",
   "execution_count": null,
   "metadata": {},
   "outputs": [],
   "source": [
    "data.to_csv('../data/climate.csv', index=False)"
   ]
  },
  {
   "cell_type": "code",
   "execution_count": null,
   "metadata": {},
   "outputs": [],
   "source": []
  },
  {
   "cell_type": "code",
   "execution_count": null,
   "metadata": {},
   "outputs": [],
   "source": [
    "data = temp.m"
   ]
  },
  {
   "cell_type": "code",
   "execution_count": null,
   "metadata": {},
   "outputs": [],
   "source": []
  },
  {
   "cell_type": "markdown",
   "metadata": {},
   "source": [
    "What does it mean to 'visualize' data? Broadly, a visualization is a graphical representation of data that makes it easier to explore, interpret, and communicate the data.\n",
    "\n",
    "A table is -- technically -- a type of visualization. It's just not always the most effective way to look at numbers.\n",
    "\n",
    "[take this example of average precipitation in California by month. ] [table vs chart]\n",
    "\n",
    "\n",
    "\n",
    "[compare rainfall to max temperature -- negative correlation]\n",
    "\n",
    "[easier to see context, easier to compare, easier to find patterns]"
   ]
  },
  {
   "cell_type": "code",
   "execution_count": null,
   "metadata": {},
   "outputs": [],
   "source": []
  },
  {
   "cell_type": "code",
   "execution_count": null,
   "metadata": {},
   "outputs": [],
   "source": [
    "import babypandas as bpd"
   ]
  },
  {
   "cell_type": "code",
   "execution_count": null,
   "metadata": {},
   "outputs": [],
   "source": [
    "temps = \"45.1  48.5  51.8  56.5  63.1  70.2  75.3  74.6  69.9  61.6  51.1  45.0   59.4\".split()"
   ]
  },
  {
   "cell_type": "code",
   "execution_count": null,
   "metadata": {},
   "outputs": [],
   "source": [
    "prcps = \"4.15  3.95  3.55  1.40   .83   .32   .19   .30   .58  1.20  2.62  3.10   22.18\".split()"
   ]
  },
  {
   "cell_type": "code",
   "execution_count": null,
   "metadata": {},
   "outputs": [],
   "source": [
    "cols = \"JAN   FEB   MAR   APR   MAY   JUN   JUL   AUG   SEP   OCT   NOV   DEC   YEAR\".split()"
   ]
  },
  {
   "cell_type": "code",
   "execution_count": null,
   "metadata": {},
   "outputs": [],
   "source": [
    "df = bpd.DataFrame.from_records([temps, prcps], columns=cols)"
   ]
  },
  {
   "cell_type": "code",
   "execution_count": null,
   "metadata": {},
   "outputs": [],
   "source": [
    "df"
   ]
  },
  {
   "cell_type": "code",
   "execution_count": null,
   "metadata": {},
   "outputs": [],
   "source": [
    "d = {\n",
    "    'TEMPERATURE': [float(e) for e in temps[:-1]],\n",
    "    'PRECIP': [float(e) for e in prcps[:-1]],\n",
    "    'MONTH': range(1,13)\n",
    "}"
   ]
  },
  {
   "cell_type": "code",
   "execution_count": null,
   "metadata": {},
   "outputs": [],
   "source": [
    "df = bpd.DataFrame.from_dict(d).set_index('MONTH')\n",
    "df"
   ]
  },
  {
   "cell_type": "code",
   "execution_count": null,
   "metadata": {},
   "outputs": [],
   "source": [
    "df.plot(y='TEMPERATURE')"
   ]
  },
  {
   "cell_type": "code",
   "execution_count": null,
   "metadata": {},
   "outputs": [],
   "source": [
    "df.plot(y='PRECIP')"
   ]
  },
  {
   "cell_type": "code",
   "execution_count": null,
   "metadata": {},
   "outputs": [],
   "source": [
    "df.plot(kind='scatter', x='TEMPERATURE', y='PRECIP')"
   ]
  },
  {
   "cell_type": "code",
   "execution_count": null,
   "metadata": {},
   "outputs": [],
   "source": [
    "ax = df.plot(y='TEMPERATURE')\n",
    "df.plot(ax=ax, y='PRECIP')"
   ]
  },
  {
   "cell_type": "code",
   "execution_count": null,
   "metadata": {},
   "outputs": [],
   "source": [
    "fires = bpd.read_csv('../data/calfire-full.csv')"
   ]
  },
  {
   "cell_type": "code",
   "execution_count": null,
   "metadata": {},
   "outputs": [],
   "source": [
    "fires.get('year').min()"
   ]
  },
  {
   "cell_type": "code",
   "execution_count": null,
   "metadata": {},
   "outputs": [],
   "source": [
    "burnt_2017 = fires[fires.get('year') == 2017].groupby('county').sum().get('acres')"
   ]
  },
  {
   "cell_type": "code",
   "execution_count": null,
   "metadata": {},
   "outputs": [],
   "source": [
    "burnt_2017.sort_values(ascending=False).iloc[:10].plot(kind='barh')"
   ]
  },
  {
   "cell_type": "code",
   "execution_count": null,
   "metadata": {},
   "outputs": [],
   "source": []
  },
  {
   "cell_type": "code",
   "execution_count": null,
   "metadata": {},
   "outputs": [],
   "source": []
  },
  {
   "cell_type": "code",
   "execution_count": null,
   "metadata": {},
   "outputs": [],
   "source": [
    "fires_per_month = (\n",
    "    fires.get(['name', 'month']).groupby('month').count()\n",
    ")\n",
    "fires_per_month = (\n",
    "    fires_per_month\n",
    "    .assign(count=fires_per_month.get('name')).drop(columns='name')\n",
    ")"
   ]
  },
  {
   "cell_type": "code",
   "execution_count": null,
   "metadata": {},
   "outputs": [],
   "source": [
    "fires_per_month.plot(kind='bar', y='count')"
   ]
  },
  {
   "cell_type": "code",
   "execution_count": null,
   "metadata": {},
   "outputs": [],
   "source": [
    "fires.plot(kind='hist', y='acres')"
   ]
  },
  {
   "cell_type": "markdown",
   "metadata": {},
   "source": [
    "So what's going on here?"
   ]
  },
  {
   "cell_type": "code",
   "execution_count": null,
   "metadata": {},
   "outputs": [],
   "source": [
    "fires[fires.get('acres') < 100_000].plot(kind='hist', y='acres')"
   ]
  },
  {
   "cell_type": "markdown",
   "metadata": {},
   "source": [
    "[scatter: trying to see the relationship between two numerical measurements]\n",
    "```html\n",
    "<table>.plot(\n",
    "    kind='scatter',\n",
    "    x=<horizontal_column_name>,\n",
    "    y=<vertical_column_name>\n",
    ")\n",
    "```\n",
    "\n",
    "[line: like scatter but used primarily when something is over time]\n",
    "```html\n",
    "<table>.plot(\n",
    "    kind='line',\n",
    "    x=<horizontal_column_name>, # The time column\n",
    "    y=<vertical_column_name>\n",
    ")\n",
    "```\n",
    "\n",
    "\n",
    "[categorical: want to put thigns in to context when comparing them -- viz is a great way to do that]"
   ]
  },
  {
   "cell_type": "code",
   "execution_count": null,
   "metadata": {},
   "outputs": [],
   "source": [
    "import babypandas as bpd\n",
    "\n",
    "fires = bpd.read_csv('../data/calfire-full.csv')\n",
    "fires.iloc[:5]"
   ]
  },
  {
   "cell_type": "code",
   "execution_count": null,
   "metadata": {},
   "outputs": [],
   "source": [
    "parks = bpd.read_csv('../data/parks.csv')\n",
    "salaries = bpd.read_csv('../data/salaries.csv')"
   ]
  },
  {
   "cell_type": "code",
   "execution_count": null,
   "metadata": {},
   "outputs": [],
   "source": [
    "fires.get(['year', 'acres']).groupby('year').count().plot(y='acres')"
   ]
  },
  {
   "cell_type": "code",
   "execution_count": null,
   "metadata": {},
   "outputs": [],
   "source": [
    "fires[fires.get('year') > 1950].get(['month', 'acres']).groupby('month').mean().plot()"
   ]
  },
  {
   "cell_type": "code",
   "execution_count": null,
   "metadata": {},
   "outputs": [],
   "source": [
    "fires.plot(kind='scatter', x='longitude', y='latitude')"
   ]
  },
  {
   "cell_type": "code",
   "execution_count": null,
   "metadata": {},
   "outputs": [],
   "source": [
    "(\n",
    "    fires\n",
    "    .get(['county', 'name'])\n",
    "    .groupby('county')\n",
    "    .count()\n",
    "    .sort_values(by='name')\n",
    "    .plot(kind='barh', figsize=[5, 15])\n",
    ")"
   ]
  },
  {
   "cell_type": "code",
   "execution_count": null,
   "metadata": {},
   "outputs": [],
   "source": []
  }
 ],
 "metadata": {
  "kernelspec": {
   "display_name": "Python 3",
   "language": "python",
   "name": "python3"
  },
  "language_info": {
   "codemirror_mode": {
    "name": "ipython",
    "version": 3
   },
   "file_extension": ".py",
   "mimetype": "text/x-python",
   "name": "python",
   "nbconvert_exporter": "python",
   "pygments_lexer": "ipython3",
   "version": "3.8.3"
  }
 },
 "nbformat": 4,
 "nbformat_minor": 4
}
